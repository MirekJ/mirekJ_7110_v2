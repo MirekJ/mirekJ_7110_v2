{
 "cells": [
  {
   "cell_type": "code",
   "execution_count": 1,
   "metadata": {
    "collapsed": true
   },
   "outputs": [],
   "source": [
    "%matplotlib inline\n",
    "import random, math, pylab, os\n",
    "import numpy as np\n",
    "import matplotlib.pyplot as plt"
   ]
  },
  {
   "cell_type": "code",
   "execution_count": 2,
   "metadata": {
    "collapsed": true
   },
   "outputs": [],
   "source": [
    "#padding on the y axis between label and axis\n",
    "plt.rcParams['ytick.major.pad']='10'\n",
    "\n",
    "dpi_out = 400\n",
    "fig_width = 3.39\n",
    "golden_mean = (np.sqrt(5)-1.0)/2.0    # Aesthetic ratio\n",
    "fig_height = fig_width*golden_mean # height in inches\n",
    "MAX_HEIGHT_INCHES = 8.0\n",
    "if fig_height > MAX_HEIGHT_INCHES:\n",
    "    print(\"WARNING: fig_height too large:\" + fig_height + \n",
    "          \"so will reduce to\" + MAX_HEIGHT_INCHES + \"inches.\")\n",
    "    fig_height = MAX_HEIGHT_INCHES\n",
    "#fig, ax = plt.subplots(figsize = (fig_width, fig_height), dpi=400, frameon=True)\n",
    "small_tick_size = 8\n",
    "small_label_size = 8"
   ]
  },
  {
   "cell_type": "markdown",
   "metadata": {},
   "source": [
    "## Naive direct sampling"
   ]
  },
  {
   "cell_type": "code",
   "execution_count": 3,
   "metadata": {
    "collapsed": false
   },
   "outputs": [
    {
     "name": "stdout",
     "output_type": "stream",
     "text": [
      "[ 0.85759751  0.07840839  0.2388218   0.65963062  0.4106989 ] \n",
      "\n",
      "0\n",
      "[ 0.14336096  0.9009431   0.31421828  0.48635715  0.74895076] \n",
      "\n",
      "0\n",
      "[ 0.85780642  0.30130328  0.13237374  0.68402231  0.49402716] \n",
      "\n",
      "0\n",
      "[ 0.08249079  0.62577471  0.45887718  0.79149378  0.293031  ] \n",
      "\n",
      "0\n",
      "[ 0.12020716  0.67243797  0.51331818  0.32109173  0.90534344] \n",
      "\n",
      "0\n",
      "[ 0.72210935  0.24414697  0.56060164  0.39684556  0.08877134] \n",
      "\n",
      "0\n",
      "[ 0.1180021   0.87735417  0.27041937  0.60659993  0.43263177] \n",
      "\n",
      "0\n",
      "[ 0.47713032  0.2895677   0.1391688   0.66125285  0.89317116] \n",
      "\n",
      "0\n",
      "[ 0.10996357  0.88132927  0.28460015  0.54693463  0.72910312] \n",
      "\n",
      "0\n",
      "[ 0.0910402   0.74522441  0.91562725  0.32698197  0.48000649] \n",
      "\n",
      "0\n"
     ]
    }
   ],
   "source": [
    "N = 5\n",
    "L = 1.0\n",
    "sigma = 0.075\n",
    "n_configs = 10\n",
    "\n",
    "for config in range(n_configs):\n",
    "    n_trials = 0\n",
    "    x = []\n",
    "    while len(x) < N:\n",
    "        x.append(random.uniform(sigma, L - sigma))\n",
    "        for k in range(len(x) - 1):\n",
    "            if abs(x[-1] - x[k]) < 2.0 * sigma:\n",
    "                x = []\n",
    "                break\n",
    "    print np.array(x), '\\n'\n",
    "    print n_trials"
   ]
  },
  {
   "cell_type": "markdown",
   "metadata": {},
   "source": [
    "## Improved direct sampling"
   ]
  },
  {
   "cell_type": "code",
   "execution_count": 4,
   "metadata": {
    "collapsed": false
   },
   "outputs": [
    {
     "name": "stdout",
     "output_type": "stream",
     "text": [
      "[0.23619646743482003, 0.3945535691906775, 0.5465232477391015, 0.7383761487048784, 0.9217244663223341] \n",
      "\n",
      "352\n",
      "[0.10203663980741867, 0.32246690470850753, 0.5587908048719646, 0.7103235094140313, 0.8815183417377928] \n",
      "\n",
      "586\n",
      "[0.08791433358798084, 0.28946145707285925, 0.4483956625283963, 0.6142564708786457, 0.8997042886025678] \n",
      "\n",
      "892\n",
      "[0.10204744350911063, 0.3407930092932749, 0.5040716836228485, 0.6651324758776344, 0.8641997274021881] \n",
      "\n",
      "100\n",
      "[0.14688551524697627, 0.3082866513999274, 0.5465151470335426, 0.7447855262149643, 0.9182606184464547] \n",
      "\n",
      "55\n",
      "[0.09722348826806393, 0.29714637848926345, 0.4713927256928262, 0.6232611226094567, 0.8178062686938262] \n",
      "\n",
      "93\n",
      "[0.08861554284362935, 0.26152774821289904, 0.4467076914224524, 0.6656148140971274, 0.8236633892147583] \n",
      "\n",
      "1996\n",
      "[0.08056581938037058, 0.28049868528614585, 0.43117560071257877, 0.7286052468566875, 0.889253990205173] \n",
      "\n",
      "492\n",
      "[0.08763010357720545, 0.3814428641844199, 0.5440246159711601, 0.7283564569345032, 0.9035270659011719] \n",
      "\n",
      "227\n",
      "[0.09190500249396837, 0.2586080419633313, 0.42963638874339827, 0.5923559167864598, 0.8527793977334374] \n",
      "\n",
      "430\n"
     ]
    }
   ],
   "source": [
    "N = 5\n",
    "L = 1.0\n",
    "sigma = 0.075\n",
    "n_configs = 10\n",
    "for config in range(n_configs):\n",
    "    n_trials = 0\n",
    "    while True:\n",
    "        n_trials += 1\n",
    "        x = [random.uniform(sigma, L - sigma) for k in range(N)]\n",
    "        x.sort()\n",
    "        min_dist = min(x[k + 1] - x[k] for k in range(N - 1))\n",
    "        if min_dist > 2.0 * sigma:\n",
    "            print x, '\\n'\n",
    "            print n_trials\n",
    "            break"
   ]
  },
  {
   "cell_type": "code",
   "execution_count": 5,
   "metadata": {
    "collapsed": false
   },
   "outputs": [
    {
     "data": {
      "image/png": "[encoded data removed]",
      "text/plain": [
       "<matplotlib.figure.Figure at 0x7f66c36cc850>"
      ]
     },
     "metadata": {},
     "output_type": "display_data"
    }
   ],
   "source": [
    "import random, pylab\n",
    "\n",
    "N = 10\n",
    "L = 20.0\n",
    "sigma = 0.75\n",
    "n_runs = 1000000\n",
    "data = []\n",
    "for run in range(n_runs):\n",
    "    y = [random.uniform(0.0, L - 2 * N * sigma) for k in range(N)]\n",
    "    y.sort()\n",
    "    data += [y[i] + (2 * i + 1) * sigma for i in range(N)]\n",
    "    \n",
    "fig, ax = plt.subplots(figsize = (fig_width*3, fig_height*3), dpi=400, frameon=True)\n",
    "pylab.xlabel('$x$', fontsize=14)\n",
    "pylab.ylabel('$\\pi(x)$', fontsize=14)\n",
    "#pylab.title('Density of %i clothes-pins ($\\sigma$=%s) on a line of length L=%s' % (N, sigma, L))\n",
    "pylab.hist(data, bins=200, normed=True)\n",
    "pylab.savefig('plot_direct_pins_noreject.pdf')\n",
    "pylab.show()\n"
   ]
  },
  {
   "cell_type": "markdown",
   "metadata": {
    "collapsed": true
   },
   "source": [
    "![Configuration A](./density_compare.png \"Phase transition\")"
   ]
  },
  {
   "cell_type": "code",
   "execution_count": null,
   "metadata": {
    "collapsed": true
   },
   "outputs": [],
   "source": []
  }
 ],
 "metadata": {
  "kernelspec": {
   "display_name": "Python 2",
   "language": "python",
   "name": "python2"
  },
  "language_info": {
   "codemirror_mode": {
    "name": "ipython",
    "version": 2
   },
   "file_extension": ".py",
   "mimetype": "text/x-python",
   "name": "python",
   "nbconvert_exporter": "python",
   "pygments_lexer": "ipython2",
   "version": "2.7.10"
  }
 },
 "nbformat": 4,
 "nbformat_minor": 0
}
