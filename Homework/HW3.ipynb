{
 "cells": [
  {
   "cell_type": "markdown",
   "metadata": {},
   "source": [
    "# Homework 3: Two-dimensional liquids and solids"
   ]
  },
  {
   "cell_type": "code",
   "execution_count": 1,
   "metadata": {
    "collapsed": false
   },
   "outputs": [],
   "source": [
    "%matplotlib inline\n",
    "import random, pylab, math, random, cmath"
   ]
  },
  {
   "cell_type": "markdown",
   "metadata": {},
   "source": [
    "# Introduction\n",
    "\n",
    "In this homework set, we study the liquid-solid phase transition of a system of hard disks. This transition was first observed in numerical simulations by Alder and Wainwright (1962). It is the first phase transition identified in a continous two-dimensional system. In this problem, the box is a square of length 1.0, with periodic boundary conditions and the algorithm is made to work for $N = k^2$ disks.\n",
    "\n",
    "Before you start, please remind yourself of the way python handles the modulo operator:"
   ]
  },
  {
   "cell_type": "code",
   "execution_count": 2,
   "metadata": {
    "collapsed": false
   },
   "outputs": [
    {
     "name": "stdout",
     "output_type": "stream",
     "text": [
      "1.2 % 1.0 =  0.2\n",
      "-0.2 % 1.0 = 0.8\n"
     ]
    }
   ],
   "source": [
    "print \"1.2 % 1.0 = \", 1.2 % 1.0\n",
    "print \"-0.2 % 1.0 =\", -0.2 % 1.0"
   ]
  },
  {
   "cell_type": "markdown",
   "metadata": {},
   "source": [
    "## A1 In this section we provide preparation programs:\n",
    "PREPARATION PROGRAM 1:"
   ]
  },
  {
   "cell_type": "code",
   "execution_count": 3,
   "metadata": {
    "collapsed": false
   },
   "outputs": [
    {
     "data": {
      "image/png": "[encoded data removed]",
      "text/plain": [
       "<matplotlib.figure.Figure at 0x7f2fcf384210>"
      ]
     },
     "metadata": {},
     "output_type": "display_data"
    }
   ],
   "source": [
    "def show_conf(L, sigma, title, fname):\n",
    "    pylab.axes()\n",
    "    for [x, y] in L:\n",
    "        for ix in range(-1, 2):\n",
    "            for iy in range(-1, 2):\n",
    "                cir = pylab.Circle((x + ix, y + iy), radius = sigma, fc = 'r')\n",
    "                pylab.gca().add_patch(cir)\n",
    "    pylab.axis('scaled')\n",
    "    pylab.title(title)\n",
    "    pylab.axis([0.0, 1.0, 0.0, 1.0])\n",
    "    pylab.savefig(fname)\n",
    "    pylab.show()\n",
    "\n",
    "L = [[0.9, 0.9]]\n",
    "sigma = 0.4\n",
    "show_conf(L, sigma, 'test graph', 'one_disk.png')"
   ]
  },
  {
   "cell_type": "markdown",
   "metadata": {},
   "source": [
    "PREPARATION PROGRAM 2:"
   ]
  },
  {
   "cell_type": "code",
   "execution_count": 4,
   "metadata": {
    "collapsed": false
   },
   "outputs": [
    {
     "name": "stdout",
     "output_type": "stream",
     "text": [
      "starting from scratch\n"
     ]
    }
   ],
   "source": [
    "import os, random\n",
    "\n",
    "filename = 'disk_configuration.txt'\n",
    "\n",
    "if os.path.isfile(filename):\n",
    "    f = open(filename, 'r')\n",
    "    L = []\n",
    "    for line in f:\n",
    "        a, b = line.split()\n",
    "        L.append([float(a), float(b)])\n",
    "    f.close()\n",
    "    print 'starting from file', filename\n",
    "else:\n",
    "    L = []\n",
    "    for k in range(3):\n",
    "        L.append([random.uniform(0.0, 1.0), random.uniform(0.0, 1.0)])\n",
    "    print 'starting from scratch'\n",
    "\n",
    "L[0][0] = 3.3\n",
    "f = open(filename, 'w')\n",
    "for a in L:\n",
    "    f.write(str(a[0]) + ' ' + str(a[1]) + '\\n')\n",
    "f.close()"
   ]
  },
  {
   "cell_type": "markdown",
   "metadata": {},
   "source": [
    "Make sure that you understand both programs, and answer the following questions:\n",
    "\n",
    "* How is the periodic boundary condition implemented in Program 1?\n",
    "* What does the \"if os.path.isfile(filename)\" condition in Program 2 test?\n",
    "* What is this program's potential use?"
   ]
  },
  {
   "cell_type": "markdown",
   "metadata": {},
   "source": [
    "# B Markov-chain Monte Carlo simulation\n",
    "\n",
    "In this section, you will be writing you own MCMC program for hard disks. It will not be sophisticated, but still correct, support input-output, and compute a non-trivial order parameter.\n",
    "\n",
    "## B1\n",
    "\n",
    "Start from the code snippet given below, which was introduced in the lecture, and also get inspiration from the method dist(), previously discussed as well. Modify the algorithm so that it implements periodic boundary conditions. Run this algorithm for four disks and a density $\\eta = 0.72$.\n",
    "\n",
    "Note: there are no walls and therefore no more wall collisions. Use the modulo operator discussed above in order to ensure that, after each accepted move, x and y positions of each disk are folded back into the interval $0.0 \\leq x < 1.0$."
   ]
  },
  {
   "cell_type": "code",
   "execution_count": 5,
   "metadata": {
    "collapsed": false
   },
   "outputs": [
    {
     "name": "stdout",
     "output_type": "stream",
     "text": [
      "[[0.36657897110607135, 0.2491605395607672], [0.7425842698956532, 0.18715128507256662], [0.17170094947113934, 0.6732149407042414], [0.806088134981106, 0.7736442217668903]]\n"
     ]
    }
   ],
   "source": [
    "L = [[0.25, 0.25], [0.75, 0.25], [0.25, 0.75], [0.75, 0.75]]\n",
    "sigma = 0.15\n",
    "sigma_sq = sigma ** 2\n",
    "delta = 0.1\n",
    "n_steps = 1000\n",
    "\n",
    "for steps in range(n_steps):\n",
    "    a = random.choice(L)\n",
    "    b = [a[0] + random.uniform(-delta, delta),\n",
    "         a[1] + random.uniform(-delta, delta)]\n",
    "    min_dist = min((b[0] - c[0]) ** 2 + (b[1] - c[1]) ** 2 for c in L if c != a)\n",
    "    box_cond = min(b[0], b[1]) < sigma or max(b[0], b[1]) > 1.0 - sigma\n",
    "    if not (box_cond or min_dist < 4.0 * sigma ** 2):\n",
    "        a[:] = b\n",
    "print L"
   ]
  },
  {
   "cell_type": "code",
   "execution_count": 6,
   "metadata": {
    "collapsed": true
   },
   "outputs": [],
   "source": [
    "def dist(x,y):\n",
    "    d_x = abs(x[0] - y[0]) % 1.0\n",
    "    d_x = min(d_x, 1.0 - d_x)\n",
    "    d_y = abs(x[1] - y[1]) % 1.0\n",
    "    d_y = min(d_y, 1.0 - d_y)\n",
    "    return  math.sqrt(d_x**2 + d_y**2)"
   ]
  },
  {
   "cell_type": "markdown",
   "metadata": {},
   "source": [
    "## B2\n",
    "\n",
    "Further modify your program by using Preparation program 1, so that you can plot the **final configuration** produced by it. Do not attempt to plot intermediate configurations, which would lead to display issues.\n",
    "\n",
    "Make sure it invokes periodic boundary conditions (at least one disk should be cut up into at least two pieces)."
   ]
  },
  {
   "cell_type": "markdown",
   "metadata": {},
   "source": [
    "## B3\n",
    "\n",
    "Further modify your program, incorporating Preparation program 2, so that it can obtain its\n",
    "initial configuration either from a file (if it exists) or otherwise from the program itself. To generate its own\n",
    "initial configuration, generalize the four-disk square-lattice initial configuration:"
   ]
  },
  {
   "cell_type": "code",
   "execution_count": 7,
   "metadata": {
    "collapsed": true
   },
   "outputs": [],
   "source": [
    "L = [[0.25, 0.25], [0.25, 0.75], [0.75, 0.25], [0.75, 0.75]]"
   ]
  },
  {
   "cell_type": "markdown",
   "metadata": {},
   "source": [
    "so that it supports any value $N = k^2$ of disks. The proper initial condition for k=8 (N=64) is shown in the figure below. Use a stepsize $\\propto \\sigma$, for example $0.3 \\sigma$, or $0.5 \\sigma$. The precise value itself in unimportant. Use k = int(math.sqrt(N) + 0.5). In your program, manipulate the density eta and the number of disks N rather\n",
    "than the radius sigma. The program should work for N equal to a square number, not for general N. The\n",
    "final configuration should then be saved to file, as indicated in Preparation program 2, ready for reuse at\n",
    "the next run of the program.\n",
    "\n",
    "<img src=\"HW3_figs/N_disks.png\">"
   ]
  },
  {
   "cell_type": "markdown",
   "metadata": {},
   "source": [
    "* Indicate up to which density the square-lattice initial configuration is legal.\n",
    "* Plot the initial configuration (as a graphics file) for N = 256 at density eta= 0.72. (Note that you can\n",
    "do this easily by setting n_steps = 0)"
   ]
  },
  {
   "cell_type": "markdown",
   "metadata": {},
   "source": [
    "## B4\n",
    "\n",
    "Run your program for N = 64, n_steps = 10000, at eta = 0.42, from the square lattice initial condition, then repeatedly using as initial configuration the final configuration of the previous run.\n",
    "\n",
    "1. Explain what you see. \n",
    "2. Display a figure showing the initial configuration of the sequence of runs (set n_steps = 0 to plot it)\n",
    "3. Display a figure showing and the final configuration you obtained from the entire sequence of runs."
   ]
  },
  {
   "cell_type": "markdown",
   "metadata": {},
   "source": [
    "## B5\n",
    "\n",
    "Run your program for N = 64, n_steps = 10000, at eta = 0.72 from the square lattice initial condition, then at least ten times using as initial configuration the final configuration of the previous run.\n",
    "\n",
    "1. Explain what you see.\n",
    "2. Display figures showing intermediate configurations of the entire run.\n",
    "3. Display the final configuration you obtained from the entire sequence of runs. (You may plot the figures in the notebook or save them as a bunch of graphic files and add them to your repository)"
   ]
  },
  {
   "cell_type": "markdown",
   "metadata": {},
   "source": [
    "# C\n",
    "\n",
    "This section deals with the quantitative interpretation of the findings of B4 and B5. It contains a programming assignment for which help is provided in the form of a code snippet.\n",
    "\n",
    "Consider the local order parameter psi_6(i), for disk $i$:\n",
    "\n",
    "$$\n",
    "\\psi_6(k) = \\dfrac{1}{\\text{number of neighbors l of k}} \\sum\\limits_l \\exp(6 i \\phi_{kl})\n",
    "$$\n",
    "The local order parameter $\\psi_6(k)$ is a complex number, and $\\phi_{kl}$ is the angle with respect to the x-axis, measured in radians. A \"neighbor\" $l$ is a different disk located in the vicinity of disk $k$; we will assume it is a disk whose center is less than $2.8 \\sigma$ away from the center of disk $k$."
   ]
  },
  {
   "cell_type": "markdown",
   "metadata": {},
   "source": [
    "## C1\n",
    "\n",
    "Consider the disks a, b, and c, the central disks in the following figures.\n",
    "\n",
    "<img src=\"HW3_figs/psi_configs.png\">"
   ]
  },
  {
   "cell_type": "markdown",
   "metadata": {},
   "source": [
    "1. What is the value of $\\psi_6(a)$?\n",
    "2. What is the value of $\\psi_6(b)$?\n",
    "3. What is the value of $\\psi_6(c)$?\n",
    "4. Compute $\\psi_6(a) + \\psi_6(b)$."
   ]
  },
  {
   "cell_type": "markdown",
   "metadata": {},
   "source": [
    "## C2\n",
    "\n",
    "The global order parameter is defined as\n",
    "\n",
    "$$\n",
    "\\Psi_6 = \\dfrac{1}{N} \\sum\\limits_k \\psi_6(k)\n",
    "$$"
   ]
  },
  {
   "cell_type": "markdown",
   "metadata": {},
   "source": [
    "1. What is the value of $\\Psi_6$ for the below configurations A and B? we suppose that they occur on an initiely large plane and respect translational symmetry.\n",
    "2. What is the value of Psi_6 for a very large liquid configuration with eta = 0.42, (N very large, all\n",
    "correlation lengths much smaller than system size)?"
   ]
  },
  {
   "cell_type": "markdown",
   "metadata": {},
   "source": [
    "<img src=\"HW3_figs/glob_psi_configs.png\">"
   ]
  },
  {
   "cell_type": "markdown",
   "metadata": {},
   "source": [
    "## C3\n",
    "\n",
    "It can be shown numerically that $\\Psi_6$ is finite for very large systems of hard disks at density $\\eta > 0.72$, as in our example. Incorporate the calculation of Psi_6 into your MCMC program, using the following code snippe.\n",
    "\n",
    "Please note the following:\n",
    "\n",
    "* The cmath library is needed to perform complex arithmethic.\n",
    "* 6j = (0.0, 6.0), in complex notation.\n",
    "* The delx_dely function computes the distance vector, taking into accoung periodic boundary conditions.\n",
    "* It is assumed that the dist() method returns the squared Euclidean distance."
   ]
  },
  {
   "cell_type": "code",
   "execution_count": 8,
   "metadata": {
    "collapsed": true
   },
   "outputs": [],
   "source": [
    "def delx_dely(x, y):\n",
    "    d_x = (x[0] - y[0]) % 1.0\n",
    "    if d_x > 0.5: d_x -= 1.0\n",
    "    d_y = (x[1] - y[1]) % 1.0\n",
    "    if d_y > 0.5: d_y -= 1.0\n",
    "    return d_x, d_y\n",
    "\n",
    "def Psi_6(L, sigma):\n",
    "    sum_vector = 0j\n",
    "    for i in range(N):\n",
    "        vector  = 0j\n",
    "        n_neighbor = 0\n",
    "        for j in range(N):\n",
    "            if dist(L[i], L[j]) < 2.8 * sigma and i != j:\n",
    "                n_neighbor += 1\n",
    "                dx, dy = delx_dely(L[j], L[i])\n",
    "                angle = cmath.phase(complex(dx, dy))\n",
    "                vector += cmath.exp(6.0j * angle)\n",
    "        if n_neighbor > 0: vector /= n_neighbor\n",
    "        sum_vector += vector\n",
    "    return sum_vector / float(N)"
   ]
  },
  {
   "cell_type": "markdown",
   "metadata": {},
   "source": [
    "Incorporate this snippet into your program, and produce a figure showing the mean absolute value of $\\Psi_6$ as a function of the density $\\eta$ for $N = 64$, up to the density $\\eta = 0.72$. For simplicity:\n",
    "\n",
    "* you may start at $\\eta = 0.72$ (with a \"well-thermalized\" configuration)\n",
    "* compute $|\\Psi_6|$ every 100 steps\n",
    "* decrease the density by 0.01 after each 10,000 steps, using as initial configuration the final configuration at higher density.\n",
    "\n",
    "Your plot will be only qualitative at high density, because we cannot reach large enough simulation times, even for 64\n",
    "disks only, but the procedure is fine. The finite values of $|\\Psi_6|$ at small density is a finite-N effect. \n",
    "\n",
    "1. Display both your program and the obtain profile below."
   ]
  },
  {
   "cell_type": "markdown",
   "metadata": {},
   "source": [
    "The nature of this phase transition has been a mystery for several decades, and its detailed description is beyond the scope of this homework. The seminal simulations of Metropolis et al (1953) used N between 56 and 224, and n_steps = 20000. These simulation times are roughly 1000000 times smaller than the correlation times of the Markov chain for $\\eta = 0.72$, and this explains much of the confusion in the field. Mathematical estimates for the correlation time are unavailable. Likewise, the existence of the transition(s), while established beyond doubt by numerical simulations, is a mathematical mystery, unlike the two other transitions that we will treat in this course (Bose-Einstein condensation, ferromagnetic-paramagnetic transition)."
   ]
  }
 ],
 "metadata": {
  "kernelspec": {
   "display_name": "Python 2",
   "language": "python",
   "name": "python2"
  },
  "language_info": {
   "codemirror_mode": {
    "name": "ipython",
    "version": 2
   },
   "file_extension": ".py",
   "mimetype": "text/x-python",
   "name": "python",
   "nbconvert_exporter": "python",
   "pygments_lexer": "ipython2",
   "version": "2.7.10"
  }
 },
 "nbformat": 4,
 "nbformat_minor": 0
}
