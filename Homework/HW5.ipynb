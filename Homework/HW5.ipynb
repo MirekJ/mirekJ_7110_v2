{
 "cells": [
  {
   "cell_type": "code",
   "execution_count": null,
   "metadata": {
    "collapsed": false
   },
   "outputs": [],
   "source": [
    "%matplotlib inline\n",
    "import random, pylab, math, numpy"
   ]
  },
  {
   "cell_type": "markdown",
   "metadata": {},
   "source": [
    "In this homework session, you will do a few calculations in quantum mechanics. We consider the harmonic and the anharmonic oscillator, use matrix squaring and, at the end, perform two Quantum Monte Carlo simulation."
   ]
  },
  {
   "cell_type": "markdown",
   "metadata": {},
   "source": [
    "# A\n",
    "## Preparation program 1"
   ]
  },
  {
   "cell_type": "code",
   "execution_count": null,
   "metadata": {
    "collapsed": false,
    "scrolled": true
   },
   "outputs": [],
   "source": [
    "Names = {}\n",
    "Names['Albert'] = 'Einstein'\n",
    "Names['Satyendra'] = 'Bose'\n",
    "Names['Richard'] = 'Feynman'\n",
    "Names['Ludwig'] = 'Boltzmann'\n",
    "# checkpoint 1\n",
    "for name in Names: \n",
    "    print name, Names[name]\n",
    "a = Names.pop('Albert')\n",
    "# checkpoint 2\n",
    "del Names['Richard']\n",
    "# checkpoint 3\n",
    "L = Names.keys()\n",
    "M = Names.values()\n",
    "#checkpoint 4\n",
    "b = 'Wolfgang' in Names\n",
    "#checkpoint 5"
   ]
  },
  {
   "cell_type": "markdown",
   "metadata": {},
   "source": [
    "## Preparation program 2"
   ]
  },
  {
   "cell_type": "code",
   "execution_count": null,
   "metadata": {
    "collapsed": false,
    "scrolled": true
   },
   "outputs": [],
   "source": [
    "import numpy\n",
    "a = numpy.array([[1, 2, 3], [4, 5, 6]])\n",
    "b = numpy.array([[1, 2], [3, 4], [5, 6]])\n",
    "c = numpy.dot(a, b)\n",
    "d = numpy.dot(b, a)\n",
    "e = d * 2\n",
    "f = numpy.diag(c)\n",
    "g = numpy.diag(c).sum()"
   ]
  },
  {
   "cell_type": "markdown",
   "metadata": {},
   "source": [
    "## Preparation program 3"
   ]
  },
  {
   "cell_type": "code",
   "execution_count": null,
   "metadata": {
    "collapsed": false
   },
   "outputs": [],
   "source": [
    "def V(x):\n",
    "    pot = x ** 2 / 2 + cubic * x ** 3 + quartic * x ** 4\n",
    "    return pot\n",
    "\n",
    "def Energy(n, cubic, quartic):\n",
    "    return (n + 0.5 - 15.0 / 4.0 * cubic **2 * (n ** 2 + n + 11.0 / 30.0) \n",
    "            + 3.0 / 2.0 * quartic * (n ** 2 + n + 1.0 / 2.0))\n",
    "\n",
    "def Z(cubic, quartic, beta, n_max):\n",
    "    Z = sum(math.exp(-beta * Energy(n, cubic, quartic)) for n in range(n_max + 1))\n",
    "    return Z\n",
    "\n",
    "cubic = -0.45\n",
    "quartic = 0.45\n",
    "x_max = 5.0\n",
    "nx = 100\n",
    "dx = 2.0 * x_max / (nx - 1)\n",
    "x = [i * dx for i in range(-(nx - 1) / 2, nx / 2 + 1)]\n",
    "y = [V(a) for a in x]\n",
    "pylab.plot(x, y)\n",
    "cubic = 0.0\n",
    "quartic = 0.0\n",
    "y = [V(a) for a in x]\n",
    "pylab.title('XYZ')\n",
    "pylab.xlabel('x_label')\n",
    "pylab.ylabel('y_label')\n",
    "pylab.plot(x, y, label='some label')\n",
    "pylab.legend()\n",
    "pylab.axis([-4.0, 4.0, 0.0, 3.0])\n",
    "pylab.show()"
   ]
  },
  {
   "cell_type": "markdown",
   "metadata": {},
   "source": [
    "## A1"
   ]
  },
  {
   "cell_type": "markdown",
   "metadata": {},
   "source": [
    "## Questions:\n",
    "\n",
    "\n",
    "1. At Checkpoint 1, what are the keys and values of the dictionary Names?\n",
    "2. At Checkpoint 2, what is a? What are the keys and values now?\n",
    "3. At Checkpoint 3, what is the new content of Names?\n",
    "4. At Checkpoint 4, what datatype are L and M (they are not dictionaries)?\n",
    "5. At Checkpoint 5, what is b?\n",
    "6. In our example, the keys of the dictionaries are first names, or in other words strings. Can the keys be\n",
    "floats (real numbers), like 3.1415? Can the keys be lists, like L =[1.4,1.5]? Same question for the values, can they be integers, floats or lists?"
   ]
  },
  {
   "cell_type": "markdown",
   "metadata": {},
   "source": [
    "## A2\n",
    "\n",
    "## Questions about Preparation program 2\n",
    "\n",
    "We are concerned with numpy, a convenient numerical library inside Python. \n",
    "1. a is a numpy array. Can you confirm that it stands for the matrix\n",
    "1 2 3\n",
    "4 5 6\n",
    "with elements a_00 = 1, a_10 = 4, a_01 = 2, a_11 = 5, a_02 = 3, a_12 = 6?\n",
    "2. Write down all elements of b.\n",
    "3. What is numpy.dot? Write down all elements of c.\n",
    "4. Write down all elements of d. Can you confirm that a.b differs from b.a?\n",
    "5. Explain e, write down all its elements.\n",
    "6. The trace of a matrix is defined as the sum of its diagonal elements. How is it computed in Preparation program 2? Write down the trace of the matrix c."
   ]
  },
  {
   "cell_type": "markdown",
   "metadata": {},
   "source": [
    "## A2\n",
    "\n",
    "## Questions about Preparation program 1\n",
    "\n",
    "1. Can you confirm that the preparation program computes the volume of the unit hypersphere in dimensions from 1\n",
    "to 19? (Yes/No answer)\n",
    "2. Explain how to modify this program to compute the volume of the hypersphere of radius r.\n",
    "3. Extend the Preparation Program into a graphics version, and plot the quantity \"Vol1_s\" for all dimensions d from 1 through 200. Use linear scale in $x$ and logarithmic scale in $y$. Compute and display the numerical values Vol1_s(5), Vol1_s(20), Vol1_s(200), as you will need them later."
   ]
  },
  {
   "cell_type": "markdown",
   "metadata": {},
   "source": [
    "## A3\n",
    "\n",
    "In physics, 'harmonic' means 'quadratic'. The harmonic oscillator thus corresponds to a potential $\\frac{1}{2} x^2$ and, as we know, the quantum harmonic oscillator has energy levels $E_0 = 1/2$, $E_1 = 3/2$, $E_2 = 5/2$,...\n",
    "Preparation program 3 provides the anharmonic corrections to the harmonic potential. Run and modify this program to answer the following questions:\n",
    "\n",
    "## Questions\n",
    "\n",
    "1. The Preparation program 3 is able to plot harmonic and anharmonic potentials. Which values of the parameters correspond to the harmonic oscillator? What is the condition for the potential to be $+ \\infty$ for $x \\to \\pm \\infty$?\n",
    "2. Plot the potential for the harmonic case and for cubic = -0.5 and quartic = 0.5. Make sure that you provide the  missing curve labels.\n",
    "3. The Preparation program 3 provides the 'perturbation theoretical' corrections for the change of the\n",
    "energy levels of the anharmonic oscillator for *very small* values of cubic and quartic corrections.\n",
    "Plot the energy values $E_n$ for 0 < quartic = -cubic < 1. The program is already written, but you should\n",
    "provide appropriate title, axis labels and good labels for the individual curves.\n",
    "4. Much work has gone into computing the perturbation theoretical formula for $E_n$ (contained in our\n",
    "function Energy). Given that the exact eigenvalues satisfy: $\\forall x , V(x) > 0 \\Rightarrow E_n > 0$, can you show that\n",
    "the formula ceases to be valid quite quickly?\n",
    "5. The Preparation program 3 is also able to compute the partition function $Z = \\sum_n \\exp ( - \\beta\n",
    "E_n)$ where $\\beta = 1/(k_b T)$ is the inverse temperature. Can you confirm (numerically) that the partition\n",
    "function for the harmonic oscillator equals $Z^{harm} (\\beta) = 1/(2 \\sinh(\\beta/2))$?\n",
    "\n",
    "NB: The perturbation-theoretical calculation is performed, for example,in Landau Lifshitz: \"Quantum\n",
    "Mechanics (vol 3)\", exercise 3 of chap 38. No need to look this reference up for this exercise."
   ]
  },
  {
   "cell_type": "markdown",
   "metadata": {},
   "source": [
    "# B\n",
    "\n",
    "In part B, you will redo calculations for the harmonic oscillator and verify the consistency of the sum over wavefunctions and energy eigenvalues, Matrix squaring and Quantum Monte Carlo.\n",
    "\n",
    "NB: The density matrix is given by\n",
    "$$\\rho(x, x', \\beta) = \\sum_n \\exp(- \\beta E_n) \\psi_n(x) \\psi_n^*(x')$$\n",
    "where the asterisk (*) denotes complex conjugation and is without action in our case. The diagonal density matrix corresponds to x = x'. Note that there is a '=' sign in the above formula, without a normalizing factor.\n",
    "\n",
    "NNB: The Trotter decomposition is given by\n",
    "$$\\rho(x, x', \\beta) = \\exp(-\\beta V(x)/2) \\rho^{free}(x, x', \\beta) exp(-\\beta V(x')/2)$$\n",
    "as discussed in class. Notice that there is a \"one half\" from the Trotter decomposition, and another \"one half\" from the potential V(x) = x^2/2.\n",
    "\n",
    "# B1\n",
    "\n",
    "Modify the below program so that it computes the diagonal density matrix at inverse temperatures beta. Furthermore, compute the partition function Z using the three formulas:\n",
    "\n",
    "$Z(\\beta) = \\sum_n \\exp(-\\beta E_n)$ (general, any quantum system)\n",
    "\n",
    "$Z(\\beta) = \\int dx \\rho(x, x, \\beta)$\n",
    "\n",
    "$Z(\\beta) = Z^{harm} (\\beta) = 1/(2 \\sinh(\\beta/2))$ (harmonic oscillator only)\n",
    "\n",
    "## Questions\n",
    "\n",
    "1. Compute the partition function using the three methods for $\\beta = 2$. Print out your results.\n",
    "2. The normalized probability to be at position x is given by $\\pi(x) = K \\rho(x, x, \\beta)$. What is the proportinality constant $K$ if we require that $\\int_{-\\infty}^\\infty \\pi(x) = 1$? Modify your program so that it outputs the normalized $\\pi(x)$ in a figure. Use labels for plots, as in Section A3 (titles, axis labels, graph labels). Display your figure for beta = 2."
   ]
  },
  {
   "cell_type": "code",
   "execution_count": null,
   "metadata": {
    "collapsed": true
   },
   "outputs": [],
   "source": [
    "import math\n",
    "n_states = 40\n",
    "Energies = [0.5 + i for i in range(n_states)]\n",
    "grid_x = [i * 0.2 for i in range(-25, 26)]\n",
    "psi = {}\n",
    "\n",
    "for x in grid_x:\n",
    "    psi[x] = [math.exp(-x ** 2 / 2.0) / math.pi ** 0.25]\n",
    "    psi[x].append(math.sqrt(2.0) * x * psi[x][0])\n",
    "    for n in range(2, n_states):\n",
    "        psi[x].append(math.sqrt(2.0 / n) * x * psi[x][n - 1] -\n",
    "        math.sqrt((n - 1.0) / n) * psi[x][n - 2])"
   ]
  },
  {
   "cell_type": "markdown",
   "metadata": {},
   "source": [
    "## B2\n",
    "\n",
    "Modify the program below (using the technique of section A2) so that it computes the diagonal density matrix and the\n",
    "partition function, using the two methods:\n",
    "\n",
    "$$Z(\\beta) = \\int dx \\rho(x, x, \\beta)$$ (general, any quantum system)\n",
    "\n",
    "$$Z(\\beta) = Z^{harm} (\\beta) = 1/(2 \\sinh(\\beta/2))$$ (harmonic oscillator only)\n",
    "\n",
    "NB: This requires just a few-line change in the program.\n",
    "\n",
    "\n",
    "## Questions\n",
    "\n",
    "1. Briefly explain how the Trotter decomposition is implemented in this program. Also, briefly discuss the choice of the initial value of beta_tmp.\n",
    "2. Compute the partition function using the two methods for beta between $1/16$ and $8$. print out your results. Comment on the precision obtained.\n",
    "3. Modify your program so that it outputs the normalized $\\pi(x)$ (normalize your data, do not use an analytic formula). Display a figure, and compare (on the same plot) with the exact formula:\n",
    "$$\\pi^{exact} (x) = \\sqrt{\\tanh (\\beta/2)} / \\sqrt{\\pi} \\exp(- x^2 \\tanh(\\beta/2))$$\n",
    "\n",
    "Display this figure for $\\beta = 8$. Explain which starting value of beta_tmp appears ok for you."
   ]
  },
  {
   "cell_type": "code",
   "execution_count": null,
   "metadata": {
    "collapsed": false
   },
   "outputs": [],
   "source": [
    "def rho_free(x, xp, beta):\n",
    "    return (math.exp(-(x - xp) ** 2 / (2.0 * beta)) /\n",
    "            math.sqrt(2.0 * math.pi * beta))\n",
    "\n",
    "def rho_harmonic_trotter(grid, beta):\n",
    "    return numpy.array([[rho_free(x, xp, beta) *\n",
    "                         numpy.exp(-0.5 * beta * 0.5 * (x ** 2 + xp ** 2)) \n",
    "                         for x in grid] for xp in grid])\n",
    "\n",
    "x_max = 5.0\n",
    "nx = 100\n",
    "dx = 2.0 * x_max / (nx - 1)\n",
    "x = [i * dx for i in range(-(nx - 1) / 2, nx / 2 + 1)]\n",
    "beta_tmp = 2.0 ** (-5)\n",
    "beta = 2.0 ** (3)\n",
    "rho = rho_harmonic_trotter(x, beta_tmp)\n",
    "\n",
    "while beta_tmp < beta:\n",
    "    rho = numpy.dot(rho, rho)\n",
    "    rho *= dx\n",
    "    beta_tmp *= 2.0"
   ]
  },
  {
   "cell_type": "markdown",
   "metadata": {},
   "source": [
    "## B3\n",
    "\n",
    "Modify the program below, so that it generates a histogram of positions x. \n",
    "\n",
    "*Attention*: use the \"if step % separation == 0: \" construction to avoid data overflow in the notebook if you wish to uncomment the print statement below.\n",
    "\n",
    "## Questions\n",
    "\n",
    "1. By moving from one configuration to another, does this algorithm use the Trotter decomposition? Explain in a few words the \"factors of two\" in old_weight and new_weight (wouldn't one expect a \"0.25 dtau\n",
    "* ...\", rather that the \"0.5 * ... \", because of the .5 factor from Trotter, and the .5 factor from the potential?\n",
    "2. Does this program compute the partition function?\n",
    "3. Does this program compute the off-diagonal density matrix?\n",
    "4. Produce a histogram for $\\pi(x)$ at inverse temperature $\\beta = 2$. Compare (on the same figure) with the exact formula:\n",
    "$$\\pi^{exact} (x) = \\sqrt{\\tanh (\\beta/2)} / \\sqrt{\\pi} \\exp(- x^2 \\tanh(\\beta/2))$$\n",
    "5. Specify the value of dtau you used in your code"
   ]
  },
  {
   "cell_type": "code",
   "execution_count": null,
   "metadata": {
    "collapsed": false
   },
   "outputs": [],
   "source": [
    "def rho_free(x, y, beta):\n",
    "    return math.exp(-(x - y) ** 2 / (2.0 * beta))\n",
    "\n",
    "beta = 8.0\n",
    "N = 8\n",
    "dtau = beta / N\n",
    "delta = 1.0\n",
    "n_steps = 100000\n",
    "x = [0.0] * N\n",
    "\n",
    "for step in range(n_steps):\n",
    "    k = random.randint(0, N - 1)\n",
    "    knext, kprev = (k + 1) % N, (k - 1) % N\n",
    "    x_new = x[k] + random.uniform(-delta, delta)\n",
    "    old_weight = (rho_free(x[knext], x[k], dtau) *\n",
    "                  rho_free(x[k], x[kprev], dtau) *\n",
    "                  math.exp(-0.5 * dtau * x[k] ** 2))\n",
    "    new_weight = (rho_free(x[knext], x_new, dtau) *\n",
    "                  rho_free(x_new, x[kprev], dtau) *\n",
    "                  math.exp(-0.5 * dtau * x_new ** 2))\n",
    "    if random.uniform(0.0, 1.0) < new_weight / old_weight:\n",
    "        x[k] = x_new\n",
    "    #print x"
   ]
  },
  {
   "cell_type": "markdown",
   "metadata": {},
   "source": [
    "# C\n",
    "\n",
    "In part C, you will modify your program of section 2 for the anharmonic oscillator. The key methods are now matrix squaring and Quantum Monte Carlo, although you will do some comparison with the approximate partition function computed using the Preparation program 3.\n",
    "\n",
    "## C1 \n",
    "\n",
    "Start a new program for matrix squaring from the code used in section B2.\n",
    "1. Incorporate the function V(x) from Preparation program 3.\n",
    "2. Modify the function rho_harmonic_trotter into a rho_trotter, which explicitly uses V(x).\n",
    "Attention: There is a \"one half\" from the Trotter decomposition on both sides of the free density matrix.\n",
    "3. Implement the function Z from Preparation program 3.\n",
    "4. Check your program (including the function Z) for cubic = 0 and quartic = 0 against the version of\n",
    "section B.\n",
    "\n",
    "Then run the program for the anharmonic oscillator, for different values of cubic < 0 and quartic > 0, and compute the partition function from\n",
    "\n",
    "1. $Z^{approx} (\\beta)$ from the function that you just incorporated\n",
    "2. $Z(\\beta) = \\int dx \\rho(x, x, \\beta)$ (general, any quantum system)\n",
    "3. $Z(\\beta) = Z^{harm} (\\beta) = 1/(2 \\sinh(\\beta/2))$ (comparison with the harmonic oscillator only) (see Section A3)\n",
    "\n",
    "## Questions \n",
    "\n",
    "for cubic = - quartic = 0.1, 0.2...\n",
    "\n",
    "1. Compute the partition function from the trace of partition function and compare with the approximate perturbation-theoretical result. Communicate your results for beta = 2 for cubic, quartic = (-0.1, 0.1)\n",
    "(-0.2, 0.2), (-0.4,0.4), (-0,8, 0.8). Shortly comment on your result.\n",
    "2. Compute the normalized probability to be at position x for cubic = -0.5, quartic = 0.5.\n",
    "$\\pi(x) =  K \\rho(x, x, \\beta)$. Display this result in a figure for beta = 2."
   ]
  },
  {
   "cell_type": "markdown",
   "metadata": {},
   "source": [
    "## C2\n",
    "\n",
    "Write a new path-integral Monte Carlo program (see section B3). Incorporate V(x) as in section C1, then run it and produce the normalized probability $\\pi(x)$ for $\\beta = 2$. Compare with the output of C1. To do so, plot the results of matrix squaring, if possible together with the Monte Carlo results, in one figure. If you wish to write the matrix squaring results into a file in order to recover them in the Monte Carlo program:, you may use the following code snippet:"
   ]
  },
  {
   "cell_type": "code",
   "execution_count": null,
   "metadata": {
    "collapsed": false
   },
   "outputs": [],
   "source": [
    "## For writing\n",
    "f = open('matrix_squaring_beta_2.txt', 'w')\n",
    "for k in range(len(x)):\n",
    "    f.write(str(x[k]) + ' ' + str(y_values[k]) + '\\n')\n",
    "f.close()\n",
    "\n",
    "# for reading\n",
    "f = open(filename, 'r')\n",
    "x = []\n",
    "y = []\n",
    "for line in f:\n",
    "    a, b = line.split()\n",
    "    x.append(float(a))\n",
    "    y.append(float(b))\n",
    "f.close()"
   ]
  }
 ],
 "metadata": {
  "kernelspec": {
   "display_name": "Python 2",
   "language": "python",
   "name": "python2"
  },
  "language_info": {
   "codemirror_mode": {
    "name": "ipython",
    "version": 2
   },
   "file_extension": ".py",
   "mimetype": "text/x-python",
   "name": "python",
   "nbconvert_exporter": "python",
   "pygments_lexer": "ipython2",
   "version": "2.7.11+"
  }
 },
 "nbformat": 4,
 "nbformat_minor": 0
}
