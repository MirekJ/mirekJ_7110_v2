{
 "cells": [
  {
   "cell_type": "code",
   "execution_count": 14,
   "metadata": {
    "collapsed": false
   },
   "outputs": [],
   "source": [
    "%matplotlib inline\n",
    "import random, math, pylab\n",
    "import os\n",
    "import numpy as np\n",
    "import matplotlib.pyplot as plt\n",
    "from numpy import array\n",
    "from pylab import figure, xticks, yticks\n",
    "import socket\n",
    "from math import pi, sqrt"
   ]
  },
  {
   "cell_type": "markdown",
   "metadata": {},
   "source": [
    "# Introduction\n",
    "\n",
    "This homework is divided into three parts. In the first part, you estimate $\\pi$ by using a direct-sampling\n",
    "algorithm and determine the statistical error of your numerical calculation. In the second part, you\n",
    "again estimate $\\pi$, but this time for a Markov-chain algorithm. The precision of the result depends on\n",
    "the rejection rate of the algorithm, which itself depends on the step size $\\delta$. You will see that performance is\n",
    "best when $\\delta$ is chosen such that about half of the proposed moves are accepted. This is called the \"1/2\n",
    "rule\". It is an approximate rule, a rule of thumb, not a mathematical law. Finally, in the third part, you\n",
    "quantify the error associated with the Markov-chain algorithm using the bunching algorithm.\n",
    "You will create plots to analyze the output of your programs graphically. Please take special care that the axes in your plots are labeled correctly and that they show the data that is asked for."
   ]
  },
  {
   "cell_type": "markdown",
   "metadata": {},
   "source": [
    "# A - Direct sampling algorithm"
   ]
  },
  {
   "cell_type": "markdown",
   "metadata": {},
   "source": [
    "## A1\n",
    "\n",
    "Run the direct-sampling algorithm provided below, and convince yourself that for large enough values of n_trials, the output of each of the n_runs runs converges to $\\pi=3.1415926\\ldots$. Determine the root mean square (rms) error, given by:\n",
    "\n",
    "$$\n",
    "\\text{rms_error} = \\sqrt{\\dfrac{1}{\\text{n_runs}} \\sum\\limits_{i=0}^{\\text{n_runs} - 1} (\\pi_i^{\\text{est}} - \\pi)^2},\n",
    "$$\n",
    "where $\\pi_i^{\\text{est}}$ is the output of each single run. Note that this gives the actual precision of your calculation, as you compare with the exact mathematical value of $\\pi$. Take n_runs=500 and modify the code in order to compute the rms error according to the above formula for n_trials = $2^4, 2^5,...,2^{12}$. Produce a log-log-plot of the error as a function of n_trials."
   ]
  },
  {
   "cell_type": "markdown",
   "metadata": {},
   "source": [
    "As a help for students beginning with python, the modified code is provided below. "
   ]
  },
  {
   "cell_type": "code",
   "execution_count": 15,
   "metadata": {
    "collapsed": false
   },
   "outputs": [
    {
     "data": {
      "image/png": "[encoded data removed]",
      "text/plain": [
       "<matplotlib.figure.Figure at 0x7f636c627ad0>"
      ]
     },
     "metadata": {},
     "output_type": "display_data"
    }
   ],
   "source": [
    "def direct_pi(N):\n",
    "    n_hits = 0\n",
    "    for i in range(N):\n",
    "        x, y = random.uniform(-1.0, 1.0), random.uniform(-1.0, 1.0)\n",
    "        if x ** 2 + y ** 2 < 1.0:\n",
    "            n_hits += 1\n",
    "    return n_hits\n",
    " \n",
    "n_runs = 500\n",
    "n_trials_list = []\n",
    "sigmas = []\n",
    "for poweroftwo in range(4, 13):\n",
    "    n_trials = 2 ** poweroftwo\n",
    "    n_trials_list.append(n_trials)\n",
    "    sigma = 0.0\n",
    "    for run in range(n_runs):\n",
    "        pi_est = 4.0 * direct_pi(n_trials) / float(n_trials)\n",
    "        sigma += (pi_est - math.pi) ** 2\n",
    "    sigmas.append(math.sqrt(sigma / (n_runs)))\n",
    "    \n",
    "\n",
    "pylab.plot(n_trials_list, sigmas, 'o')\n",
    "pylab.gca().set_xscale('log')\n",
    "pylab.gca().set_yscale('log')\n",
    "pylab.xlabel('n_trials')\n",
    "pylab.ylabel('$\\sigma$')\n",
    "pylab.title('Direct sampling: Standard deviation $\\sigma$ as a function of n_trials')\n",
    "pylab.savefig('direct_sampling_statistical_error.png')\n",
    "pylab.show()"
   ]
  },
  {
   "cell_type": "markdown",
   "metadata": {},
   "source": [
    "## A2\n",
    "\n",
    "\n",
    "By referring to your figure, show that the rms error is proportional to $n_{\\text{trials}}^{-\\alpha}$ and estimate $\\alpha$. Enter the empirical value of $\\alpha$ in a new cell below."
   ]
  },
  {
   "cell_type": "code",
   "execution_count": 16,
   "metadata": {
    "collapsed": false
   },
   "outputs": [
    {
     "data": {
      "image/png": "[encoded data removed]",
      "text/plain": [
       "<matplotlib.figure.Figure at 0x7f636c508890>"
      ]
     },
     "metadata": {},
     "output_type": "display_data"
    },
    {
     "name": "stdout",
     "output_type": "stream",
     "text": [
      "alpha: -0.299974520756\n"
     ]
    }
   ],
   "source": [
    "from scipy.optimize import leastsq\n",
    "\n",
    "## function of line\n",
    "func     = lambda par, x   : x**par[0]+par[1];\n",
    "## error function used for leas square fitting\n",
    "errfunc  = lambda par, x, y: func(par, x) - y;\n",
    "\n",
    "parInitGuess = (1.0,0.0)\n",
    "\n",
    "x=np.array(n_trials_list)\n",
    "y=np.array(sigmas)\n",
    "\n",
    "res, b = leastsq(errfunc, parInitGuess[:], args=(x,y));\n",
    "\n",
    "x1=np.linspace(n_trials_list[0],n_trials_list[len(n_trials_list)-1],500);\n",
    "y1=func(res,x1)\n",
    "pylab.plot(x1,y1,'r-')\n",
    "pylab.plot(n_trials_list, sigmas, 'o')\n",
    "pylab.xlabel('n_trials')\n",
    "pylab.ylabel('$\\sigma$')\n",
    "pylab.title('Direct sampling: Fit of exponential dependence of $\\sigma$ on number of trials')\n",
    "pylab.show()\n",
    "\n",
    "print \"alpha: \"+str(res[0])"
   ]
  },
  {
   "cell_type": "markdown",
   "metadata": {},
   "source": [
    "# B - Markov chain algorithm and the \"1/2 rule of thumb\""
   ]
  },
  {
   "cell_type": "markdown",
   "metadata": {},
   "source": [
    "## B1\n",
    "\n",
    "Run the Markov-chain algorithm provided below and convince yourself that for large enough n_trials, the output of each of the n_runs runs approaches the value of $\\pi$. Then, set the number of runs to n_runs = 500 and the number of trials to n_trials = 1000. Modify the program so that it calculates the acceptance ratio: the number of the\n",
    "moves that are not rejected, divided by n_trials. Run the new program and compute the acceptance ratio\n",
    "for the following values of $\\delta$ (\"delta\" in the the method \"markov_pi\"): $\\delta=0.1, \\delta=0.2, \\delta=0.3,..., \\delta=5.0$ . Plot the computed acceptance ratio as a function of $\\delta$ Use linear scaling on both axes."
   ]
  },
  {
   "cell_type": "code",
   "execution_count": 17,
   "metadata": {
    "collapsed": false
   },
   "outputs": [],
   "source": [
    "def markov_pi(N, delta): \n",
    "    x, y = 1.0, 1.0\n",
    "    n_hits = 0\n",
    "    acceptedTririals = 0\n",
    "    \n",
    "    for i in range(N):\n",
    "        del_x, del_y = random.uniform(-delta, delta),random.uniform(-delta, delta)\n",
    "        if abs(x + del_x) < 1.0 and abs(y + del_y) < 1.0:\n",
    "            x, y = x + del_x, y + del_y\n",
    "            acceptedTririals += 1;\n",
    "        if x**2 + y**2 < 1.0: n_hits += 1\n",
    "    return [4.0*n_hits/float(N), float(acceptedTririals)/float(N)]\n",
    "\n",
    "n_runs = 500\n",
    "n_trials = 1000\n",
    "## make list of $\\delta$-s \n",
    "delta_list = [0.1+0.1*i for i in xrange(50)]\n",
    "#print delta_list\n",
    "\n",
    "acc = [] # list of mean acceptnces for different $\\delta$-s\n",
    "rms_err = [] # list of mean rms errors for different $\\delta$-s\n",
    "\n",
    "for delta in delta_list:\n",
    "    acceptance = 0.0\n",
    "    suma = 0.0\n",
    "    for run in range(n_runs):\n",
    "        pi_est,acc_i = markov_pi(n_trials, delta)\n",
    "        acceptance += acc_i;\n",
    "        suma += (pi_est - math.pi) ** 2\n",
    "    rms_err.append(math.sqrt(suma / (n_runs)))\n",
    "    acc.append(acceptance/n_runs)\n"
   ]
  },
  {
   "cell_type": "code",
   "execution_count": 18,
   "metadata": {
    "collapsed": false
   },
   "outputs": [
    {
     "data": {
      "image/png": "[encoded data removed]",
      "text/plain": [
       "<matplotlib.figure.Figure at 0x7f636c6bbe90>"
      ]
     },
     "metadata": {},
     "output_type": "display_data"
    }
   ],
   "source": [
    "pylab.plot(delta_list, acc, 'o')\n",
    "pylab.xlabel('$\\delta$')\n",
    "pylab.ylabel('acceptRatio')\n",
    "pylab.title('Markov Chain: Dependence of acceptance ratio on $\\delta$')\n",
    "pylab.show()"
   ]
  },
  {
   "cell_type": "markdown",
   "metadata": {},
   "source": [
    "## B2\n",
    "The \"1/2 thumb rule\" predicts that the best performance of the Markov Chain Monte Carlo algorithm is\n",
    "for an acceptance ratio of approximately 1/2: half the moves are accepted, and half of them are rejected.\n",
    "In (B1) you computed the acceptance ratios for $\\delta=0.1, \\delta=0.2, \\delta=0.3,..., \\delta=5.0$ (Note that $\\delta$ can be larger than the box). Find the $\\delta$-interval in which the acceptance ratio equals 1/2 with a $10^{-1}$ precision."
   ]
  },
  {
   "cell_type": "markdown",
   "metadata": {},
   "source": [
    "Interval is rougly $\\delta$ $\\in$ [1.0, 1.2]"
   ]
  },
  {
   "cell_type": "markdown",
   "metadata": {},
   "source": [
    "# B3\n",
    "We now study the performance of the Markov chain algorithm as a function of $\\delta$. Again, use n_runs = 500 and\n",
    "n_trials = 1000. Modify the program so that it computes the rms error, exactly as we did for the direct sampling algorithm, using again the formula\n",
    "\n",
    "$$\n",
    "\\text{rms_error} = \\sqrt{\\dfrac{1}{\\text{n_runs}} \\sum\\limits_{i=0}^{\\text{n_runs} - 1} (\\pi_i^{\\text{est}} - \\pi)^2},\n",
    "$$\n",
    "\n",
    "for values of $\\delta=0.1, \\delta=0.2, \\delta=0.3,..., \\delta=5.0$. Plot the rms error as a function of $\\delta$ . Note\n",
    "that the rms error gives the actual precision of your calculation, as you compare with the exact mathematical value of $\\pi$."
   ]
  },
  {
   "cell_type": "code",
   "execution_count": 19,
   "metadata": {
    "collapsed": false
   },
   "outputs": [
    {
     "data": {
      "image/png": "[encoded data removed]",
      "text/plain": [
       "<matplotlib.figure.Figure at 0x7f636c627d90>"
      ]
     },
     "metadata": {},
     "output_type": "display_data"
    }
   ],
   "source": [
    "pylab.plot(delta_list, rms_err, 'o')\n",
    "pylab.xlabel('$\\delta$')\n",
    "pylab.ylabel('rms_error')\n",
    "pylab.title('Markov Chain: Dependence of rms_error on $\\delta$')\n",
    "pylab.show()"
   ]
  },
  {
   "cell_type": "markdown",
   "metadata": {},
   "source": [
    "# B4\n",
    "Comment shortly\n",
    "1. whether the acceptance rate 1/2 indeed gives better accuracy than other choices, by referring to your figures, and compare it to the performance of the algorithm for other values of $\\delta$.\n",
    "2. why $\\delta \\simeq 0$ and $\\delta \\to \\infty$ give worse results than the intermediate value of δ that corresponds to the 1/2 rule."
   ]
  },
  {
   "cell_type": "markdown",
   "metadata": {},
   "source": [
    "## Answers:\n",
    "(1) In interval where acceptance is roughly equal to 0.5 actual rms_error has its minim in plot of dependence of rms_error on $\\delta$. So that if we chose $\\delta$ such that acceptance $\\approx$ 0.5, we get optimal performance and also minimal rms_error.\n",
    "\n",
    "(2) For $\\delta \\simeq 0$ each step is so small that sampling of whole space is too slow and many of acceptable positions in sampled space are not visited, so that in finite number of steps only small fraction of space is sampled and result given by sampling is highly biased based on initial position. (starting from inside the circle is biased toward larger estimate of $\\pi$ while starting outside the circle is biased to lower estimate of $\\pi$)\n",
    "\n",
    "On the other hand, for $\\delta \\to \\infty$ probability of having step size larger then size of sampled space increase so that more and more trials are rejected and \"effective\" number of trials (trials that count to estimate of $\\pi$) significantly decrease."
   ]
  },
  {
   "cell_type": "markdown",
   "metadata": {},
   "source": [
    "# C The bunching algorithm\n",
    "\n",
    "Real Markov-chain simulations present two differences with respect to what we presented in section B:\n",
    "1. It is not possible to compare the numerical data to the exact result, here $\\pi = 3.1415\\ldots$, as we simply\n",
    "do not know the result. In the rms error, in which we have up to now compared the output of our calculation with the known exact value $\\pi = 3.1415\\ldots...$, we must therefore replace the mathematical value $\\pi$ by an\n",
    "estimate.\n",
    "2. It is usually not possible to have many independent runs (it is usually not possible to put n_runs $>> 1$ in our example) that each evolve for very long times (it is usually not possible to set n_trials=1000 in our example). One therefore needs to estimate the error from a single run.\n",
    "\n",
    "For independent data $x_0, x_1, x_2....., x_{(\\text{n_trials} -1)}$ such as those produced by the direct sampling algorithm, this is easy, and the error is given by\n",
    "$$\n",
    "\\text{error} = \\dfrac{<x^2> - <x>^2}{\\sqrt{\\text{n_trials}}},\n",
    "$$\n",
    "where $<x^2> = \\sum\\limits_i \\dfrac{x_i^2}{\\text{n_trials}}$  and $<x> = \\sum\\limits_i \\dfrac{x_i}{\\text{n_trials}}$.\n",
    "Note that in the above error formula we no longer compare with the exact value of $\\pi$ (that we do not\n",
    "know), and that the $x_i$ in our example are either 0 (in the square, outside the circle) or 4 (inside the\n",
    "circle).\n",
    "\n",
    "For independent data, we expect that with a probability of roughly 0.68 (1 standard dev of the Gaussian distribution), the true expectation value of $x$, (that is, in our example $\\pi = 3.1415\\ldots$), is in the interval $[<x> − \\text{error}, <x> + \\text{error}]$ (Cf concept of \"error bar\")."
   ]
  },
  {
   "cell_type": "markdown",
   "metadata": {},
   "source": [
    "## C1\n",
    "Convince yourself that the naive error formula\n",
    "$$\n",
    "\\text{error} = \\dfrac{<x^2> - <x>^2}{\\sqrt{\\text{n_trials}}},\n",
    "$$\n",
    "**cannot** be used for Markov-chain data $x_0, x_1, x_2....., x_{\\text{n_trials} -1}$. To this end, use the code snippet below (with n_trials = 2 ** 14, delta = 0.1, n_games = 100), in order to estimate the probability with which the true value of $\\pi$ lies inside the naive error interval $[<x> − \\text{error}, <x> + \\text{error}]$. Run the code and print the necessary outputs, in order to evaluate this probability. Give your result in a new cell below."
   ]
  },
  {
   "cell_type": "code",
   "execution_count": 20,
   "metadata": {
    "collapsed": false
   },
   "outputs": [],
   "source": [
    "def markov_pi_all_data(N, delta):\n",
    "    x, y = 1.0, 1.0\n",
    "    data_sum = 0.0\n",
    "    data_sum_sq = 0.0\n",
    "    for i in range(N):\n",
    "        del_x, del_y = random.uniform(-delta, delta), random.uniform(-delta, delta)\n",
    "        if abs(x + del_x) < 1.0 and abs(y + del_y) < 1.0:\n",
    "            x, y = x + del_x, y + del_y\n",
    "        if x ** 2 + y ** 2 < 1.0:\n",
    "            data_sum += 4.0\n",
    "            data_sum_sq += 4.0 ** 2\n",
    "    return data_sum / float(N), data_sum_sq / float(N)\n",
    "\n",
    "n_trials = 2 ** 14\n",
    "delta = 0.1\n",
    "n_games = 100\n",
    "inside_error_bar = 0\n",
    "naive_error_sum = 0\n",
    "\n",
    "for iteration in range(n_games):\n",
    "    mean, mean_square = markov_pi_all_data(n_trials, delta)\n",
    "    naive_error = math.sqrt(mean_square  - mean ** 2) / math.sqrt(n_trials)\n",
    "    naive_error_sum += naive_error\n",
    "    error =  abs(mean - math.pi)\n",
    "    if error < naive_error: \n",
    "        inside_error_bar += 1"
   ]
  },
  {
   "cell_type": "code",
   "execution_count": 21,
   "metadata": {
    "collapsed": false
   },
   "outputs": [
    {
     "name": "stdout",
     "output_type": "stream",
     "text": [
      "Probability of finding value in naive error interval: 0.07\n",
      "Mean naive error: 0.0128027530076\n"
     ]
    }
   ],
   "source": [
    "print \"Probability of finding value in naive error interval: \"+str(float(inside_error_bar)/float(n_games))\n",
    "print \"Mean naive error: \"+str(float(naive_error_sum)/float(n_games))"
   ]
  },
  {
   "cell_type": "markdown",
   "metadata": {},
   "source": [
    "## C2 \n",
    "In order to improve the error estimation for the Markov chain, the bunching algorithm uses an independent error analysis for the Markov-chain data $x_0, x_1, x_2....., x_{\\text{n_trials} -1}$, but then analyzes these data again, using an independent error analysis for the data grouped in pairs $(x_0 + x_1)/2, (x_2 + x_3)/2, (x_4 + x_5)/2, .... (x_(\\text{n_trials} -2) + x_(\\text{n_trials} -1))/2$. This process is then repeated for several iterations, making pairs of pairs, then pairs of pairs of pairs, etc.\n",
    "\n",
    "This very successful algorithm is implemented for a long sequence of data produced by the Markov chain algorithm (using $x_i$ = 4 for a hit, and $x_i = 0$  for a miss) in the below code. The code produces a plot of the error against the iteration number."
   ]
  },
  {
   "cell_type": "code",
   "execution_count": 23,
   "metadata": {
    "collapsed": false
   },
   "outputs": [
    {
     "data": {
      "image/png": "[encoded data removed]",
      "text/plain": [
       "<matplotlib.figure.Figure at 0x7f6384069050>"
      ]
     },
     "metadata": {},
     "output_type": "display_data"
    }
   ],
   "source": [
    "import random, pylab, math\n",
    "\n",
    "def markov_pi_all_data(N, delta):\n",
    "    x, y = 1.0, 1.0\n",
    "    data = []\n",
    "    for i in range(N):\n",
    "        del_x, del_y = random.uniform(-delta, delta), random.uniform(-delta, delta)\n",
    "        if abs(x + del_x) < 1.0 and abs(y + del_y) < 1.0:\n",
    "            x, y = x + del_x, y + del_y\n",
    "        if x ** 2 + y ** 2 < 1.0:\n",
    "            data.append(4.0)\n",
    "        else:\n",
    "            data.append(0.0)\n",
    "    return data\n",
    "\n",
    "poweroftwo = 14\n",
    "n_trials = 2 ** poweroftwo\n",
    "delta = 0.1\n",
    "data = markov_pi_all_data(n_trials, delta)\n",
    "errors  = []\n",
    "bunches = []\n",
    "for i in range(poweroftwo):\n",
    "    new_data = []\n",
    "    mean = 0.0\n",
    "    mean_sq = 0.0\n",
    "    N = len(data)\n",
    "    while data != []:\n",
    "        x = data.pop()\n",
    "        y = data.pop()\n",
    "        mean += x + y\n",
    "        mean_sq += x ** 2 + y ** 2\n",
    "        new_data.append((x + y) / 2.0 )\n",
    "    errors.append(math.sqrt(mean_sq / N - (mean / N) ** 2) / math.sqrt(N))\n",
    "    bunches.append(i)\n",
    "    data = new_data[:]\n",
    "pylab.plot(bunches, errors, 'o')\n",
    "pylab.xlabel('iteration')\n",
    "pylab.ylabel('naive error')\n",
    "pylab.title('Bunching: naive error vs iteration number')\n",
    "pylab.savefig('apparent_error_bunching.png', format='PNG')\n",
    "pylab.show()"
   ]
  },
  {
   "cell_type": "markdown",
   "metadata": {},
   "source": [
    "The observed error is found to increase with the iterations, and exhibits a plateau. This plateau is an\n",
    "excellent estimation of the true error of the Markov-chain output. Run this program and answer three\n",
    "questions:\n",
    "1. Which point on the plot produced by the program of this section corresponds to the naive error of\n",
    "section C1?\n",
    "2. Why does the error initially increase with the iterations?\n",
    "3. Why is there a plateau, at all?"
   ]
  },
  {
   "cell_type": "markdown",
   "metadata": {},
   "source": [
    "## Answers:\n",
    "(1) First point in plot for 0-th iteration of bunching represent naive error estimate.\n",
    "\n",
    "(2) With increased number of iterations correlation between bunched means decrease, so that derived naive error converge to true one.\n",
    "\n",
    "(3) Once correlation between bunched means become uncorrelated, further bunching of uncorrelated data does not change variance."
   ]
  }
 ],
 "metadata": {
  "kernelspec": {
   "display_name": "Python [Root]",
   "language": "python",
   "name": "Python [Root]"
  },
  "language_info": {
   "codemirror_mode": {
    "name": "ipython",
    "version": 2
   },
   "file_extension": ".py",
   "mimetype": "text/x-python",
   "name": "python",
   "nbconvert_exporter": "python",
   "pygments_lexer": "ipython2",
   "version": "2.7.12"
  }
 },
 "nbformat": 4,
 "nbformat_minor": 0
}
