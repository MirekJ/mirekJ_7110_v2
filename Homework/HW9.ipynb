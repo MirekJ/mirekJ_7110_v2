{
 "cells": [
  {
   "cell_type": "code",
   "execution_count": null,
   "metadata": {
    "collapsed": true
   },
   "outputs": [],
   "source": [
    "%matplotlib inline\n",
    "import random, pylab, math, numpy"
   ]
  },
  {
   "cell_type": "markdown",
   "metadata": {},
   "source": [
    "In this homework session, you will study a crucial application of statistical mechanics, namely the simulated annealing method. After a short introduction, using two preparation programs, you will consider the packing problem of disks on a sphere, following Newton and Gregory (1694) and then the travelling salesman problem."
   ]
  },
  {
   "cell_type": "markdown",
   "metadata": {},
   "source": [
    "# A\n",
    "\n",
    "Here, we sum up a mathematical result relevant to simulated annealing.\n",
    "\n",
    "## A1\n",
    "\n",
    "Preparation program 1, below, simulates a particle in a one-dimensional potential given by\n",
    "\n",
    "$$\n",
    "V(x)= -4 x^2 -0.5x^3 +  x^4,\n",
    "$$\n",
    "\n",
    "which possesses two minima. The global minimum is at $x = 1.614$, and is this minimum that we want to estimate, using Monte Carlo methods. The second (local) minimum is located at $x = -1.239$."
   ]
  },
  {
   "cell_type": "code",
   "execution_count": null,
   "metadata": {
    "collapsed": false,
    "scrolled": true
   },
   "outputs": [],
   "source": [
    "def V(x):\n",
    "    pot = -4.0 * x ** 2 -0.5 * x ** 3 + x ** 4\n",
    "    return pot\n",
    "\n",
    "gamma = 0.0125\n",
    "n_iter = 100\n",
    "n_plus = 0\n",
    "\n",
    "for iteration in range(n_iter):\n",
    "    T = 2.0\n",
    "    x = 0\n",
    "    delta = 0.1\n",
    "    step = 0\n",
    "    n_accept = 0\n",
    "    while T > 0.0001:\n",
    "        step += 1\n",
    "        if step == 100:\n",
    "            T *= (1.0 - gamma)\n",
    "            if n_accept < 20:\n",
    "                delta *= 0.5\n",
    "            step = 0\n",
    "            n_accept = 0\n",
    "        x_new = x + random.uniform(-delta, delta)\n",
    "        if random.uniform(0.0, 1.0) < math.exp(- (V(x_new) - V(x)) / T):\n",
    "            x = x_new\n",
    "            n_accept += 1\n",
    "    if x > 1.58 and x < 1.62: \n",
    "        n_plus += 1\n",
    "        \n",
    "print n_plus / float(n_iter), x, gamma"
   ]
  },
  {
   "cell_type": "markdown",
   "metadata": {},
   "source": [
    "Study Preparation program 1, in particular its annealing schedule where, after each 100 iterations, the temperature is rescaled following \n",
    "\n",
    "T -> T * (1 - gamma) (Simulated annealing step)"
   ]
  },
  {
   "cell_type": "markdown",
   "metadata": {},
   "source": [
    "compute (by simply running the program, once you have understood it) the approximate probability with which the correct solution $x \\sim 1.614$ is found for $\\gamma = 0.5, 0.25, 0.125 ... 0.002$ (approximately). Convince yourself that \n",
    "\n",
    "1. for finite annealing rate gamma, the correct solution is not necessarily found in the limit $t \\to \\infty$.\n",
    "2. the correct solution is found with probability 1 for $t \\to \\infty$ in the limit of vanishing annealing rate ($\\gamma \\to 0$).\n",
    "\n",
    "# QUESTION\n",
    "\n",
    "1. Supply a table or display a figure showing your results for probability vs gamma for very large times.\n",
    "\n",
    "NB: Both your observations here are backed by mathematical theorems: For smooth potentials, simulated annealing is guaranteed to find the ground-state in the limit of infinite time in the limit of infinitely slow annealing. However, these theorems are not really useful in practice."
   ]
  },
  {
   "cell_type": "markdown",
   "metadata": {},
   "source": [
    "## A2\n",
    "\n",
    "We now imagine a thought experiment, consisting in a hard disk located in the container shown below. An actual implementation is neither required nor expected. The container has two boxes connected through a hard bottleneck. All its contours, and in particular the bottleneck, are made of hard walls."
   ]
  },
  {
   "cell_type": "markdown",
   "metadata": {},
   "source": [
    "![Bottleneck](./Figures/bottle_neck.png \"Bottleneck\")"
   ]
  },
  {
   "cell_type": "markdown",
   "metadata": {
    "collapsed": false,
    "scrolled": true
   },
   "source": [
    "Imagine that we perform a Monte Carlo simulation with displacements (x,y) -> (x + delx, y + dely), where delx, dely (that can be positive or negative) are much smaller than the dimensions of the container. After each 100 iterations, the disk radius is increased as follows:\n",
    "\n",
    "sigma -> sigma * (1 + gamma) with gamma > 0 (simulated annealing step),\n",
    "\n",
    "if it is possible (if there is an overlap, no action is taken). We want to find the largest disk fitting into the container.\n",
    "Convince yourself that simulated annealing for this case does NOT FIND WITH PROBABILITY 1 the optimal solution (disk to the right) in the limit $t \\to \\infty$, even for $\\gamma \\to 0$. \n",
    "\n",
    "# QUESTION\n",
    "\n",
    "1. Write down a short explanation of why this is so."
   ]
  },
  {
   "cell_type": "markdown",
   "metadata": {},
   "source": [
    "# B\n",
    "\n",
    "Here we perform simulated annealing for the disk-packing problem. For simplicity, you may use the program below. Note also that we only output configurations that are above a given density min_density."
   ]
  },
  {
   "cell_type": "code",
   "execution_count": null,
   "metadata": {
    "collapsed": false
   },
   "outputs": [],
   "source": [
    "def unit_sphere():\n",
    "    x = [random.gauss(0.0, 1.0) for i in range(3)]\n",
    "    norm = math.sqrt(sum(xk ** 2 for xk in x))\n",
    "    return [xk / norm for xk in x]\n",
    "\n",
    "def minimum_distance(positions, N):\n",
    "    dists = [math.sqrt(sum((positions[k][j] - positions[l][j]) ** 2 \n",
    "                           for j in range(3))) \n",
    "             for l in range(N)\n",
    "             for k in range(l)]\n",
    "    return min(dists)\n",
    "\n",
    "def resize_disks(positions, r, N, gamma):\n",
    "    Upsilon = minimum_distance(positions, N) / 2.0\n",
    "    r = r + gamma * (Upsilon - r)\n",
    "    return r\n",
    "\n",
    "N = 13\n",
    "gamma = 0.5\n",
    "min_density = 0.78\n",
    "\n",
    "for iteration in range(100):\n",
    "    print iteration\n",
    "    sigma = 0.25\n",
    "    r = 0.0\n",
    "    positions = [unit_sphere() for j in range(N)]\n",
    "    n_acc = 0\n",
    "    step = 0\n",
    "    while sigma > 1.e-8:\n",
    "        step += 1\n",
    "        if step % 500000 == 0:\n",
    "            eta = N / 2.0 * (1.0 - math.sqrt(1.0 - r ** 2))\n",
    "            print r, eta, sigma, acc_rate\n",
    "        k = random.randint(0, N - 1)\n",
    "        newpos = [positions[k][j] + random.gauss(0, sigma) for j in range(3)]\n",
    "        norm = math.sqrt(sum(xk ** 2 for xk in newpos))\n",
    "        newpos = [xk / norm for xk in newpos]\n",
    "        new_min_dist = min([math.sqrt(sum((positions[l][j] - newpos[j]) ** 2 \n",
    "                                          for j in range(3))) \n",
    "                            for l in range(k) + range(k + 1, N)])\n",
    "        if new_min_dist > 2.0 * r:\n",
    "            positions = positions[:k] + [newpos] + positions[k + 1:]\n",
    "            n_acc += 1\n",
    "        if step % 100 == 0:\n",
    "            acc_rate = n_acc / float(100)\n",
    "            n_acc = 0\n",
    "            if acc_rate < 0.2:\n",
    "                sigma *= 0.5\n",
    "            elif acc_rate > 0.8 and sigma < 0.5:\n",
    "                sigma *= 2.0\n",
    "            r = resize_disks(positions, r, N, gamma)\n",
    "            R = 1.0 / (1.0 / r - 1.0)\n",
    "            eta = 1.0 * N / 2.0 * (1.0 - math.sqrt(1.0 - r ** 2))\n",
    "    print 'final density: %f (gamma = %f)' % (eta, gamma)\n",
    "    if eta > min_density:\n",
    "        f = open('N_' + str(N) + '_final_'+ str(eta) + '.txt', 'w')\n",
    "        for a in positions:\n",
    "            f.write(str(a[0]) + ' ' + str(a[1]) + ' ' + str(a[2]) + '\\n')\n",
    "        f.close()"
   ]
  },
  {
   "cell_type": "markdown",
   "metadata": {},
   "source": [
    "Note the role of the following in this program:\n",
    "1. $R = \\dfrac{1}{1/r -1}$ relation between outer-sphere radius R and disk radius r\n",
    "2. $\\eta = N * (1 - \\sqrt{1 - r^2}) / 2$ surface area of the spherical caps formed by the disks."
   ]
  },
  {
   "cell_type": "markdown",
   "metadata": {},
   "source": [
    "## B1\n",
    "\n",
    "Run the simulated annealing program for N = 13 disks on a sphere. Experiment with its various parameters, especially with the annealing rate gamma, and the control parameter sigma, that sets the step width of the Markov chain.\n",
    "\n",
    "NB: Remember that step-width adjustment during a Monte Carlo calculation used for integration is FORBIDDEN.\n",
    "\n",
    "Use somewhat smaller values of gamma to recover the conjectured optimal solution for N=13, that has density $\\eta = 0.79139$, and a sub-optimal solution with density $\\eta = 0.78639$.\n",
    "\n",
    "# QUESTIONS\n",
    "\n",
    "1. indicate which value of $\\gamma$ you found most appropriate.\n",
    "1. Display the positions x,y,z as output by the program, for both configurations introduced in the text above.\n",
    "2. For small annealing rates, do you ALWAYS recover the optimal solution (case discussed in section A1) or do you find that you continue to find different solutions even for small annealing rates (case discussed in section A2)?\n",
    "\n",
    "NB: While it is proven that $R < 1$ for $N = 13$, it has not been proven that the solution with eta = 0.79139 is actually the best one."
   ]
  },
  {
   "cell_type": "markdown",
   "metadata": {},
   "source": [
    "## B2\n",
    "\n",
    "# QUESTIONS\n",
    "\n",
    "1. Find the optimal solution for N = 15 (it should have density $\\eta = 0.80731$)\n",
    "2. Display the positions x,y,z as output by the program for this optimal density.\n",
    "3. Optional (zero points to be gained): In fact, for N=15, prove that there are TWO optimal solutions at the same density. (Write a program checking that only in one of them, the 5-connected disks touch each other.)"
   ]
  },
  {
   "cell_type": "markdown",
   "metadata": {
    "collapsed": false
   },
   "source": [
    "## B3 \n",
    "\n",
    "# QUESTIONS\n",
    "\n",
    "1. Find the optimal solution for $N = 19$ (it should have density $\\eta = 0.81096$). \n",
    "2. Display the positions x,y,z as output by the program for this optimal density.\n",
    "3. Optional (zero points to be gained): Show that there are infinitely many optimal solutions, as one of the 19 disks is not jammed. (Write a program checking that one of the 19 disks is one-connected. This special disk has only one shortest distance).\n",
    "\n",
    "NB: Configurations of parts B2 and B3 were found by D. A. Kottwitz (1991) using a very complex optimization program."
   ]
  },
  {
   "cell_type": "markdown",
   "metadata": {},
   "source": [
    "# C\n",
    "\n",
    "Here we consider the travelling salesman problem (TSP), one of the classic problems in combinatorial optimization: given $N$ cities, with distances $d(i,j) = d(j,i)$ between them, find the shortest closed tour visiting all of them. The TSP is a prominent example of the class of NP complete problems, for which it is very difficult to find a solution, but this solution is easy to check. We will apply simulated annealing to the TSP in two dimensions. Simulated annealing provides a very interesting first approach to this problem.\n",
    "\n",
    "## C1\n",
    "\n",
    "Before simulated annealing, let us try a direct-sampling approach. For this, use the below program."
   ]
  },
  {
   "cell_type": "code",
   "execution_count": null,
   "metadata": {
    "collapsed": false
   },
   "outputs": [],
   "source": [
    "def dist(x, y):\n",
    "    return math.sqrt((x[0] -y[0]) ** 2 + (x[1] - y[1]) ** 2)\n",
    "\n",
    "def tour_length(cities, N):\n",
    "    return (sum (dist(cities[k + 1], cities[k]) \n",
    "                for k in range(N - 1)) \n",
    "            + dist(cities[0], cities[N - 1]))\n",
    "\n",
    "N = 20\n",
    "random.seed(12345)\n",
    "cities = [(random.uniform(0.0, 1.0), random.uniform(0.0, 1.0)) for i in range(N)]\n",
    "random.seed()\n",
    "energy_min = float('inf')\n",
    "\n",
    "for iter in xrange(1000000):\n",
    "    random.shuffle(cities)\n",
    "    energy = tour_length(cities, N)\n",
    "    if energy < energy_min:\n",
    "        print energy\n",
    "        energy_min = energy\n",
    "        new_cities = cities[:]\n",
    "\n",
    "cities = new_cities[:]\n",
    "for i in range(1,N):\n",
    "    pylab.plot([cities[i][0], cities[i - 1][0]], [cities[i][1], cities[i - 1][1]], 'bo-')\n",
    "pylab.plot([cities[0][0], cities[N - 1][0]], [cities[0][1], cities[N - 1][1]], 'bo-')\n",
    "pylab.title(str(energy_min))\n",
    "pylab.axis('scaled')\n",
    "pylab.axis([0.0, 1.0, 0.0, 1.0])\n",
    "pylab.savefig('TSP_configuration.png')\n",
    "pylab.show()"
   ]
  },
  {
   "cell_type": "markdown",
   "metadata": {},
   "source": [
    "Study this program. Notice that any tour is given by a random permutation of the cities. Notice also that the random number generator is initialized by a seed in order to generate an instance (positions of the $N$ cities), but is then randomized. Subsequent runs of the program produce the same instance, but then the program uses different random numbers at each run.\n",
    "\n",
    "# QUESTIONS\n",
    "\n",
    "1. Run the program several times for $N=10$, for $10^6$ iterations each (You may change the seed). Do you get the impression that you have obtained the optimal tour length? \n",
    "2. Explain briefly your observations and upload the \"optimal\" tour (by a visual control of the graphic representation of the tour).\n",
    "3. Run the program several times for $N=20$, for $10^6$ iterations each (You may change the seed). Do you get the impression that you have obtained the optimal tour length?\n",
    "4. Explain briefly your observations and display the figure representing the \"optimal\" tour."
   ]
  },
  {
   "cell_type": "markdown",
   "metadata": {},
   "source": [
    "## C2\n",
    "\n",
    "Now let us do simulated annealing, using the length of the tour as the quantity to be minimized. Use the below program, that you are free to run and to modify."
   ]
  },
  {
   "cell_type": "code",
   "execution_count": null,
   "metadata": {
    "collapsed": false
   },
   "outputs": [],
   "source": [
    "def dist(x, y):\n",
    "    return math.sqrt((x[0] -y[0]) ** 2 + (x[1] - y[1]) ** 2)\n",
    "def tour_length(cities, N):\n",
    "    return (sum (dist(cities[k + 1], cities[k])\n",
    "                 for k in range(N - 1)) \n",
    "            + dist(cities[0], cities[N - 1]))\n",
    "\n",
    "N = 20\n",
    "random.seed(12345)\n",
    "cities = [(random.uniform(0.0, 1.0), random.uniform(0.0, 1.0)) for i in range(N)]\n",
    "random.seed()\n",
    "random.shuffle(cities)\n",
    "\n",
    "beta = 1.0\n",
    "n_accept = 0\n",
    "best_energy = 10000.0\n",
    "energy = tour_length(cities, N)\n",
    "for iter in xrange(1000000):\n",
    "    if n_accept == 100:\n",
    "        beta *= 1.005\n",
    "        n_accept = 0\n",
    "    p = random.uniform(0.0, 1.0)\n",
    "    if p < 0.2:\n",
    "        i = random.randint(0, N / 2)\n",
    "        cities = cities[i:] + cities[:i]\n",
    "        i = random.randint(0, N / 2)\n",
    "        a = cities[:i]\n",
    "        a.reverse()\n",
    "        new_cities = a + cities[i:]\n",
    "    elif p < 0.6:\n",
    "        new_cities = cities[:]\n",
    "        i = random.randint(1, N - 1)\n",
    "        a = new_cities.pop(i)\n",
    "        j = random.randint(1, N - 2)\n",
    "        new_cities.insert(j, a)\n",
    "    else:\n",
    "        new_cities = cities[:]\n",
    "        i = random.randint(1, N - 1)\n",
    "        j = random.randint(1, N - 1)\n",
    "        new_cities[i] = cities[j]\n",
    "        new_cities[j] = cities[i]\n",
    "    new_energy = tour_length(new_cities, N)\n",
    "    if random.uniform(0.0, 1.0) < math.exp(- beta * (new_energy - energy)):\n",
    "        n_accept += 1\n",
    "        energy = new_energy\n",
    "        cities = new_cities[:]\n",
    "        if energy < best_energy:\n",
    "            best_energy = energy\n",
    "            best_tour = cities[:]\n",
    "    if iter % 100000 == 0: \n",
    "        print energy, iter, 1.0 / beta\n",
    "\n",
    "cities = best_tour[:]\n",
    "for i in range(1,N):\n",
    "    pylab.plot([cities[i][0], cities[i - 1][0]], [cities[i][1], cities[i - 1][1]], 'bo-')\n",
    "pylab.plot([cities[0][0], cities[N - 1][0]], [cities[0][1], cities[N - 1][1]], 'bo-')\n",
    "pylab.title(str(best_energy))\n",
    "pylab.axis('scaled')\n",
    "pylab.axis([0.0, 1.0, 0.0, 1.0])\n",
    "pylab.savefig('simulated_annealing_best_path_N%i.png' % N)"
   ]
  },
  {
   "cell_type": "markdown",
   "metadata": {},
   "source": [
    "Three types of moves are implemented in this program. Make sure you understand these moves (no need to write them up).\n",
    "\n",
    "# QUESTIONS\n",
    "\n",
    "1. Run the program for the same instance as in C1, for $N=10$. Do you find the same solution, or even a better solution?\n",
    "2. Display the figure showing the best solution you found.\n",
    "3. Run the program for the same instance as in C1, for $N=20$. Do you find the same solution, or even a better solution?\n",
    "4. Display the figure showing the best solution you found.\n",
    "5. Run the program for $N=50$. Do you think that the program finds the optimal solution or can you see, by visual inspection, that the solution found is sub-optimal? \n",
    "6. Display the figure showing the best solution you found.\n",
    "\n",
    "NB: Don't hesitate to experiment with larger values of N, different moves, etc."
   ]
  }
 ],
 "metadata": {
  "kernelspec": {
   "display_name": "Python 2",
   "language": "python",
   "name": "python2"
  },
  "language_info": {
   "codemirror_mode": {
    "name": "ipython",
    "version": 2
   },
   "file_extension": ".py",
   "mimetype": "text/x-python",
   "name": "python",
   "nbconvert_exporter": "python",
   "pygments_lexer": "ipython2",
   "version": "2.7.10"
  }
 },
 "nbformat": 4,
 "nbformat_minor": 0
}
