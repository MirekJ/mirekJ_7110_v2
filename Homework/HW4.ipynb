{
 "cells": [
  {
   "cell_type": "code",
   "execution_count": null,
   "metadata": {
    "collapsed": false
   },
   "outputs": [],
   "source": [
    "%matplotlib inline"
   ]
  },
  {
   "cell_type": "code",
   "execution_count": null,
   "metadata": {
    "collapsed": false
   },
   "outputs": [],
   "source": [
    "import random, pylab, math\n"
   ]
  },
  {
   "cell_type": "markdown",
   "metadata": {},
   "source": [
    "In this homework session, you will experience the power of Markov-chain Monte Carlo algorithms, and the intimate relation between sampling and integration.\n",
    "\n",
    "This homework involves hypherspheres, hypercubes and hypercylinders:\n",
    "Sampling a point in a hypercube is easy (and computing its volume trivial). This allows us to sample a\n",
    "point in the hypersphere, and to compute the hypersphere volume, but in high dimension, this recipe is no good.\n",
    "\n",
    "Sampling a point in a (d+1)-dimensional hypercylinder is easy for all d, if we know how to sample a\n",
    "point in the d-dimensional hypersphere. This allows us to compute the ratio of volumes of the (d+1)-\n",
    "dimensional hypersphere to the d-dimensional hypersphere.\n",
    "\n",
    "A recurrence strategy finally allows you to compute the volume of the d-dimensional hypersphere."
   ]
  },
  {
   "cell_type": "markdown",
   "metadata": {},
   "source": [
    "Summary: We first provide a glossary of terms and a preparation program:\n",
    "\n",
    "GLOSSARY OF TERMS:\n",
    "* **Sphere of radius r**: a three-dimensional object containing all points\n",
    "$x, y, z$ with $x^2 + y^2 + z^2 < r^2$. Its volume is $Vol_{s}(r, d=3)$.\n",
    "* **Unit sphere**: sphere of radius 1. Its volume is $Vol1_{s}(d=3)$.\n",
    "* **Unit hypersphere** in d dimensions: d-dimensional object containing all points\n",
    "$x_0, \\ldots, x_{d-1}$ with $x_0^2 + \\ldots + x_{d-1} ^2 < 1$. Its volume is $Vol1_{s}(d)$.\n",
    "* **Unit hypercube** in d dimensions: d-dimensional object containing all points $x_0, ..., x_{d-1}$ such that $-1 < x_0 < 1, \\ldots -1 < x_{d-1} < 1$. Its volume is $Vol1_{cube}(d)$.\n",
    "* **Unit cylinder**: a three-dimensional object containing all points $x, y, z$ such tht $x^2 + y^2 < 1$ and $-1 < z < 1$. Its volume is $Vol1_{cyl}(d=3)$.\n",
    "* **Unit hypercylinder** in d dimensions: d-dimensional object containing all points $x_0, ..., x_{d-1}$ such that $x_0^2 + \\ldots + x_{d-2} ^2 < 1$ and $-1 < x_{d-1} < 1$. Its volume is $Vol1_{cyl}(d)$."
   ]
  },
  {
   "cell_type": "markdown",
   "metadata": {},
   "source": [
    "## Preparation program"
   ]
  },
  {
   "cell_type": "code",
   "execution_count": null,
   "metadata": {
    "collapsed": false,
    "scrolled": true
   },
   "outputs": [],
   "source": [
    "import random, math\n",
    "def Vol1_s(dimension):\n",
    "    return math.pi ** (dimension / 2.0)/ math.gamma(dimension / 2.0 + 1.0)\n",
    "\n",
    "for dimension in range(1,20):\n",
    "    print dimension, Vol1_s(dimension)"
   ]
  },
  {
   "cell_type": "markdown",
   "metadata": {},
   "source": [
    "## A1"
   ]
  },
  {
   "cell_type": "markdown",
   "metadata": {},
   "source": [
    "## Questions:\n",
    "\n",
    "1. What is the volume of the three-dimensional sphere of radius r, Vol_s(r,3)? (give formula)\n",
    "2. What is the volume of the three-dimensional unit sphere? (give formula)\n",
    "3. What is the volume of the d-dimensional unit hypersphere? (give formula) (NB: see PREPARATION\n",
    "PROGRAM)\n",
    "4. What is the volume of the (d+1)-dimensional unit hypercylinder Vol1_cyl(d+1)?(give formula involving\n",
    "Vol1_s(d)).\n",
    "5. What is the volume of the d-dimensional unit hypercube? (give formula)"
   ]
  },
  {
   "cell_type": "markdown",
   "metadata": {},
   "source": [
    "## A2\n",
    "\n",
    "## Questions\n",
    "\n",
    "1. Can you confirm that the preparation program computes the volume of the unit hypersphere in dimensions from 1\n",
    "to 19? (Yes/No answer)\n",
    "2. Explain how to modify this program to compute the volume of the hypersphere of radius r.\n",
    "3. Extend the Preparation Program into a graphics version, and plot the quantity \"Vol1_s\" for all dimensions d from 1 through 200. Use linear scale in $x$ and logarithmic scale in $y$. Compute and display the numerical values Vol1_s(5), Vol1_s(20), Vol1_s(200), as you will need them later."
   ]
  },
  {
   "cell_type": "markdown",
   "metadata": {},
   "source": [
    "# B\n",
    "**Summary:**\n",
    "First, you will write a direct sampling algorithm for points in the d-dimensional unit hypercube. This generalizes what was done in week 1. You will then compute Vol1_s(d)/Vol1_cube(d) from the ratio of hits to trials - this is a generalization of what you already did in homework 1.\n",
    "\n",
    "You will then write a MCMC algorithm inside the unit hypersphere in d dimensions, and compare the (d+1)-dimensional unit hypersphere to the (d+1)-dimensional unit-hypercylinder.\n",
    "\n",
    "Finally, you will use some accordion-style considerations, in order to compute the volume of the 200-dimensional unit hypersphere\n",
    "\n",
    "## B1\n",
    "\n",
    "Generalize the program for direct sampling of the disk area in 2D, into a program valid for d dimensions.\n",
    "This allows you to sample points in the d-dimensional unit hypercube and to compute Vol1_s(d)/Vol1_cube(d) from the ratio of hits to trials. In your algorithm, implement the tabula-rasa rule, and break out of the construction of the vector $x_0, x_1,..., x_k, \\ldots, x_{d-1}$ as soon as $x_0^2 + \\ldots + x_k^2 > 1$.\n",
    "\n",
    "Use n_trials=1000000 for each dimension $d=1,2,3, \\ldots ,12$. You may repeatedly run the program for\n",
    "dimensions d=1,2,3... or implement a loop over dimensions. Stop as soon as, for a given dimension, you have zero hits for n_trials trials (this will appear quite rapidly).\n",
    "\n",
    "## Question\n",
    "\n",
    "Provide your program and a table listing:\n",
    "\n",
    "estimation of Vol1_s(d), exact value of Vol1_s(d) (exact), and n_hits,\n",
    "\n",
    "against the dimension d (skeleton provided below)"
   ]
  },
  {
   "cell_type": "raw",
   "metadata": {},
   "source": [
    "--------------------------------------------------------\n",
    "1000000 trials used for all dimensions\n",
    "d | estimation of Vol1_s(d) | Vol1_s(d) (exact) | n_hits\n",
    "--------------------------------------------------------\n",
    "\n",
    "1  | 2.0      | 2.0 | 1000000      "
   ]
  },
  {
   "cell_type": "markdown",
   "metadata": {},
   "source": [
    "## B2\n",
    "\n",
    "Generalize the MCMC implementation of the sampling of points inside a 2D disk, so that is samples points inside the d-dimensional unit hypersphere:\n",
    "\n",
    "* Represent the configuration point as a list: x = [x_0, x_1,...., x_k, ..., x_{d - 1}]\n",
    "* Start at the origin [0.0, 0.0, 0.0, ... 0.0] (program this as: x = [0] * d).\n",
    "* Instead of changing all dimensions at a time, as was done previously, for all iterations i = 0, 1, 2,...., n_trials: sample ONE dimension k and propose a change of x[k] only: \n",
    "\n",
    "k = random.randint(0, d - 1)\n",
    "x_new_k = x[k] + random.uniform(-1.0, 1.0)\n",
    "\n",
    "ACCEPT this move if the new radius < 1, otherwise REJECT and remain where you are.\n",
    "\n",
    "Hint: you may test this program for d=2 in the following way:\n",
    "* Produce a scatter plot of positions, and check that they look reasonable (for yourself, I will not check it).\n",
    "* Compute the mean value of ```r^2 = x[0] **2 + x[1] ** 2```. In d=2, this value should be equal to 1/2.\n",
    "\n",
    "## Questions\n",
    "\n",
    "1. Explain why $<r^2> = \\frac{1}{2}$\n",
    "2. Give the program for general d below."
   ]
  },
  {
   "cell_type": "markdown",
   "metadata": {},
   "source": [
    "## B3\n",
    "\n",
    "Extend the python program of section B2: Complement the random sample x_0...x_{d-1} in the d-dimensional hypersphere to a random sample in the (d+1)-dimensional unit HYPERCYLINDER, by simply drawing one additional random number ```x_supp=random.uniform(-1.0, 1.0)```, forming the set $x_0,...x_{d-1},x_{supp}$\n",
    "\n",
    "Now, define an observable Q:\n",
    "* Q = 1 if $x_0^2 + \\ldots + x_{d - 1} ^2 + x_{supp} ^2 < 1$\n",
    "* Q = 0 otherwise.\n",
    "\n",
    "## Questions\n",
    "\n",
    "1. Show that the following holds: $2 * <Q> = Vol1_s(d + 1) / Vol1_s(d)$\n",
    "2. Display the numerical value for Vol1_s(d + 1) / Vol1_s(d), obtained with the help of your program, for d = 1, 2."
   ]
  },
  {
   "cell_type": "markdown",
   "metadata": {},
   "source": [
    "# C\n",
    "\n",
    "In this section you get your program into shape for computing the ratio of volumes Vol1_s(200)/Vol_s(199) to high precision, and even V_h(200), from a series of calculations. Finally you do some error estimations.\n",
    "\n",
    "## C1\n",
    "\n",
    "Modify your program from section B (if necessary) to run in high dimensions: Each iteration should require a constant number of operations, independent of d:\n",
    "\n",
    "* Don't compute the squared radius $x[0]^2 + ... + x[d-1]^2$ from scratch each time. Instead, calculate it from the previous configuration.\n",
    "* Don't compute $x_0^2 + .... + x_{d - 1} ^2 + x_supp ^2$ (that is needed to evaluate <Q> ) from scratch each time. Instead, calculate it from what you already have available.\n",
    "\n",
    "## **Questions**\n",
    "1. Explain in a sentence what changes you have put into the fast version of the program.\n",
    "2. Provide your program below, and use it to compute Vol1_s(200) / Vol1_s(199)\n",
    "3. Compare your estimate with the exact result from section A."
   ]
  },
  {
   "cell_type": "markdown",
   "metadata": {},
   "source": [
    "## C2\n",
    "\n",
    "Now use a recurence strategy:\n",
    "* Modify your program from C1 so that it performs independent calculations for d=1,\n",
    "2, 3,..., 199, each time computing Vol1_s(d+1) / Vol1_s(d). Each of these calculations should start at the\n",
    "origin ```x = [0] * d```.\n",
    "* Put these results together with the analytical result of Vol1_s(1) to obtain Vol1_s(d).\n",
    "\n",
    "## Questions\n",
    "\n",
    "1. Explain in a few words your strategy for computing Vol1_s(d)\n",
    "2. Display your program.\n",
    "3. Test your program by computing Vol1_s(d=5) and compare with the exact result from section A.\n",
    "4. Produce a figure displaying Vol1_(d) as a function of d for d=2,....,200.\n",
    "5. Print out your numerical estimate for Vol1_s(5) and for Vol1_s(200)."
   ]
  }
 ],
 "metadata": {
  "kernelspec": {
   "display_name": "Python 2",
   "language": "python",
   "name": "python2"
  },
  "language_info": {
   "codemirror_mode": {
    "name": "ipython",
    "version": 2
   },
   "file_extension": ".py",
   "mimetype": "text/x-python",
   "name": "python",
   "nbconvert_exporter": "python",
   "pygments_lexer": "ipython2",
   "version": "2.7.10"
  }
 },
 "nbformat": 4,
 "nbformat_minor": 0
}
