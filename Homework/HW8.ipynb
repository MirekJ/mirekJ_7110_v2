{
 "cells": [
  {
   "cell_type": "code",
   "execution_count": null,
   "metadata": {
    "collapsed": false
   },
   "outputs": [],
   "source": [
    "%matplotlib inline\n",
    "import random, pylab, math, numpy, os\n",
    "import mpl_toolkits.mplot3d"
   ]
  },
  {
   "cell_type": "markdown",
   "metadata": {},
   "source": [
    "In this homework set, you will study the local Metropolis, the heatbath and the Cluster Monte Carlo algorithms for the two-dimensional Ising model on a square lattice with periodic boundary conditions. At the end of the homework session, you will have validated all three programs against known analytic results. furthermore, you will have compared the results to a classic result of Ferdinand and Fisher, from 1969, analyzed the time-behavior of the cluster algorithm of Wolff (1989), and started to understand Propp and Wilson's coupling from the past approach."
   ]
  },
  {
   "cell_type": "markdown",
   "metadata": {},
   "source": [
    "# A\n",
    "\n",
    "## A1\n",
    "\n",
    "Here, you implement the local Metropolis algorithm, and validate it through the comparison with an\n",
    "exactly known result. In a real-life application, this validation would run for many days on a computer, to establish agreement with the exact result to 5 or 6 significant digits.\n",
    "\n",
    "The local Metropolis algorithm for the Ising model is given below."
   ]
  },
  {
   "cell_type": "code",
   "execution_count": null,
   "metadata": {
    "collapsed": false
   },
   "outputs": [],
   "source": [
    "def energy(S, N, nbr):\n",
    "    E = 0.0\n",
    "    for k in range(N):\n",
    "        E -= S[k] * sum(S[nn] for nn in nbr[k])\n",
    "    return 0.5 * E\n",
    "\n",
    "L = 6\n",
    "N = L * L\n",
    "nbr = {i : ((i // L) * L + (i + 1) % L, (i + L) % N,\n",
    "            (i // L) * L + (i - 1) % L, (i - L) % N) \n",
    "       for i in range(N)}\n",
    "\n",
    "T = 2.0\n",
    "filename = 'local_'+ str(L) + '_' + str(T) + '.txt'\n",
    "S = [random.choice([1, -1]) for k in range(N)]\n",
    "nsteps = N * 100\n",
    "beta = 1.0 / T\n",
    "Energy = energy(S, N, nbr)\n",
    "E = []\n",
    "\n",
    "for step in range(nsteps):\n",
    "    k = random.randint(0, N - 1)\n",
    "    delta_E = 2.0 * S[k] * sum(S[nn] for nn in nbr[k])\n",
    "    if random.uniform(0.0, 1.0) < math.exp(-beta * delta_E):\n",
    "        S[k] *= -1\n",
    "        Energy += delta_E\n",
    "    E.append(Energy)\n",
    "E_mean = sum(E)/ len(E)\n",
    "\n",
    "print sum(E) / len(E) / N, 'mean energy'"
   ]
  },
  {
   "cell_type": "markdown",
   "metadata": {},
   "source": [
    "Greatly increase the number of iterations of the algorithm.\n",
    "\n",
    "Run it for L=6 and for T = 2.0.\n",
    "\n",
    "The exact value is known from exact enumeration: E/N =-1.747\n",
    "\n",
    "# QUESTION\n",
    "\n",
    "1.  Communicate the results obtained in four independent runs of the algorithms (no calculation of error bars required)."
   ]
  },
  {
   "cell_type": "markdown",
   "metadata": {},
   "source": [
    "## A2\n",
    "\n",
    "Modify your program so that it allows you to read in and write out configurations and also to print configurations on the screen. For simplicity, this program is provided, you are free run and modify it."
   ]
  },
  {
   "cell_type": "code",
   "execution_count": null,
   "metadata": {
    "collapsed": false
   },
   "outputs": [],
   "source": [
    "def x_y(k, L):\n",
    "    y = k // L\n",
    "    x = k - y * L\n",
    "    return x, y\n",
    "\n",
    "L = 128\n",
    "N = L * L\n",
    "nbr = {i : ((i // L) * L + (i + 1) % L, (i + L) % N,\n",
    "            (i // L) * L + (i - 1) % L, (i - L) % N)\n",
    "       for i in range(N)}\n",
    "\n",
    "T = 1.0\n",
    "filename = 'local_'+ str(L) + '_' + str(T) + '.txt'\n",
    "if os.path.isfile(filename):\n",
    "    f = open(filename, 'r')\n",
    "    S = []\n",
    "    for line in f:\n",
    "        S.append(int(line))\n",
    "    f.close()\n",
    "    print 'starting from file', filename\n",
    "else:\n",
    "    S = [random.choice([1, -1]) for k in range(N)]\n",
    "    print 'starting from scratch'\n",
    "    \n",
    "nsteps = N * 100\n",
    "beta = 1.0 / T\n",
    "\n",
    "for step in range(nsteps):\n",
    "    k = random.randint(0, N - 1)\n",
    "    delta_E = 2.0 * S[k] * sum(S[nn] for nn in nbr[k])\n",
    "    if random.uniform(0.0, 1.0) < math.exp(-beta * delta_E):\n",
    "        S[k] *= -1\n",
    "        \n",
    "\n",
    "conf = [[0 for x in range(L)] for y in range(L)]\n",
    "for k in range(N):\n",
    "    x, y = x_y(k, L)\n",
    "    conf[x][y] = S[k]"
   ]
  },
  {
   "cell_type": "code",
   "execution_count": null,
   "metadata": {
    "collapsed": false
   },
   "outputs": [],
   "source": [
    "pylab.imshow(conf, extent = [0, L, 0, L], interpolation='nearest')\n",
    "pylab.set_cmap('hot')\n",
    "pylab.colorbar()\n",
    "pylab.title('Local_'+ str(T) + '_' + str(L))\n",
    "pylab.savefig('Local_'+ str(T) + '_' + str(L)+ '.png')\n",
    "pylab.show()\n",
    "f = open(filename, 'w')\n",
    "for a in S:\n",
    "    f.write(str(a) + '\\n')\n",
    "f.close()"
   ]
  },
  {
   "cell_type": "markdown",
   "metadata": {},
   "source": [
    "From a random initial configuration, run this program at high temperature $T = 3.0$ (L=128) and at the critical temperature $T_{crit} = 2.27$ (L=128). Run it for sufficiently long, so that you have reached what you would consider as the $t \\to \\infty$ limit. (At $T_{crit}$, you should run your code for at least a few minutes). Notice that subsequent runs of this program realize a Markov chain (i.e., three runs with 100 + 100 + 100 iterations = 1 run with 300 iterations).\n",
    "\n",
    "# QUESTIONS\n",
    "\n",
    "1. Display typical configurations that you have obtained and comment on what you see. \n",
    "2. At low temperature, T = 1.0, run your code for L=32, first for 10 N iterations, then again, several times for 10 N iterations, then several times for 100 N iterations (if you see a stripe, run your program longer, up to several ties 1000 N or several times 10000 N iterations). You should observe that, after a quite long time, your simulation goes from a state with domain walls into a purely ferromagnetic state (essentially all spins +1 or essentially all spins -1). Display two or three pictures at different times. Do you observe (running for several times 10000 N iterations) that the local Metropolis algorithm flips between configurations of negative overall magnetization (mostly black) and configurations of positive overall magnetization (mostly white)?\n",
    "3. At low temperature, T = 1.0 (as before), run your code for L=128 and display a configuration. Explain what you observe. In particular, do you observe that the system becomes homogeneous (mostly white or mostly black) on the available time scales?"
   ]
  },
  {
   "cell_type": "markdown",
   "metadata": {},
   "source": [
    "# B\n",
    "\n",
    "In this section, you run the Wolff cluster algorithm, one of the great (but little understood) algorithms of statistical physics.\n",
    "\n",
    "## B1\n",
    "\n",
    "The Wolff cluster Monte Carlo algorithm for the Ising model is implemented below.\n",
    "\n",
    "Familiarize yourself with how it works before going on. Explain in a few words what the Pocket stands for."
   ]
  },
  {
   "cell_type": "code",
   "execution_count": null,
   "metadata": {
    "collapsed": false
   },
   "outputs": [],
   "source": [
    "def energy(S, N, nbr):\n",
    "    E = 0.0\n",
    "    for k in range(N):\n",
    "        E -= S[k] * sum(S[nn] for nn in nbr[k])\n",
    "    return 0.5 * E\n",
    "\n",
    "L = 6\n",
    "N = L * L\n",
    "nbr = {i : ((i // L) * L + (i + 1) % L, (i + L) % N,\n",
    "            (i // L) * L + (i - 1) % L, (i - L) % N)\n",
    "       for i in range(N)}\n",
    "\n",
    "T = 2.0\n",
    "p = 1.0 - math.exp(-2.0 / T)\n",
    "nsteps = 10000\n",
    "S = [random.choice([1, -1]) for k in range(N)]\n",
    "E = [energy(S, N, nbr)]\n",
    "\n",
    "for step in range(nsteps):\n",
    "    k = random.randint(0, N - 1)\n",
    "    Pocket, Cluster = [k], [k]\n",
    "    while Pocket != []:\n",
    "        j = random.choice(Pocket)\n",
    "        for l in nbr[j]:\n",
    "            if S[l] == S[j] and l not in Cluster and random.uniform(0.0, 1.0) < p:\n",
    "                Pocket.append(l)\n",
    "                Cluster.append(l)\n",
    "        Pocket.remove(j)\n",
    "    for j in Cluster:\n",
    "        S[j] *= -1\n",
    "    E.append(energy(S, N, nbr))\n",
    "print sum(E)/ len(E) / N"
   ]
  },
  {
   "cell_type": "markdown",
   "metadata": {},
   "source": [
    "Greatly increase the number of iterations of the algorithm. \n",
    "\n",
    "Run it for L=6 and T = 2.0.\n",
    "\n",
    "Check that you recover the exact value for the mean energy $E/N(T=2, L=6) = -1.747$ (known from exact enumeration).\n",
    "\n",
    "# QUESTIONS\n",
    "\n",
    "1. Communicate the results obtained in four independent runs of the algorithms.\n",
    "2. Is it necessary to pick a random element j of the pocket (element that we eliminate from the pocket through Pocket.remove(j)), or can we simply pop the last element of Pocket (j = Pocket.pop())?\n",
    "3. Modify then run the program modified according to the suggestion of the preceding question (note that it has one less line, the Pocket.remove() line is no longer needed), and explain your observations."
   ]
  },
  {
   "cell_type": "markdown",
   "metadata": {},
   "source": [
    "## B2 \n",
    "\n",
    "The Ising model was solved exactly by Onsager, in 1944, for the infinite lattice. The exact solution for the finite lattice was obtained by Kaufman in 1949 . Based on her paper, Ferdinand and Fisher, in 1969, computed the specific heat for finite lattices with periodic boundary conditions, exactly the system that we consider, and the result is shown in Fig1 of their paper, which you will find in your repo, in the \"Figures\" folder below the current one.\n",
    "\n",
    "Incorporate into the cluster algorithm the read-in, write-out part of section A2, which allows you to do a 'warm start' (that is, discard some initial data). Run this modified cluster algorithm for lattices of size L=2, 4, 8, 16, 32 and check Ferdinand and Fisher's analytical results. To do so, implement a few lines analogous to:"
   ]
  },
  {
   "cell_type": "code",
   "execution_count": null,
   "metadata": {
    "collapsed": true
   },
   "outputs": [],
   "source": [
    "E_mean = sum(E)/ len(E)\n",
    "E2_mean = sum(a ** 2 for a in E) / len(E)\n",
    "cv = (E2_mean - E_mean ** 2 ) / N / T ** 2"
   ]
  },
  {
   "cell_type": "markdown",
   "metadata": {},
   "source": [
    "(Remember the definition of the specific heat given in class).\n",
    "\n",
    "# QUESTION\n",
    "\n",
    "1. Communicate your results (without error bars, just quote the results of one or two runs, after a warm start, for each value of the parameters) at the critical temperature T = 2.27.\n",
    "NB: we just need rough agreement.\n",
    "2. Can you confirm that observables such as the specific heat for the Ising model in the transition region exhibit a strong finite size effect?"
   ]
  },
  {
   "cell_type": "markdown",
   "metadata": {},
   "source": [
    "# C\n",
    "\n",
    "In this section, you run the heatbath algorithm.\n",
    "\n",
    "## C1\n",
    "\n",
    "The heatbath algorithm for the Ising model is implemented in the cell below. Familiarize yourself with how it works."
   ]
  },
  {
   "cell_type": "code",
   "execution_count": null,
   "metadata": {
    "collapsed": false
   },
   "outputs": [],
   "source": [
    "L = 6\n",
    "N = L * L\n",
    "nbr = {i : ((i // L) * L + (i + 1) % L, (i + L) % N,\n",
    "            (i // L) * L + (i - 1) % L, (i - L) % N) \n",
    "       for i in range(N)}\n",
    "\n",
    "nsteps = 10 * N\n",
    "T = 2\n",
    "beta = 1.0 / T\n",
    "\n",
    "S = [random.choice([-1, 1]) for site in range(N)]\n",
    "E = -0.5 * sum(S[k] * sum(S[nn] for nn in nbr[k]) for k in range(N))\n",
    "Energies = []\n",
    "\n",
    "for step in range(nsteps):\n",
    "    k = random.randint(0, N - 1)\n",
    "    Upsilon = random.uniform(0.0, 1.0)\n",
    "    h = sum(S[nn] for nn in nbr[k])\n",
    "    Sk_old = S[k]\n",
    "    S[k] = -1\n",
    "    if Upsilon < 1.0 / (1.0 + math.exp(-2.0 * beta * h)):\n",
    "        S[k] = 1\n",
    "    if S[k] != Sk_old:\n",
    "        E -= 2.0 * h * S[k]\n",
    "    Energies.append(E)\n",
    "print sum(Energies) / len(Energies) / N"
   ]
  },
  {
   "cell_type": "markdown",
   "metadata": {},
   "source": [
    "Greatly increase the number of iterations of the algorithm.\n",
    "\n",
    "Run it for L=6 and for T = 2.0. Check that you recover the exact value for the mean energy E/N(T=2, L=6) = -1.747.\n",
    "\n",
    "# QUESTION\n",
    "\n",
    "1. Communicate the results obtained in four independent runs of the algorithm."
   ]
  },
  {
   "cell_type": "markdown",
   "metadata": {},
   "source": [
    "## C2 \n",
    "\n",
    "Modify the heatbath algorithm so that it does **two** computations in parallel, as discussed during the lecture:\n",
    "one starting from the all plus spin configuration, and one from the all minus configuration. For simplicity,\n",
    "the implementation is provided. You are free run and modify it, but familiarize yourself thoroughly with this program.\n"
   ]
  },
  {
   "cell_type": "code",
   "execution_count": null,
   "metadata": {
    "collapsed": false
   },
   "outputs": [],
   "source": [
    "L = 32\n",
    "N = L * L\n",
    "nbr = {i : ((i // L) * L + (i + 1) % L, (i + L) % N,\n",
    "            (i // L) * L + (i - 1) % L, (i - L) % N)\n",
    "       for i in range(N)}\n",
    "\n",
    "T = 5.0\n",
    "beta = 1.0 / T\n",
    "t_coup = []\n",
    "for iter in range(10):\n",
    "    print iter\n",
    "    S0 = [1] * N\n",
    "    S1 = [-1] * N\n",
    "    step = 0\n",
    "    while True:\n",
    "        step += 1\n",
    "        k = random.randint(0, N - 1)\n",
    "        Upsilon = random.uniform(0.0, 1.0)\n",
    "        h = sum(S0[nn] for nn in nbr[k])\n",
    "        S0[k] = -1\n",
    "        if Upsilon < 1.0 / (1.0 + math.exp(-2.0 * beta * h)):\n",
    "            S0[k] = 1\n",
    "        h = sum(S1[nn] for nn in nbr[k])\n",
    "        S1[k] = -1\n",
    "        if Upsilon < 1.0 / (1.0 + math.exp(-2.0 * beta * h)):\n",
    "            S1[k] = 1\n",
    "        if step % N == 0:\n",
    "            n_diff = sum(abs(S0[i] - S1[i]) for i in range(N))\n",
    "            if n_diff == 0:\n",
    "                t_coup.append(step / N)\n",
    "                break\n",
    "print t_coup\n",
    "print sum(t_coup) / len(t_coup)"
   ]
  },
  {
   "cell_type": "markdown",
   "metadata": {},
   "source": [
    "Compute the time (in number of \"sweeps\", i.e. in number of steps / N) at which the algorithm couples, that is, at which the difference between the configurations generated in one run and the other falls to zero. Plot this coupling time (averaged over 10 runs with different random numbers) for L = 32 at temperature T= 5.0, 4.0, 3.0, 2.5, 2.4, 2.3. **Attention**: run T=2.3 only if you have a lot of CPU time available...In the Ising model, the coupling time is, up to a logarithmic factor in N, equal to the correlation time, so this coupling time informs you of the order of magnitude of the correlation time. \n",
    "\n",
    "# QUESTIONS\n",
    "\n",
    "1. Describe what you see.\n",
    "2. Ferdinand and Fisher, in a footnote of their 1969 paper discussed earlier, compared their exact calculations with the earliest Monte Carlo calculations on the Ising model. Take a look at the footnote 20 in the paper, p841. In the light of your exact bounds on the correlation time, can you explain the insufficient agreement between theory and numerics reported by Ferdinand and Fisher?"
   ]
  },
  {
   "cell_type": "markdown",
   "metadata": {},
   "source": [
    "The algorithm in C2 couples, and its coupling time provides a rigorous limit on the convergence time. Nevertheless, the configuration obtained is not really a random configuration, simply because the coupling time itself has fluctuations. For your information and enjoyment, we provide here a rudimentary yet exact algorithm following the \"coupling from the past principle\" that, rather than simulating from time t=0 to a coupling time t_coup, mimicks a simulation from $t= -\\infty$ to $t=0$."
   ]
  },
  {
   "cell_type": "code",
   "execution_count": null,
   "metadata": {
    "collapsed": false
   },
   "outputs": [],
   "source": [
    "L = 16\n",
    "N = L * L\n",
    "nbr = {i : ((i // L) * L + (i + 1) % L, (i + L) % N,\n",
    "            (i // L) * L + (i - 1) % L, (i - L) % N) \n",
    "       for i in range(N)}\n",
    "\n",
    "nsteps = 10\n",
    "T = 3.0\n",
    "beta = 1.0 / T\n",
    "S0 = [1] * N\n",
    "S1 = [-1] * N\n",
    "k = {}\n",
    "Upsilon = {}\n",
    "n_diff = 10\n",
    "\n",
    "while n_diff != 0:\n",
    "    nsteps *= 2\n",
    "    for step in range(-nsteps, 0):\n",
    "        if step not in k:\n",
    "            k[step] = random.randint(0, N - 1)\n",
    "            Upsilon[step] = random.uniform(0.0, 1.0)\n",
    "        h = sum(S0[nn] for nn in nbr[k[step]])\n",
    "        S0[k[step]] = -1\n",
    "        if Upsilon[step] < 1.0 / (1.0 + math.exp(-2.0 * beta * h)):\n",
    "            S0[k[step]] = 1\n",
    "        h = sum(S1[nn] for nn in nbr[k[step]])\n",
    "        S1[k[step]] = -1\n",
    "        if Upsilon[step] < 1.0 / (1.0 + math.exp(-2.0 * beta * h)):\n",
    "            S1[k[step]] = 1\n",
    "    n_diff = 0\n",
    "    for i in range(N):\n",
    "        if S0[i] != S1[i]: \n",
    "            n_diff += 1\n",
    "    print nsteps, n_diff"
   ]
  },
  {
   "cell_type": "markdown",
   "metadata": {},
   "source": [
    "The configuration at t=0 is a perfect sample, following the coupling from the past idea of Propp and\n",
    "Wilson (1996). You can see that an infinite simulation, from t = -infty up to t = 0, would output the sample\n",
    "at t=0.\n",
    "\n",
    "\n",
    "# QUESTION\n",
    "\n",
    "Np points, no question asked - purely for scientific interest."
   ]
  }
 ],
 "metadata": {
  "kernelspec": {
   "display_name": "Python 2",
   "language": "python",
   "name": "python2"
  },
  "language_info": {
   "codemirror_mode": {
    "name": "ipython",
    "version": 2
   },
   "file_extension": ".py",
   "mimetype": "text/x-python",
   "name": "python",
   "nbconvert_exporter": "python",
   "pygments_lexer": "ipython2",
   "version": "2.7.10"
  }
 },
 "nbformat": 4,
 "nbformat_minor": 0
}
