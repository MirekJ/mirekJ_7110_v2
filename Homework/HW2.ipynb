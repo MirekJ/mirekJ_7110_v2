{
 "cells": [
  {
   "cell_type": "code",
   "execution_count": 2,
   "metadata": {
    "collapsed": false
   },
   "outputs": [],
   "source": [
    "%matplotlib inline\n",
    "import random, pylab, math, random"
   ]
  },
  {
   "cell_type": "markdown",
   "metadata": {},
   "source": [
    "# Introduction\n",
    "\n",
    "In this week's lecture, we studied three algorithms for the simulation of hard disks in a box:\n",
    "* Event-driven molecular dynamics\n",
    "* Direct sampling\n",
    "* Markov-chain sampling\n",
    "\n",
    "In this homework, you will check that the statistical properties of these algorithms are all the same. You will then interpret their output, and finally, explicitly verify the equiprobability principle for hard disks in a box."
   ]
  },
  {
   "cell_type": "markdown",
   "metadata": {},
   "source": [
    "# A\n",
    "\n",
    "In this section, we consider four disks in a square box of edge length 1, in a box without periodic boundary conditions. We set the density equal to $\\eta = 0.18$, which corresponds to a disk radius $\\sigma \\simeq 0.1196$.\n",
    "\n",
    "We consider a simple observable, the position $x$, as the $x$-coordinate of the center of a disk. We will compute its probability distribution, as the normed histogram of $x$-positions. This histogram is the same for all disks, so we can collect data for one disk or for all of them."
   ]
  },
  {
   "cell_type": "markdown",
   "metadata": {},
   "source": [
    "## A1\n",
    "\n",
    "Compute the histogram of the $x$-positions for the direct-sampling Monte Carlo algorithm by modifying the algorithm implemented in the cell below. For the sake of students without prior knowledge of python, the corresponding code is given below . Simply run it to produce a histogram of the x-positions with 100 bins as output."
   ]
  },
  {
   "cell_type": "code",
   "execution_count": 3,
   "metadata": {
    "collapsed": false
   },
   "outputs": [],
   "source": [
    "def direct_disks_box(N, sigma):\n",
    "    overlap = True\n",
    "    while overlap == True:\n",
    "        L = [(random.uniform(sigma, 1.0 - sigma), random.uniform(sigma, 1.0 - sigma))]\n",
    "        for k in range(1, N):\n",
    "            a = (random.uniform(sigma, 1.0 - sigma), random.uniform(sigma, 1.0 - sigma))\n",
    "            min_dist_sq = min(((a[0] - b[0]) ** 2 + (a[1] - b[1]) ** 2) for b in L) \n",
    "            if min_dist_sq < 4.0 * sigma ** 2: \n",
    "                overlap = True\n",
    "                break\n",
    "            else:\n",
    "                overlap = False\n",
    "                L.append(a)\n",
    "    return L\n",
    "\n",
    "N = 4\n",
    "sigma = 0.1197\n",
    "n_runs = 1000000\n",
    "histo_data = []\n",
    "for run in range(n_runs):\n",
    "    pos = direct_disks_box(N, sigma)\n",
    "    for k in range(N): histo_data.append(pos[k][0])"
   ]
  },
  {
   "cell_type": "code",
   "execution_count": 7,
   "metadata": {
    "collapsed": false
   },
   "outputs": [
    {
     "data": {
      "image/png": "[encoded data removed]",
      "text/plain": [
       "<matplotlib.figure.Figure at 0x7fdab5412250>"
      ]
     },
     "metadata": {},
     "output_type": "display_data"
    }
   ],
   "source": [
    "pylab.hist(histo_data, bins=100, normed=True)\n",
    "pylab.xlabel('x')\n",
    "pylab.ylabel('frequency')\n",
    "pylab.title(r'Direct sampling, $10^6$ valid configs')\n",
    "pylab.grid()\n",
    "pylab.savefig('direct_disks_histo.png')\n",
    "pylab.show()"
   ]
  },
  {
   "cell_type": "markdown",
   "metadata": {},
   "source": [
    "## A2\n",
    "### A2.1\n",
    "\n",
    "Compute the histogram of the $x$-positions with 100 bins for the Markov-chain sampling algorithm, by\n",
    "modifying the algorithm presented in class, and repeated in the cell below, in a manner similar to what was done in section A1. Set n_steps=2000000."
   ]
  },
  {
   "cell_type": "code",
   "execution_count": 12,
   "metadata": {
    "collapsed": false
   },
   "outputs": [],
   "source": [
    "L = [[0.25, 0.25], [0.75, 0.25], [0.25, 0.75], [0.75, 0.75]]\n",
    "sigma = 0.15\n",
    "sigma_sq = sigma ** 2\n",
    "delta = 0.1\n",
    "n_steps = 2000000\n",
    "histo_data_01 = []\n",
    "for steps in range(n_steps):\n",
    "    for k in range(4): histo_data_01.append(L[k][0])\n",
    "    a = random.choice(L)\n",
    "    b = [a[0] + random.uniform(-delta, delta), a[1] + random.uniform(-delta, delta)]\n",
    "    min_dist = min((b[0] - c[0]) ** 2 + (b[1] - c[1]) ** 2 for c in L if c != a)\n",
    "    box_cond = min(b[0], b[1]) < sigma or max(b[0], b[1]) > 1.0 - sigma\n",
    "    if not (box_cond or min_dist < 4.0 * sigma ** 2):\n",
    "        a[:] = b"
   ]
  },
  {
   "cell_type": "code",
   "execution_count": 13,
   "metadata": {
    "collapsed": false
   },
   "outputs": [
    {
     "data": {
      "image/png": "[encoded data removed]",
      "text/plain": [
       "<matplotlib.figure.Figure at 0x7fdaae678e50>"
      ]
     },
     "metadata": {},
     "output_type": "display_data"
    }
   ],
   "source": [
    "pylab.hist(histo_data_01, bins=100, normed=True)\n",
    "pylab.xlabel('x')\n",
    "pylab.ylabel('frequency')\n",
    "pylab.title(r'Markov-chain sampling, $\\delta = 0.1$, $2 \\cdot 10^6$ valid configs')\n",
    "pylab.grid()\n",
    "pylab.savefig('markov_chain_histo_d_01.png')\n",
    "pylab.show()"
   ]
  },
  {
   "cell_type": "code",
   "execution_count": 14,
   "metadata": {
    "collapsed": true
   },
   "outputs": [],
   "source": [
    "L = [[0.25, 0.25], [0.75, 0.25], [0.25, 0.75], [0.75, 0.75]]\n",
    "delta = 0.01\n",
    "histo_data_001 = []\n",
    "for steps in range(n_steps):\n",
    "    for k in range(4): histo_data_001.append(L[k][0])\n",
    "    a = random.choice(L)\n",
    "    b = [a[0] + random.uniform(-delta, delta), a[1] + random.uniform(-delta, delta)]\n",
    "    min_dist = min((b[0] - c[0]) ** 2 + (b[1] - c[1]) ** 2 for c in L if c != a)\n",
    "    box_cond = min(b[0], b[1]) < sigma or max(b[0], b[1]) > 1.0 - sigma\n",
    "    if not (box_cond or min_dist < 4.0 * sigma ** 2):\n",
    "        a[:] = b"
   ]
  },
  {
   "cell_type": "code",
   "execution_count": 15,
   "metadata": {
    "collapsed": false
   },
   "outputs": [
    {
     "data": {
      "image/png": "[encoded data removed]",
      "text/plain": [
       "<matplotlib.figure.Figure at 0x7fdaabe10e50>"
      ]
     },
     "metadata": {},
     "output_type": "display_data"
    }
   ],
   "source": [
    "pylab.hist(histo_data_001, bins=100, normed=True)\n",
    "pylab.xlabel('x')\n",
    "pylab.ylabel('frequency')\n",
    "pylab.title(r'Markov-chain sampling, $\\delta = 0.01$, $2 \\cdot 10^6$ valid configs')\n",
    "pylab.grid()\n",
    "pylab.savefig('markov_chain_histo_d_001.png')\n",
    "pylab.show()"
   ]
  },
  {
   "cell_type": "markdown",
   "metadata": {},
   "source": [
    "### A2.2\n",
    "\n",
    "State the **three mathematical conditions** that guarantee that the histogram for the Markov-chain\n",
    "sampling algorithm agrees with the direct-sampling one. Furthermore, explain briefly whether\n",
    "and why these three conditions are in fact satisfied by the four-disk system at density $\\eta = 0.18$."
   ]
  },
  {
   "cell_type": "markdown",
   "metadata": {},
   "source": [
    "### Answer (A2.2)\n",
    "#### 1-st condition: Global balance\n",
    "\n",
    "Global balance is satisfied if detailed balance is satisfied for pair of configurations $p_i \\pi_{i,j}=p_j \\pi_{j,i}$.\n",
    "Transition between each two configurations can be divided into chain of steps where always one circle is moved at the time, so that if detailed balance hold between each of steps (single move of particle) balance should also hold between states conected by chain, so that global balance should hold.\n",
    "In our case for each move of single circle detailed balance is satisfied since for transition between two acceptable states (circles do not overlap with each other or wall), probability of such states are same $p_i=p_j$ and since move are symetric also $\\pi_{i,j} = \\pi_{j,i}$.\n",
    "\n",
    "#### 2-nd condition : Ireducibility\n",
    "\n",
    "Ireducibility means that configuration space is conected so that there is, at least, one possible transition path between any two acceptable configurations. This should hold since density of system is low enough to enable circles to fluctuate.\n",
    "\n",
    "#### 3-rd condition : Aperiodicity\n",
    "\n",
    "System can not be periodic since move of each circle is always taken at random, so that there is no way how to predict number of consecutive moves such that system would always arive into same state."
   ]
  },
  {
   "cell_type": "markdown",
   "metadata": {},
   "source": [
    "## A3 Molecular dynamics\n",
    "\n",
    "We now consider the event driven molecular dynamics algorithm. In sections (A3.1), (A3.2), and (A3.3), always\n",
    "start from the algorithm provided in the cell below."
   ]
  },
  {
   "cell_type": "code",
   "execution_count": 61,
   "metadata": {
    "collapsed": false,
    "scrolled": true
   },
   "outputs": [],
   "source": [
    "def wall_time(pos_a, vel_a, sigma):\n",
    "    if vel_a > 0.0:\n",
    "        del_t = (1.0 - sigma - pos_a) / vel_a\n",
    "    elif vel_a < 0.0:\n",
    "        del_t = (pos_a - sigma) / abs(vel_a)\n",
    "    else:\n",
    "        del_t = float('inf')\n",
    "    return del_t\n",
    "\n",
    "def pair_time(pos_a, vel_a, pos_b, vel_b, sigma):\n",
    "    del_x = [pos_b[0] - pos_a[0], pos_b[1] - pos_a[1]]\n",
    "    del_x_sq = del_x[0] ** 2 + del_x[1] ** 2\n",
    "    del_v = [vel_b[0] - vel_a[0], vel_b[1] - vel_a[1]]\n",
    "    del_v_sq = del_v[0] ** 2 + del_v[1] ** 2\n",
    "    scal = del_v[0] * del_x[0] + del_v[1] * del_x[1]\n",
    "    Upsilon = scal ** 2 - del_v_sq * ( del_x_sq - 4.0 * sigma **2)\n",
    "    if Upsilon > 0.0 and scal < 0.0:\n",
    "        del_t = - (scal + math.sqrt(Upsilon)) / del_v_sq\n",
    "    else:\n",
    "        del_t = float('inf')\n",
    "    return del_t\n",
    "\n",
    "pos = [[0.25, 0.25], [0.75, 0.25], [0.25, 0.75], [0.75, 0.75]]\n",
    "vel = [[0.21, 0.12], [0.71, 0.18], [-0.23, -0.79], [0.78, 0.1177]]\n",
    "singles = [(0, 0), (0, 1), (1, 0), (1, 1), (2, 0), (2, 1), (3, 0), (3, 1)]\n",
    "pairs = [(0, 1), (0, 2), (0, 3), (1, 2), (1, 3), (2, 3)]\n",
    "sigma = 0.15\n",
    "t = 0.0\n",
    "n_events = 200000\n",
    "\n",
    "histo_data_EDMD = []\n",
    "\n",
    "for event in range(n_events):\n",
    "    for k in range(4): histo_data_EDMD.append(pos[k][0])\n",
    "    wall_times = [wall_time(pos[k][l], vel[k][l], sigma) for k, l  in singles]\n",
    "    pair_times = [pair_time(pos[k], vel[k], pos[l], vel[l], sigma) for k, l in pairs]\n",
    "    next_event = min(wall_times + pair_times)\n",
    "    t += next_event\n",
    "    for k, l in singles: pos[k][l] += vel[k][l] * next_event \n",
    "    if min(wall_times) < min(pair_times):\n",
    "        collision_disk, direction = singles[wall_times.index(next_event)]\n",
    "        vel[collision_disk][direction] *= -1.0\n",
    "    else: \n",
    "        a, b = pairs[pair_times.index(next_event)]\n",
    "        del_x = [pos[b][0] - pos[a][0], pos[b][1] - pos[a][1]]\n",
    "        abs_x = math.sqrt(del_x[0] ** 2 + del_x[1] ** 2)\n",
    "        e_perp = [c / abs_x for c in del_x]\n",
    "        del_v = [vel[b][0] - vel[a][0], vel[b][1] - vel[a][1]]\n",
    "        scal = del_v[0] * e_perp[0] + del_v[1] * e_perp[1]\n",
    "        for k in range(2): \n",
    "            vel[a][k] += e_perp[k] * scal \n",
    "            vel[b][k] -= e_perp[k] * scal \n",
    "#    print 'event', event\n",
    "#    print 'time', t\n",
    "#    print 'pos', pos\n",
    "#    print 'vel', vel"
   ]
  },
  {
   "cell_type": "markdown",
   "metadata": {},
   "source": [
    "### A3.1.1\n",
    "\n",
    "Compute the histogram for the $x$-positions with 100 bins analogously to what you did in sections (A1) and (A2.1),\n",
    "but for the event-driven molecular dynamics algorithm. Collect the histogram from all particles and collision times (wall and pair collisions) and use a total number of events n_events=200000."
   ]
  },
  {
   "cell_type": "code",
   "execution_count": 62,
   "metadata": {
    "collapsed": false
   },
   "outputs": [
    {
     "data": {
      "image/png": "[encoded data removed]",
      "text/plain": [
       "<matplotlib.figure.Figure at 0x7f080b72d190>"
      ]
     },
     "metadata": {},
     "output_type": "display_data"
    }
   ],
   "source": [
    "pylab.hist(histo_data_EDMD, bins=100, normed=True)\n",
    "pylab.xlabel('x')\n",
    "pylab.ylabel('frequency')\n",
    "pylab.title(r'Event driven MD sampling, $2 \\cdot 10^6$ valid configs')\n",
    "pylab.grid()\n",
    "pylab.savefig('direct_disks_histo_EDMD.png')\n",
    "pylab.show()"
   ]
  },
  {
   "cell_type": "markdown",
   "metadata": {},
   "source": [
    "### A3.1.2\n",
    "\n",
    "This histogram differs from the ones in sections (A1) and (A2.1). Briefly explain its outstanding feature: the large\n",
    "probability at $x = \\sigma$ and $x = 1 - \\sigma$."
   ]
  },
  {
   "cell_type": "markdown",
   "metadata": {},
   "source": [
    "### Answer (A3.1.2)\n",
    "Since samples are taken only when events (colisions) occure, higher densities of particles at walls might come from higher frequncy of particles coliding with walls so that leading to biase toward sampling positions at walls."
   ]
  },
  {
   "cell_type": "markdown",
   "metadata": {},
   "source": [
    "### A3.2\n",
    "\n",
    "You may think that the difference between Monte Carlo and Molecular dynamics comes from taking into\n",
    "account wall collisions. To test this idea, compute the histogram of the x-positions for the event-driven\n",
    "molecular dynamics algorithm, but only at ALL PAIR COLLISION TIMES (that is, drop the wall collisions from (A3.1.1)) for n_events = 500000. "
   ]
  },
  {
   "cell_type": "code",
   "execution_count": 59,
   "metadata": {
    "collapsed": true
   },
   "outputs": [],
   "source": [
    "def wall_time(pos_a, vel_a, sigma):\n",
    "    if vel_a > 0.0:\n",
    "        del_t = (1.0 - sigma - pos_a) / vel_a\n",
    "    elif vel_a < 0.0:\n",
    "        del_t = (pos_a - sigma) / abs(vel_a)\n",
    "    else:\n",
    "        del_t = float('inf')\n",
    "    return del_t\n",
    "\n",
    "def pair_time(pos_a, vel_a, pos_b, vel_b, sigma):\n",
    "    del_x = [pos_b[0] - pos_a[0], pos_b[1] - pos_a[1]]\n",
    "    del_x_sq = del_x[0] ** 2 + del_x[1] ** 2\n",
    "    del_v = [vel_b[0] - vel_a[0], vel_b[1] - vel_a[1]]\n",
    "    del_v_sq = del_v[0] ** 2 + del_v[1] ** 2\n",
    "    scal = del_v[0] * del_x[0] + del_v[1] * del_x[1]\n",
    "    Upsilon = scal ** 2 - del_v_sq * ( del_x_sq - 4.0 * sigma **2)\n",
    "    if Upsilon > 0.0 and scal < 0.0:\n",
    "        del_t = - (scal + math.sqrt(Upsilon)) / del_v_sq\n",
    "    else:\n",
    "        del_t = float('inf')\n",
    "    return del_t\n",
    "\n",
    "pos = [[0.25, 0.25], [0.75, 0.25], [0.25, 0.75], [0.75, 0.75]]\n",
    "vel = [[0.21, 0.12], [0.71, 0.18], [-0.23, -0.79], [0.78, 0.1177]]\n",
    "singles = [(0, 0), (0, 1), (1, 0), (1, 1), (2, 0), (2, 1), (3, 0), (3, 1)]\n",
    "pairs = [(0, 1), (0, 2), (0, 3), (1, 2), (1, 3), (2, 3)]\n",
    "sigma = 0.15\n",
    "t = 0.0\n",
    "n_events = 500000\n",
    "\n",
    "histo_data_EDMD_2 = []\n",
    "\n",
    "for event in range(n_events):\n",
    "    wall_times = [wall_time(pos[k][l], vel[k][l], sigma) for k, l  in singles]\n",
    "    pair_times = [pair_time(pos[k], vel[k], pos[l], vel[l], sigma) for k, l in pairs]\n",
    "    next_event = min(wall_times + pair_times)\n",
    "    t += next_event\n",
    "    for k, l in singles: pos[k][l] += vel[k][l] * next_event \n",
    "    if min(wall_times) < min(pair_times):\n",
    "        collision_disk, direction = singles[wall_times.index(next_event)]\n",
    "        vel[collision_disk][direction] *= -1.0\n",
    "    else:\n",
    "        for k in range(4): histo_data_EDMD_2.append(pos[k][0])\n",
    "        a, b = pairs[pair_times.index(next_event)]\n",
    "        del_x = [pos[b][0] - pos[a][0], pos[b][1] - pos[a][1]]\n",
    "        abs_x = math.sqrt(del_x[0] ** 2 + del_x[1] ** 2)\n",
    "        e_perp = [c / abs_x for c in del_x]\n",
    "        del_v = [vel[b][0] - vel[a][0], vel[b][1] - vel[a][1]]\n",
    "        scal = del_v[0] * e_perp[0] + del_v[1] * e_perp[1]\n",
    "        for k in range(2): \n",
    "            vel[a][k] += e_perp[k] * scal \n",
    "            vel[b][k] -= e_perp[k] * scal \n",
    "#    print 'event', event\n",
    "#    print 'time', t\n",
    "#    print 'pos', pos\n",
    "#    print 'vel', vel"
   ]
  },
  {
   "cell_type": "code",
   "execution_count": 60,
   "metadata": {
    "collapsed": false
   },
   "outputs": [
    {
     "data": {
      "image/png": "[encoded data removed]",
      "text/plain": [
       "<matplotlib.figure.Figure at 0x7f080b615290>"
      ]
     },
     "metadata": {},
     "output_type": "display_data"
    }
   ],
   "source": [
    "pylab.hist(histo_data_EDMD_2, bins=100, normed=True)\n",
    "pylab.xlabel('x')\n",
    "pylab.ylabel('frequency')\n",
    "pylab.title(r'Event driven MD sampling (no wall colisions), $2 \\cdot 10^6$ valid configs')\n",
    "pylab.grid()\n",
    "pylab.savefig('direct_disks_histo_EDMD_2.png')\n",
    "pylab.show()"
   ]
  },
  {
   "cell_type": "markdown",
   "metadata": {},
   "source": [
    "### A3.3.1\n",
    "Finally, compute the histogram of the x-positions with 100 bins for the event-driven\n",
    "molecular dynamics algorithm, where you take the $x$-positions at regular time intervals $t=0,1,2,3,\\ldots$, using the\n",
    "following code snippet, to be introduced after the line\n",
    "\n",
    "\"next_event = min(wall_times + pair_times)\":"
   ]
  },
  {
   "cell_type": "code",
   "execution_count": 10,
   "metadata": {
    "collapsed": true
   },
   "outputs": [],
   "source": [
    "next_event = min(wall_times + pair_times)\n",
    "t_previous = t\n",
    "for inter_times in range(int(t + 1), int(t + next_event + 1)):\n",
    "    del_t = inter_times - t_previous\n",
    "    for k, l in singles:\n",
    "        pos[k][l] += vel[k][l] * del_t\n",
    "    t_previous = inter_times\n",
    "    for k in range(4):\n",
    "        histo_data.append(pos[k][0])\n",
    "t += next_event"
   ]
  },
  {
   "cell_type": "markdown",
   "metadata": {},
   "source": [
    "Further, replace the line"
   ]
  },
  {
   "cell_type": "code",
   "execution_count": 11,
   "metadata": {
    "collapsed": true
   },
   "outputs": [],
   "source": [
    "for k, l in singles: pos[k][l] += vel[k][l] * next_event"
   ]
  },
  {
   "cell_type": "markdown",
   "metadata": {},
   "source": [
    "in the original algorithm by the line:"
   ]
  },
  {
   "cell_type": "code",
   "execution_count": 12,
   "metadata": {
    "collapsed": true
   },
   "outputs": [],
   "source": [
    "for k, l in singles: pos[k][l] += vel[k][l] * (t - t_previous)"
   ]
  },
  {
   "cell_type": "markdown",
   "metadata": {},
   "source": [
    "Set n_events=1000000. Compare the histogram with the ones you obtained in sections (A1) and (A2.1). Are\n",
    "the probabilities the same?"
   ]
  },
  {
   "cell_type": "code",
   "execution_count": 57,
   "metadata": {
    "collapsed": false
   },
   "outputs": [],
   "source": [
    "def wall_time(pos_a, vel_a, sigma):\n",
    "    if vel_a > 0.0:\n",
    "        del_t = (1.0 - sigma - pos_a) / vel_a\n",
    "    elif vel_a < 0.0:\n",
    "        del_t = (pos_a - sigma) / abs(vel_a)\n",
    "    else:\n",
    "        del_t = float('inf')\n",
    "    return del_t\n",
    "\n",
    "def pair_time(pos_a, vel_a, pos_b, vel_b, sigma):\n",
    "    del_x = [pos_b[0] - pos_a[0], pos_b[1] - pos_a[1]]\n",
    "    del_x_sq = del_x[0] ** 2 + del_x[1] ** 2\n",
    "    del_v = [vel_b[0] - vel_a[0], vel_b[1] - vel_a[1]]\n",
    "    del_v_sq = del_v[0] ** 2 + del_v[1] ** 2\n",
    "    scal = del_v[0] * del_x[0] + del_v[1] * del_x[1]\n",
    "    Upsilon = scal ** 2 - del_v_sq * ( del_x_sq - 4.0 * sigma **2)\n",
    "    if Upsilon > 0.0 and scal < 0.0:\n",
    "        del_t = - (scal + math.sqrt(Upsilon)) / del_v_sq\n",
    "    else:\n",
    "        del_t = float('inf')\n",
    "    return del_t\n",
    "\n",
    "pos = [[0.25, 0.25], [0.75, 0.25], [0.25, 0.75], [0.75, 0.75]]\n",
    "vel = [[0.21, 0.12], [0.71, 0.18], [-0.23, -0.79], [0.78, 0.1177]]\n",
    "singles = [(0, 0), (0, 1), (1, 0), (1, 1), (2, 0), (2, 1), (3, 0), (3, 1)]\n",
    "pairs = [(0, 1), (0, 2), (0, 3), (1, 2), (1, 3), (2, 3)]\n",
    "sigma = 0.15\n",
    "t = 0.0\n",
    "n_events = 1000000\n",
    "\n",
    "histo_data_EDMD_3 = []\n",
    "\n",
    "for event in range(n_events):\n",
    "    wall_times = [wall_time(pos[k][l], vel[k][l], sigma) for k, l  in singles]\n",
    "    pair_times = [pair_time(pos[k], vel[k], pos[l], vel[l], sigma) for k, l in pairs]\n",
    "    next_event = min(wall_times + pair_times)\n",
    "    t_previous = t\n",
    "    for inter_times in range(int(t + 1), int(t + next_event + 1)):\n",
    "        del_t = inter_times - t_previous\n",
    "        for k, l in singles:\n",
    "            pos[k][l] += vel[k][l] * del_t\n",
    "        t_previous = inter_times\n",
    "        for k in range(4): histo_data_EDMD_3.append(pos[k][0])\n",
    "    t += next_event\n",
    "    for k, l in singles: pos[k][l] += vel[k][l] * (t - t_previous)\n",
    "    if min(wall_times) < min(pair_times):\n",
    "        collision_disk, direction = singles[wall_times.index(next_event)]\n",
    "        vel[collision_disk][direction] *= -1.0\n",
    "    else: \n",
    "        a, b = pairs[pair_times.index(next_event)]\n",
    "        del_x = [pos[b][0] - pos[a][0], pos[b][1] - pos[a][1]]\n",
    "        abs_x = math.sqrt(del_x[0] ** 2 + del_x[1] ** 2)\n",
    "        e_perp = [c / abs_x for c in del_x]\n",
    "        del_v = [vel[b][0] - vel[a][0], vel[b][1] - vel[a][1]]\n",
    "        scal = del_v[0] * e_perp[0] + del_v[1] * e_perp[1]\n",
    "        for k in range(2): \n",
    "            vel[a][k] += e_perp[k] * scal \n",
    "            vel[b][k] -= e_perp[k] * scal \n",
    "#    print 'event', event\n",
    "#    print 'time', t\n",
    "#    print 'pos', pos\n",
    "#    print 'vel', vel"
   ]
  },
  {
   "cell_type": "code",
   "execution_count": 58,
   "metadata": {
    "collapsed": false
   },
   "outputs": [
    {
     "data": {
      "image/png": "[encoded data removed]",
      "text/plain": [
       "<matplotlib.figure.Figure at 0x7f080bc97310>"
      ]
     },
     "metadata": {},
     "output_type": "display_data"
    }
   ],
   "source": [
    "pylab.hist(histo_data_EDMD_3, bins=100, normed=True)\n",
    "pylab.xlabel('x')\n",
    "pylab.ylabel('frequency')\n",
    "pylab.title(r'Event driven MD sampling (regular sampling), $2 \\cdot 10^6$ valid configs')\n",
    "pylab.grid()\n",
    "pylab.savefig('direct_disks_histo_EDMD_3.png')\n",
    "pylab.show()"
   ]
  },
  {
   "cell_type": "markdown",
   "metadata": {},
   "source": [
    "### A3.3.2\n",
    "\n",
    "The histogram you obtained in section (A3.3.1) should be (up to statistical fluctuations) identical to what\n",
    "you obtained in sections (A1) and (A2.1). This is the consequence of the equivalence between Newton's deterministic dynamics and Boltzmann's statistical dynamics. Does this equivalence follow from the detailed balance condition respected by the algorithm?"
   ]
  },
  {
   "cell_type": "markdown",
   "metadata": {},
   "source": [
    "### Answer (A3.3.2)\n",
    "Hmmm, detail balance is not sufficient for equivalence, since algorithm might satisfy detailed balance criteria, but might not be ergodic. For example lets have two subsystems A and B, where transition between any pair of states, where one state is from subsystem A and second is from subsystem B is equal to $0$."
   ]
  },
  {
   "cell_type": "markdown",
   "metadata": {},
   "source": [
    "# B\n",
    "\n",
    "In this week's lecture, we have emphasized the importance of the equiprobability principle, which governs the statistical physics of hard disks and hard spheres, yet we have observed a manifestly non-uniform probability distribution of the $x$-positions (the equiprobability principle manifestly does not apply to $x$-positions)."
   ]
  },
  {
   "cell_type": "markdown",
   "metadata": {},
   "source": [
    "## B1\n",
    "\n",
    "To convince yourself that equiprobability **is** satisfied, in the eight-dimensional space of allowed\n",
    "configurations of four-disk positions, consider the configuration (A) shown in the figures below. The\n",
    "probability to sample this configuration **exactly** is of course zero, so we must put little boxes around this\n",
    "configuration, as illustrated by the red squares."
   ]
  },
  {
   "cell_type": "markdown",
   "metadata": {},
   "source": [
    "![Configuration A](./Figures/A_fig.png \"Configuration A\")"
   ]
  },
  {
   "cell_type": "markdown",
   "metadata": {},
   "source": [
    "![Configuration B](./Figures/B_fig.png \"Configuration B\")"
   ]
  },
  {
   "cell_type": "markdown",
   "metadata": {},
   "source": [
    "![Configuration C](./Figures/C_fig.png \"Configuration C\")"
   ]
  },
  {
   "cell_type": "markdown",
   "metadata": {},
   "source": [
    "Using small boxes $[x - 0.1, x + 0.1]$, modify the code given in section A1 to show that the probability to sample configurations A, B, and C are the same (within the numerical precision), with\n",
    "\n",
    "A = [(0.25, 0.25), (0.25, 0.75), (0.75, 0.25), (0.75,0.75)]\n",
    "\n",
    "B = [(0.20, 0.20), (0.20, 0.80), (0.75, 0.25), (0.75,0.75)]\n",
    "\n",
    "C = [(0.30, 0.20), (0.30, 0.80), (0.70, 0.20), (0.70,0.70)]"
   ]
  },
  {
   "cell_type": "code",
   "execution_count": 90,
   "metadata": {
    "collapsed": true
   },
   "outputs": [],
   "source": [
    "import copy"
   ]
  },
  {
   "cell_type": "code",
   "execution_count": 95,
   "metadata": {
    "collapsed": false
   },
   "outputs": [],
   "source": [
    "def direct_disks_box(N, sigma):\n",
    "    overlap = True;\n",
    "    while overlap == True:\n",
    "        L = [(random.uniform(sigma, 1.0 - sigma), random.uniform(sigma, 1.0 - sigma))];\n",
    "        for k in range(1, N):\n",
    "            a = (random.uniform(sigma, 1.0 - sigma), random.uniform(sigma, 1.0 - sigma));\n",
    "            min_dist_sq = min(((a[0] - b[0]) ** 2 + (a[1] - b[1]) ** 2) for b in L);\n",
    "            if min_dist_sq < 4.0 * sigma ** 2: \n",
    "                overlap = True;\n",
    "                break\n",
    "            else:\n",
    "                overlap = False;\n",
    "                L.append(a);\n",
    "    return L;\n",
    "\n",
    "def inInterval(A, B):\n",
    "    if (( abs(B[0]-A[0]) <= 0.1 ) and ( abs(B[1]-A[1]) <= 0.1 )):\n",
    "        return True;\n",
    "    else:\n",
    "        return False;\n",
    "\n",
    "def distinguishable(A, B):\n",
    "    ## Given two configurations check if configurations overlap (no permutation)\n",
    "    if (len(A) != len(B)):\n",
    "        raise Exception('Configurations does not have same size!');\n",
    "    for i in xrange(len(A)):\n",
    "        if not inInterval(A[i], B[i]):\n",
    "            return False;\n",
    "    return True;\n",
    "\n",
    "def indistinguishable(A, B):\n",
    "    ## Given two configurations check if configurations overlap (with permutation)\n",
    "    ## Assume aceptable areas do not OVERLAP ... IF SO WE SHOULD FIRST ORDER CONFIGURATINS TO ALIGNE CLOSEST POINTS\n",
    "    if (len(A) != len(B)):\n",
    "        raise Exception('Configurations does not have same size!');\n",
    "    ref = copy.deepcopy(B);\n",
    "    for a in A:\n",
    "        for r in ref:\n",
    "            if ( inInterval(a, r) ):\n",
    "                ref.remove(r);\n",
    "                break;\n",
    "\n",
    "    if len(ref) == 0:\n",
    "        return True;\n",
    "    else:\n",
    "        return False;"
   ]
  },
  {
   "cell_type": "code",
   "execution_count": 111,
   "metadata": {
    "collapsed": true
   },
   "outputs": [],
   "source": [
    "## Configurations\n",
    "A = [(0.25, 0.25), (0.25, 0.75), (0.75, 0.25), (0.75,0.75)];\n",
    "B = [(0.20, 0.20), (0.20, 0.80), (0.75, 0.25), (0.75,0.75)];\n",
    "C = [(0.30, 0.20), (0.30, 0.80), (0.70, 0.20), (0.70,0.70)];\n",
    "\n",
    "N      = 4;\n",
    "n_runs = 1000000;"
   ]
  },
  {
   "cell_type": "code",
   "execution_count": 113,
   "metadata": {
    "collapsed": false
   },
   "outputs": [
    {
     "name": "stdout",
     "output_type": "stream",
     "text": [
      "Sigma = 0.0\n",
      "Configuration A frequency distinguishable/indistinguishable: 0.00000200 / 0.00005900\n",
      "Configuration B frequency distinguishable/indistinguishable: 0.00000000 / 0.00005500\n",
      "Configuration C frequency distinguishable/indistinguishable: 0.00000300 / 0.00007300\n"
     ]
    }
   ],
   "source": [
    "sigma  = 0.0;\n",
    "\n",
    "dis_A  = 0.0; #number of hits in conf A (distinguishable)\n",
    "ind_A  = 0.0; #number of hits in conf A (indistinguishable)\n",
    "\n",
    "dis_B  = 0.0;\n",
    "ind_B  = 0.0;\n",
    "\n",
    "dis_C  = 0.0;\n",
    "ind_C  = 0.0;\n",
    "\n",
    "for run in range(n_runs):\n",
    "    pos = direct_disks_box(N, sigma);\n",
    "    \n",
    "    if (distinguishable(pos, A)):\n",
    "        dis_A += 1.0;\n",
    "    if (indistinguishable(pos, A)):\n",
    "        ind_A += 1.0;\n",
    "    \n",
    "    if (distinguishable(pos, B)):\n",
    "        dis_B += 1.0;\n",
    "    if (indistinguishable(pos, B)):\n",
    "        ind_B += 1.0;\n",
    "    \n",
    "    if (distinguishable(pos, C)):\n",
    "        dis_C += 1.0;\n",
    "    if (indistinguishable(pos, C)):\n",
    "        ind_C += 1.0;\n",
    "          \n",
    "print \"Sigma = 0.0\"        \n",
    "print \"Configuration A frequency distinguishable/indistinguishable: %.8f / %.8f\"%(dis_A / n_runs, ind_A / n_runs);\n",
    "print \"Configuration B frequency distinguishable/indistinguishable: %.8f / %.8f\"%(dis_B / n_runs, ind_B / n_runs);\n",
    "print \"Configuration C frequency distinguishable/indistinguishable: %.8f / %.8f\"%(dis_C / n_runs, ind_C / n_runs);"
   ]
  },
  {
   "cell_type": "code",
   "execution_count": 114,
   "metadata": {
    "collapsed": false
   },
   "outputs": [
    {
     "name": "stdout",
     "output_type": "stream",
     "text": [
      "Sigma = 0.1\n",
      "Configuration A frequency distinguishable/indistinguishable: 0.00005500 / 0.00108600\n",
      "Configuration B frequency distinguishable/indistinguishable: 0.00004500 / 0.00111800\n",
      "Configuration C frequency distinguishable/indistinguishable: 0.00003000 / 0.00106500\n"
     ]
    }
   ],
   "source": [
    "sigma = 0.1\n",
    "\n",
    "dis_A  = 0.0; #number of hits in conf A (distinguishable)\n",
    "ind_A  = 0.0; #number of hits in conf A (indistinguishable)\n",
    "\n",
    "dis_B  = 0.0;\n",
    "ind_B  = 0.0;\n",
    "\n",
    "dis_C  = 0.0;\n",
    "ind_C  = 0.0;\n",
    "\n",
    "for run in range(n_runs):\n",
    "    pos = direct_disks_box(N, sigma)\n",
    "    \n",
    "    if (distinguishable(pos, A)):\n",
    "        dis_A += 1.0;\n",
    "    if (indistinguishable(pos, A)):\n",
    "        ind_A += 1.0;\n",
    "    \n",
    "    if (distinguishable(pos, B)):\n",
    "        dis_B += 1.0;\n",
    "    if (indistinguishable(pos, B)):\n",
    "        ind_B += 1.0;\n",
    "    \n",
    "    if (distinguishable(pos, C)):\n",
    "        dis_C += 1.0;\n",
    "    if (indistinguishable(pos, C)):\n",
    "        ind_C += 1.0;     \n",
    "\n",
    "print \"Sigma = 0.1\"        \n",
    "print \"Configuration A frequency distinguishable/indistinguishable: %.8f / %.8f\"%(dis_A / n_runs, ind_A / n_runs);\n",
    "print \"Configuration B frequency distinguishable/indistinguishable: %.8f / %.8f\"%(dis_B / n_runs, ind_B / n_runs);\n",
    "print \"Configuration C frequency distinguishable/indistinguishable: %.8f / %.8f\"%(dis_C / n_runs, ind_C / n_runs);"
   ]
  },
  {
   "cell_type": "markdown",
   "metadata": {},
   "source": [
    "Run your program for a disk radius $\\sigma=0$  and for $\\sigma=0.1$. In two sentences,\n",
    "explain what this program does and write down the obtained frequencies for configurations A, B, and C,\n",
    "with four digits (e.g. 0.003) and provide a short explanation."
   ]
  },
  {
   "cell_type": "markdown",
   "metadata": {},
   "source": [
    "### Answer (B1)\n",
    "Program is rather simple. In each step generate random configuration without overlaps and test if random configuration is equal (within intervals) to one of target configurations (A, B or C), if so it count that configuration as hit for particular target configuration. Results are show for both cases if we asume disks being distinguishable or indistinguishable.\n",
    "\n",
    "Considering size of all possible configurations and size of subset of sampled confugurations number of hits are small especialy for $\\sigma=0.0$ since whole configuration space is larger then in case of $\\sigma=0.1$ where number of all possible configuration decrease since part of space are excluded due to size of circles."
   ]
  },
  {
   "cell_type": "raw",
   "metadata": {
    "collapsed": true
   },
   "source": []
  },
  {
   "cell_type": "markdown",
   "metadata": {},
   "source": [
    "## B2\n",
    "Provide an analytical expression for these probabilities, for both cases $\\sigma=0$ and for $\\sigma=0.1$, and check it\n",
    "against the results of section (B1). Note that for $\\sigma=0.1$, you need to know the acceptance ratio of the algorithm, and you need to modify your program to obtain it. Explain your analytical formula both for $\\sigma=0$ and for $\\sigma=0.1$ and compare it to your results from part (B1)."
   ]
  },
  {
   "cell_type": "markdown",
   "metadata": {},
   "source": [
    "### Answer (B2)\n",
    "Our system could be found in diferent acceptable configurations (circles dont overlap with each other or with walls). All these acceptable configurations define accesible volume of configuration space $V_{acc}$. Lets also asume state X being sub-volume $V_{X}$ of configuration space. Than probability of observing such state us equal to $P(X)=\\frac{V_{X}}{V_{acc}}$.\n",
    "\n",
    "#### $\\sigma=0$\n",
    "First we want to calculate whole configuration space. Since $\\sigma=0$ circles are basicly points so that there are no interactions between circles-circle or circle-wall, so that probability of finding circle(point) at any position is same in whole box and independent of positions or number of all other circles(points). We can simply calculate number of all accesible configurations as $V_{acc}=(a*a)^N$, where $a$ is length of box and $N$ is number of circles(points).\n",
    "\n",
    "Second we want to calculate volume of configuration space for each state. As mentioned probability of finding circle(point) at any loacation in box is same and independent of other circles(points), so that configuration volume ocupied by states A,B and C is given as $V_{A,B,C}=(k*k)^N$, where $k$ is width of interval and $N$ is number of small red squares.\n",
    "$P(A,B,C)=\\frac{(0.2*0.2)^4}{(1*1)^4} = 0,00000256$ for distinguishable and $0,00000256 \\cdot 4! = 0,00006144$ for indistinguishable.\n",
    "\n",
    "#### $\\sigma=0.1$\n",
    "In this case circles have actualy size so that accesible volume of box is efectively reduced. In first approximation we can assume volume accesible to each circle is reduced by exclude volume of other circles $V_{acc}=V_{0}-(N-1)V_{c}$, where $V_{0}$ is volume of box, $N$ is number of circles in box, and $V_{c}=\\pi (2\\sigma)^2$ is volume which is not accesible by any other circle of same size. This approximation would be right if we were in system with periodic boundary conditions (PBC). However, in system without PBC we have to substract space not accesible due to walls $V_{w}=4\\sigma(a-\\sigma)$. This approximation would be closer to exact result, but still work only if other particles are not close to whole where their exclude volume is reduced, so that we would have to add volume that is reduced when particles are at some distance from wall times probability of these particles being at such distance ... and waht about corners ... they are special cases ... In other words it gets complicated ...\n",
    "\n",
    "Howvever, we can still do our \"Back-of-the-envelope calculation\" where $V_{acc}=V_{0}-(N-1)\\pi (2\\sigma)^2-4\\sigma(a-\\sigma) = 0,2632$, howvever this should be way too small accesible area since it assume none of 3 particles are touching each other or walls by their halo.\n",
    "\n",
    "One way how to calculate what volume of configuration space belongs to one particle is to generate randomly $N-1$ circles and then try to insert one more particle. From ratio of accepted and rejected insertions of last particle we can obtain fraction of space (with respect to $V_{0}$) accesible to one particle in system of $N-1$ particles."
   ]
  },
  {
   "cell_type": "code",
   "execution_count": 116,
   "metadata": {
    "collapsed": false
   },
   "outputs": [
    {
     "name": "stdout",
     "output_type": "stream",
     "text": [
      "Volume accesible to one particle in box with 4 particles: 0.57391220\n"
     ]
    }
   ],
   "source": [
    "num_runs   = 100000\n",
    "num_insert = 100\n",
    "reject     = 0.0\n",
    "\n",
    "for i in xrange(num_runs):\n",
    "    pos = direct_disks_box(N-1, sigma); ## generate N-1 disks in box     \n",
    "    for ii in xrange(num_insert): ## try to insert last dist and calculate average insertion probability\n",
    "        a = (random.uniform(sigma, 1.0 - sigma), random.uniform(sigma, 1.0 - sigma));\n",
    "        min_dist_sq = min(((a[0] - b[0]) ** 2 + (a[1] - b[1]) ** 2) for b in pos);\n",
    "        if min_dist_sq < 4.0 * sigma ** 2: \n",
    "            reject += 1.0;\n",
    "\n",
    "print \"Volume accesible to one particle in box with 4 particles: %.8f\"%(1-(reject/float(num_runs*num_insert)));"
   ]
  },
  {
   "cell_type": "markdown",
   "metadata": {},
   "source": [
    "Using $V_{acc} \\approx 0.57$ from previous simulation we can calculate $P(A,B,C)=\\frac{(0.2*0.2)^4}{(V_{acc}*V_{acc})^4} = 0,000229742$ for distinguishable and $0,000229742 \\cdot 4! = 0,005513817$ for indistinguishable.\n",
    "\n",
    "Now I am little confused ..."
   ]
  }
 ],
 "metadata": {
  "kernelspec": {
   "display_name": "Python [Root]",
   "language": "python",
   "name": "Python [Root]"
  },
  "language_info": {
   "codemirror_mode": {
    "name": "ipython",
    "version": 2
   },
   "file_extension": ".py",
   "mimetype": "text/x-python",
   "name": "python",
   "nbconvert_exporter": "python",
   "pygments_lexer": "ipython2",
   "version": "2.7.12"
  }
 },
 "nbformat": 4,
 "nbformat_minor": 0
}
