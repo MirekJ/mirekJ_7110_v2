{
 "cells": [
  {
   "cell_type": "code",
   "execution_count": 1,
   "metadata": {
    "collapsed": false
   },
   "outputs": [],
   "source": [
    "%matplotlib inline\n",
    "import random, pylab, math, random"
   ]
  },
  {
   "cell_type": "markdown",
   "metadata": {},
   "source": [
    "# Introduction\n",
    "\n",
    "In this week's lecture, we studied three algorithms for the simulation of hard disks in a box:\n",
    "* Event-driven molecular dynamics\n",
    "* Direct sampling\n",
    "* Markov-chain sampling\n",
    "\n",
    "In this homework, you will check that the statistical properties of these algorithms are all the same. You will then interpret their output, and finally, explicitly verify the equiprobability principle for hard disks in a box."
   ]
  },
  {
   "cell_type": "markdown",
   "metadata": {},
   "source": [
    "# A\n",
    "\n",
    "In this section, we consider four disks in a square box of edge length 1, in a box without periodic boundary conditions. We set the density equal to $\\eta = 0.18$, which corresponds to a disk radius $\\sigma \\simeq 0.1196$.\n",
    "\n",
    "We consider a simple observable, the position $x$, as the $x$-coordinate of the center of a disk. We will compute its probability distribution, as the normed histogram of $x$-positions. This histogram is the same for all disks, so we can collect data for one disk or for all of them."
   ]
  },
  {
   "cell_type": "markdown",
   "metadata": {},
   "source": [
    "## A1\n",
    "\n",
    "Compute the histogram of the $x$-positions for the direct-sampling Monte Carlo algorithm by modifying the algorithm implemented in the cell below. For the sake of students without prior knowledge of python, the corresponding code is given below . Simply run it to produce a histogram of the x-positions with 100 bins as output."
   ]
  },
  {
   "cell_type": "code",
   "execution_count": 2,
   "metadata": {
    "collapsed": false
   },
   "outputs": [],
   "source": [
    "def direct_disks_box(N, sigma):\n",
    "    overlap = True\n",
    "    while overlap == True:\n",
    "        L = [(random.uniform(sigma, 1.0 - sigma), random.uniform(sigma, 1.0 - sigma))]\n",
    "        for k in range(1, N):\n",
    "            a = (random.uniform(sigma, 1.0 - sigma), random.uniform(sigma, 1.0 - sigma))\n",
    "            min_dist_sq = min(((a[0] - b[0]) ** 2 + (a[1] - b[1]) ** 2) for b in L) \n",
    "            if min_dist_sq < 4.0 * sigma ** 2: \n",
    "                overlap = True\n",
    "                break\n",
    "            else:\n",
    "                overlap = False\n",
    "                L.append(a)\n",
    "    return L\n",
    "\n",
    "N = 4\n",
    "sigma = 0.1197\n",
    "n_runs = 1000000\n",
    "histo_data = []\n",
    "for run in range(n_runs):\n",
    "    pos = direct_disks_box(N, sigma)\n",
    "    for k in range(N): histo_data.append(pos[k][0])"
   ]
  },
  {
   "cell_type": "code",
   "execution_count": 3,
   "metadata": {
    "collapsed": false
   },
   "outputs": [
    {
     "data": {
      "image/png": "[encoded data removed]",
      "text/plain": [
       "<matplotlib.figure.Figure at 0x7fbdb09dd190>"
      ]
     },
     "metadata": {},
     "output_type": "display_data"
    }
   ],
   "source": [
    "pylab.hist(histo_data, bins=100, normed=True)\n",
    "pylab.xlabel('x')\n",
    "pylab.ylabel('frequency')\n",
    "pylab.title(r'Direct sampling, $10^6$ valid configs')\n",
    "pylab.grid()\n",
    "pylab.savefig('direct_disks_histo.png')\n",
    "pylab.show()"
   ]
  },
  {
   "cell_type": "markdown",
   "metadata": {},
   "source": [
    "## A2\n",
    "### A2.1\n",
    "\n",
    "Compute the histogram of the $x$-positions with 100 bins for the Markov-chain sampling algorithm, by\n",
    "modifying the algorithm presented in class, and repeated in the cell below, in a manner similar to what was done in section A1. Set n_steps=2000000."
   ]
  },
  {
   "cell_type": "code",
   "execution_count": 5,
   "metadata": {
    "collapsed": false
   },
   "outputs": [
    {
     "name": "stdout",
     "output_type": "stream",
     "text": [
      "[[0.5125880951948425, 0.7110789997316647], [0.8181368890075097, 0.743454523726515], [0.47509546014006787, 0.3349450389831571], [0.7806756000462404, 0.36959381141681846]]\n"
     ]
    }
   ],
   "source": [
    "L = [[0.25, 0.25], [0.75, 0.25], [0.25, 0.75], [0.75, 0.75]]\n",
    "sigma = 0.15\n",
    "sigma_sq = sigma ** 2\n",
    "delta = 0.1\n",
    "n_steps = 2000000\n",
    "histo_data = []\n",
    "for steps in range(n_steps):\n",
    "    a = random.choice(L)\n",
    "    b = [a[0] + random.uniform(-delta, delta), a[1] + random.uniform(-delta, delta)]\n",
    "    min_dist = min((b[0] - c[0]) ** 2 + (b[1] - c[1]) ** 2 for c in L if c != a)\n",
    "    box_cond = min(b[0], b[1]) < sigma or max(b[0], b[1]) > 1.0 - sigma\n",
    "    if not (box_cond or min_dist < 4.0 * sigma ** 2):\n",
    "        a[:] = b\n",
    "        histo_data.append(b[0])\n",
    "print L"
   ]
  },
  {
   "cell_type": "code",
   "execution_count": 6,
   "metadata": {
    "collapsed": false
   },
   "outputs": [
    {
     "data": {
      "image/png": "[encoded data removed]",
      "text/plain": [
       "<matplotlib.figure.Figure at 0x7fbdb078e590>"
      ]
     },
     "metadata": {},
     "output_type": "display_data"
    }
   ],
   "source": [
    "pylab.hist(histo_data, bins=100, normed=True)\n",
    "pylab.xlabel('x')\n",
    "pylab.ylabel('frequency')\n",
    "pylab.title(r'Markov-chain sampling, $2 \\cdot 10^6$ valid configs')\n",
    "pylab.grid()\n",
    "pylab.savefig('direct_disks_histo.png')\n",
    "pylab.show()"
   ]
  },
  {
   "cell_type": "markdown",
   "metadata": {},
   "source": [
    "### A2.2\n",
    "\n",
    "State the **three mathematical conditions** that guarantee that the histogram for the Markov-chain\n",
    "sampling algorithm agrees with the direct-sampling one. Furthermore, explain briefly whether\n",
    "and why these three conditions are in fact satisfied by the four-disk system at density $\\eta = 0.18$."
   ]
  },
  {
   "cell_type": "markdown",
   "metadata": {},
   "source": [
    "### Answer (A2.2)\n",
    "1-st condition: Global balance\n",
    "\n",
    "Global balance is satisfied if detailed balance is satisfied for pair of configurations $p_i \\pi_{i,j}=p_j \\pi_{j,i}$.\n",
    "Transition between each two configurations can be divided into chain of steps where always one circle move, so that if detailed balance hold between each of steps balance should hold between states they conect.\n",
    "For transition between two states by single circle move if both states are acceptable (circles do not overlap with each other or wall) probability of both states should be same $p_i=p_j$ and since move of circle is symetric with respect to reverse move also $\\pi_{i,j} = \\pi_{j,i}$, so that global balance should hold ... I hope.\n",
    "\n",
    "2-nd condition : Ireducibility\n",
    "\n",
    "Ireducibility means that configuration space is conected so that thare is at least one possible transition path between any two acceptable configurations. This should hold since density of system is low enough to enable cirlces fluctuate.\n",
    "\n",
    "3-rd condition : Aperiodicity\n",
    "\n",
    "System can not be periodic since move of each circle is always taken at random, so that there is way how to predict number of consecutive moves such that system always arive into same state."
   ]
  },
  {
   "cell_type": "markdown",
   "metadata": {},
   "source": [
    "## A3 Molecular dynamics\n",
    "\n",
    "We now consider the event driven molecular dynamics algorithm. In sections (A3.1), (A3.2), and (A3.3), always\n",
    "start from the algorithm provided in the cell below."
   ]
  },
  {
   "cell_type": "code",
   "execution_count": 16,
   "metadata": {
    "collapsed": false,
    "scrolled": true
   },
   "outputs": [],
   "source": [
    "def wall_time(pos_a, vel_a, sigma):\n",
    "    if vel_a > 0.0:\n",
    "        del_t = (1.0 - sigma - pos_a) / vel_a\n",
    "    elif vel_a < 0.0:\n",
    "        del_t = (pos_a - sigma) / abs(vel_a)\n",
    "    else:\n",
    "        del_t = float('inf')\n",
    "    return del_t\n",
    "\n",
    "def pair_time(pos_a, vel_a, pos_b, vel_b, sigma):\n",
    "    del_x = [pos_b[0] - pos_a[0], pos_b[1] - pos_a[1]]\n",
    "    del_x_sq = del_x[0] ** 2 + del_x[1] ** 2\n",
    "    del_v = [vel_b[0] - vel_a[0], vel_b[1] - vel_a[1]]\n",
    "    del_v_sq = del_v[0] ** 2 + del_v[1] ** 2\n",
    "    scal = del_v[0] * del_x[0] + del_v[1] * del_x[1]\n",
    "    Upsilon = scal ** 2 - del_v_sq * ( del_x_sq - 4.0 * sigma **2)\n",
    "    if Upsilon > 0.0 and scal < 0.0:\n",
    "        del_t = - (scal + math.sqrt(Upsilon)) / del_v_sq\n",
    "    else:\n",
    "        del_t = float('inf')\n",
    "    return del_t\n",
    "\n",
    "pos = [[0.25, 0.25], [0.75, 0.25], [0.25, 0.75], [0.75, 0.75]]\n",
    "vel = [[0.21, 0.12], [0.71, 0.18], [-0.23, -0.79], [0.78, 0.1177]]\n",
    "singles = [(0, 0), (0, 1), (1, 0), (1, 1), (2, 0), (2, 1), (3, 0), (3, 1)]\n",
    "pairs = [(0, 1), (0, 2), (0, 3), (1, 2), (1, 3), (2, 3)]\n",
    "sigma = 0.15\n",
    "t = 0.0\n",
    "n_events = 200000\n",
    "\n",
    "histo_data_EDMD = []\n",
    "\n",
    "for event in range(n_events):\n",
    "    histo_data_EDMD.append(pos[0][0])\n",
    "    wall_times = [wall_time(pos[k][l], vel[k][l], sigma) for k, l  in singles]\n",
    "    pair_times = [pair_time(pos[k], vel[k], pos[l], vel[l], sigma) for k, l in pairs]\n",
    "    next_event = min(wall_times + pair_times)\n",
    "    t += next_event\n",
    "    for k, l in singles: pos[k][l] += vel[k][l] * next_event \n",
    "    if min(wall_times) < min(pair_times):\n",
    "        collision_disk, direction = singles[wall_times.index(next_event)]\n",
    "        vel[collision_disk][direction] *= -1.0\n",
    "    else: \n",
    "        a, b = pairs[pair_times.index(next_event)]\n",
    "        del_x = [pos[b][0] - pos[a][0], pos[b][1] - pos[a][1]]\n",
    "        abs_x = math.sqrt(del_x[0] ** 2 + del_x[1] ** 2)\n",
    "        e_perp = [c / abs_x for c in del_x]\n",
    "        del_v = [vel[b][0] - vel[a][0], vel[b][1] - vel[a][1]]\n",
    "        scal = del_v[0] * e_perp[0] + del_v[1] * e_perp[1]\n",
    "        for k in range(2): \n",
    "            vel[a][k] += e_perp[k] * scal \n",
    "            vel[b][k] -= e_perp[k] * scal \n",
    "#    print 'event', event\n",
    "#    print 'time', t\n",
    "#    print 'pos', pos\n",
    "#    print 'vel', vel"
   ]
  },
  {
   "cell_type": "markdown",
   "metadata": {},
   "source": [
    "### A3.1.1\n",
    "\n",
    "Compute the histogram for the $x$-positions with 100 bins analogously to what you did in sections (A1) and (A2.1),\n",
    "but for the event-driven molecular dynamics algorithm. Collect the histogram from all particles and collision times (wall and pair collisions) and use a total number of events n_events=200000."
   ]
  },
  {
   "cell_type": "code",
   "execution_count": 15,
   "metadata": {
    "collapsed": false
   },
   "outputs": [
    {
     "data": {
      "image/png": "[encoded data removed]",
      "text/plain": [
       "<matplotlib.figure.Figure at 0x7fbdb045f510>"
      ]
     },
     "metadata": {},
     "output_type": "display_data"
    }
   ],
   "source": [
    "pylab.hist(histo_data_EDMD, bins=100, normed=True)\n",
    "pylab.xlabel('x')\n",
    "pylab.ylabel('frequency')\n",
    "pylab.title(r'Event driven MD sampling, $2 \\cdot 10^6$ valid configs')\n",
    "pylab.grid()\n",
    "pylab.savefig('direct_disks_histo_EDMD.png')\n",
    "pylab.show()"
   ]
  },
  {
   "cell_type": "markdown",
   "metadata": {},
   "source": [
    "### A3.1.2\n",
    "\n",
    "This histogram differs from the ones in sections (A1) and (A2.1). Briefly explain its outstanding feature: the large\n",
    "probability at $x = \\sigma$ and $x = 1 - \\sigma$."
   ]
  },
  {
   "cell_type": "markdown",
   "metadata": {},
   "source": [
    "Since samples are taken only when events (colisions) occure, higher densities of particles at walls might come from higher frequncy of particles coliding with walls so that leading to biase toward sampling positions at walls."
   ]
  },
  {
   "cell_type": "markdown",
   "metadata": {},
   "source": [
    "### A3.2\n",
    "\n",
    "You may think that the difference between Monte Carlo and Molecular dynamics comes from taking into\n",
    "account wall collisions. To test this idea, compute the histogram of the x-positions for the event-driven\n",
    "molecular dynamics algorithm, but only at ALL PAIR COLLISION TIMES (that is, drop the wall collisions from (A3.1.1)) for n_events = 500000. "
   ]
  },
  {
   "cell_type": "code",
   "execution_count": 17,
   "metadata": {
    "collapsed": true
   },
   "outputs": [],
   "source": [
    "def wall_time(pos_a, vel_a, sigma):\n",
    "    if vel_a > 0.0:\n",
    "        del_t = (1.0 - sigma - pos_a) / vel_a\n",
    "    elif vel_a < 0.0:\n",
    "        del_t = (pos_a - sigma) / abs(vel_a)\n",
    "    else:\n",
    "        del_t = float('inf')\n",
    "    return del_t\n",
    "\n",
    "def pair_time(pos_a, vel_a, pos_b, vel_b, sigma):\n",
    "    del_x = [pos_b[0] - pos_a[0], pos_b[1] - pos_a[1]]\n",
    "    del_x_sq = del_x[0] ** 2 + del_x[1] ** 2\n",
    "    del_v = [vel_b[0] - vel_a[0], vel_b[1] - vel_a[1]]\n",
    "    del_v_sq = del_v[0] ** 2 + del_v[1] ** 2\n",
    "    scal = del_v[0] * del_x[0] + del_v[1] * del_x[1]\n",
    "    Upsilon = scal ** 2 - del_v_sq * ( del_x_sq - 4.0 * sigma **2)\n",
    "    if Upsilon > 0.0 and scal < 0.0:\n",
    "        del_t = - (scal + math.sqrt(Upsilon)) / del_v_sq\n",
    "    else:\n",
    "        del_t = float('inf')\n",
    "    return del_t\n",
    "\n",
    "pos = [[0.25, 0.25], [0.75, 0.25], [0.25, 0.75], [0.75, 0.75]]\n",
    "vel = [[0.21, 0.12], [0.71, 0.18], [-0.23, -0.79], [0.78, 0.1177]]\n",
    "singles = [(0, 0), (0, 1), (1, 0), (1, 1), (2, 0), (2, 1), (3, 0), (3, 1)]\n",
    "pairs = [(0, 1), (0, 2), (0, 3), (1, 2), (1, 3), (2, 3)]\n",
    "sigma = 0.15\n",
    "t = 0.0\n",
    "n_events = 500000\n",
    "\n",
    "histo_data_EDMD_2 = []\n",
    "\n",
    "for event in range(n_events):\n",
    "    wall_times = [wall_time(pos[k][l], vel[k][l], sigma) for k, l  in singles]\n",
    "    pair_times = [pair_time(pos[k], vel[k], pos[l], vel[l], sigma) for k, l in pairs]\n",
    "    next_event = min(wall_times + pair_times)\n",
    "    t += next_event\n",
    "    for k, l in singles: pos[k][l] += vel[k][l] * next_event \n",
    "    if min(wall_times) < min(pair_times):\n",
    "        collision_disk, direction = singles[wall_times.index(next_event)]\n",
    "        vel[collision_disk][direction] *= -1.0\n",
    "    else: \n",
    "        histo_data_EDMD_2.append(pos[0][0])\n",
    "        a, b = pairs[pair_times.index(next_event)]\n",
    "        del_x = [pos[b][0] - pos[a][0], pos[b][1] - pos[a][1]]\n",
    "        abs_x = math.sqrt(del_x[0] ** 2 + del_x[1] ** 2)\n",
    "        e_perp = [c / abs_x for c in del_x]\n",
    "        del_v = [vel[b][0] - vel[a][0], vel[b][1] - vel[a][1]]\n",
    "        scal = del_v[0] * e_perp[0] + del_v[1] * e_perp[1]\n",
    "        for k in range(2): \n",
    "            vel[a][k] += e_perp[k] * scal \n",
    "            vel[b][k] -= e_perp[k] * scal \n",
    "#    print 'event', event\n",
    "#    print 'time', t\n",
    "#    print 'pos', pos\n",
    "#    print 'vel', vel"
   ]
  },
  {
   "cell_type": "code",
   "execution_count": 18,
   "metadata": {
    "collapsed": false
   },
   "outputs": [
    {
     "data": {
      "image/png": "[encoded data removed]",
      "text/plain": [
       "<matplotlib.figure.Figure at 0x7fbdaffe7d90>"
      ]
     },
     "metadata": {},
     "output_type": "display_data"
    }
   ],
   "source": [
    "pylab.hist(histo_data_EDMD_2, bins=100, normed=True)\n",
    "pylab.xlabel('x')\n",
    "pylab.ylabel('frequency')\n",
    "pylab.title(r'Event driven MD sampling (no wall colisions), $2 \\cdot 10^6$ valid configs')\n",
    "pylab.grid()\n",
    "pylab.savefig('direct_disks_histo_EDMD_2.png')\n",
    "pylab.show()"
   ]
  },
  {
   "cell_type": "markdown",
   "metadata": {},
   "source": [
    "### A3.3.1\n",
    "Finally, compute the histogram of the x-positions with 100 bins for the event-driven\n",
    "molecular dynamics algorithm, where you take the $x$-positions at regular time intervals $t=0,1,2,3,\\ldots$, using the\n",
    "following code snippet, to be introduced after the line\n",
    "\n",
    "\"next_event = min(wall_times + pair_times)\":"
   ]
  },
  {
   "cell_type": "code",
   "execution_count": null,
   "metadata": {
    "collapsed": true
   },
   "outputs": [],
   "source": [
    "next_event = min(wall_times + pair_times)\n",
    "t_previous = t\n",
    "for inter_times in range(int(t + 1), int(t + next_event + 1)):\n",
    "    del_t = inter_times - t_previous\n",
    "    for k, l in singles:\n",
    "        pos[k][l] += vel[k][l] * del_t\n",
    "    t_previous = inter_times\n",
    "    for k in range(4):\n",
    "        histo_data.append(pos[k][0])\n",
    "t += next_event"
   ]
  },
  {
   "cell_type": "markdown",
   "metadata": {},
   "source": [
    "Further, replace the line"
   ]
  },
  {
   "cell_type": "code",
   "execution_count": null,
   "metadata": {
    "collapsed": true
   },
   "outputs": [],
   "source": [
    "for k, l in singles: pos[k][l] += vel[k][l] * next_event"
   ]
  },
  {
   "cell_type": "markdown",
   "metadata": {},
   "source": [
    "in the original algorithm by the line:"
   ]
  },
  {
   "cell_type": "code",
   "execution_count": null,
   "metadata": {
    "collapsed": true
   },
   "outputs": [],
   "source": [
    "for k, l in singles: pos[k][l] += vel[k][l] * (t - t_previous)"
   ]
  },
  {
   "cell_type": "markdown",
   "metadata": {},
   "source": [
    "Set n_events=1000000. Compare the histogram with the ones you obtained in sections (A1) and (A2.1). Are\n",
    "the probabilities the same?"
   ]
  },
  {
   "cell_type": "code",
   "execution_count": 24,
   "metadata": {
    "collapsed": false
   },
   "outputs": [],
   "source": [
    "def wall_time(pos_a, vel_a, sigma):\n",
    "    if vel_a > 0.0:\n",
    "        del_t = (1.0 - sigma - pos_a) / vel_a\n",
    "    elif vel_a < 0.0:\n",
    "        del_t = (pos_a - sigma) / abs(vel_a)\n",
    "    else:\n",
    "        del_t = float('inf')\n",
    "    return del_t\n",
    "\n",
    "def pair_time(pos_a, vel_a, pos_b, vel_b, sigma):\n",
    "    del_x = [pos_b[0] - pos_a[0], pos_b[1] - pos_a[1]]\n",
    "    del_x_sq = del_x[0] ** 2 + del_x[1] ** 2\n",
    "    del_v = [vel_b[0] - vel_a[0], vel_b[1] - vel_a[1]]\n",
    "    del_v_sq = del_v[0] ** 2 + del_v[1] ** 2\n",
    "    scal = del_v[0] * del_x[0] + del_v[1] * del_x[1]\n",
    "    Upsilon = scal ** 2 - del_v_sq * ( del_x_sq - 4.0 * sigma **2)\n",
    "    if Upsilon > 0.0 and scal < 0.0:\n",
    "        del_t = - (scal + math.sqrt(Upsilon)) / del_v_sq\n",
    "    else:\n",
    "        del_t = float('inf')\n",
    "    return del_t\n",
    "\n",
    "pos = [[0.25, 0.25], [0.75, 0.25], [0.25, 0.75], [0.75, 0.75]]\n",
    "vel = [[0.21, 0.12], [0.71, 0.18], [-0.23, -0.79], [0.78, 0.1177]]\n",
    "singles = [(0, 0), (0, 1), (1, 0), (1, 1), (2, 0), (2, 1), (3, 0), (3, 1)]\n",
    "pairs = [(0, 1), (0, 2), (0, 3), (1, 2), (1, 3), (2, 3)]\n",
    "sigma = 0.15\n",
    "t = 0.0\n",
    "n_events = 1000000\n",
    "\n",
    "histo_data_EDMD_3 = []\n",
    "\n",
    "for event in range(n_events):\n",
    "    wall_times = [wall_time(pos[k][l], vel[k][l], sigma) for k, l  in singles]\n",
    "    pair_times = [pair_time(pos[k], vel[k], pos[l], vel[l], sigma) for k, l in pairs]\n",
    "    next_event = min(wall_times + pair_times)\n",
    "    t_previous = t\n",
    "    for inter_times in range(int(t + 1), int(t + next_event + 1)):\n",
    "        del_t = inter_times - t_previous\n",
    "        for k, l in singles:\n",
    "            pos[k][l] += vel[k][l] * del_t\n",
    "        t_previous = inter_times\n",
    "        for k in range(4):\n",
    "            histo_data_EDMD_3.append(pos[0][0])\n",
    "    t += next_event\n",
    "    for k, l in singles: pos[k][l] += vel[k][l] * (t - t_previous)\n",
    "    if min(wall_times) < min(pair_times):\n",
    "        collision_disk, direction = singles[wall_times.index(next_event)]\n",
    "        vel[collision_disk][direction] *= -1.0\n",
    "    else: \n",
    "        a, b = pairs[pair_times.index(next_event)]\n",
    "        del_x = [pos[b][0] - pos[a][0], pos[b][1] - pos[a][1]]\n",
    "        abs_x = math.sqrt(del_x[0] ** 2 + del_x[1] ** 2)\n",
    "        e_perp = [c / abs_x for c in del_x]\n",
    "        del_v = [vel[b][0] - vel[a][0], vel[b][1] - vel[a][1]]\n",
    "        scal = del_v[0] * e_perp[0] + del_v[1] * e_perp[1]\n",
    "        for k in range(2): \n",
    "            vel[a][k] += e_perp[k] * scal \n",
    "            vel[b][k] -= e_perp[k] * scal \n",
    "#    print 'event', event\n",
    "#    print 'time', t\n",
    "#    print 'pos', pos\n",
    "#    print 'vel', vel"
   ]
  },
  {
   "cell_type": "code",
   "execution_count": 25,
   "metadata": {
    "collapsed": false
   },
   "outputs": [
    {
     "data": {
      "image/png": "[encoded data removed]",
      "text/plain": [
       "<matplotlib.figure.Figure at 0x7fbda83356d0>"
      ]
     },
     "metadata": {},
     "output_type": "display_data"
    }
   ],
   "source": [
    "pylab.hist(histo_data_EDMD_3, bins=100, normed=True)\n",
    "pylab.xlabel('x')\n",
    "pylab.ylabel('frequency')\n",
    "pylab.title(r'Event driven MD sampling (regular sampling), $2 \\cdot 10^6$ valid configs')\n",
    "pylab.grid()\n",
    "pylab.savefig('direct_disks_histo_EDMD_3.png')\n",
    "pylab.show()"
   ]
  },
  {
   "cell_type": "markdown",
   "metadata": {},
   "source": [
    "### A3.3.2\n",
    "\n",
    "The histogram you obtained in section (A3.3.1) should be (up to statistical fluctuations) identical to what\n",
    "you obtained in sections (A1) and (A2.1). This is the consequence of the equivalence between Newton's deterministic dynamics and Boltzmann's statistical dynamics. Does this equivalence follow from the detailed balance condition respected by the algorithm?"
   ]
  },
  {
   "cell_type": "markdown",
   "metadata": {},
   "source": [
    "### Answer (A3.3.2)\n",
    "\n",
    "Hmmm not directly since algorithm might satisfy detailed balance criteria, but might not be ergodic. For example lets have two subsystems where transition between any pair of states, where both states are from different subsystems is equal to $0$."
   ]
  },
  {
   "cell_type": "markdown",
   "metadata": {},
   "source": [
    "# B\n",
    "\n",
    "In this week's lecture, we have emphasized the importance of the equiprobability principle, which governs the statistical physics of hard disks and hard spheres, yet we have observed a manifestly non-uniform probability distribution of the $x$-positions (the equiprobability principle manifestly does not apply to $x$-positions)."
   ]
  },
  {
   "cell_type": "markdown",
   "metadata": {},
   "source": [
    "## B1\n",
    "\n",
    "To convince yourself that equiprobability **is** satisfied, in the eight-dimensional space of allowed\n",
    "configurations of four-disk positions, consider the configuration (A) shown in the figures below. The\n",
    "probability to sample this configuration **exactly** is of course zero, so we must put little boxes around this\n",
    "configuration, as illustrated by the red squares."
   ]
  },
  {
   "cell_type": "markdown",
   "metadata": {},
   "source": [
    "![Configuration A](./Figures/A_fig.png \"Configuration A\")"
   ]
  },
  {
   "cell_type": "markdown",
   "metadata": {},
   "source": [
    "![Configuration B](./Figures/B_fig.png \"Configuration B\")"
   ]
  },
  {
   "cell_type": "markdown",
   "metadata": {},
   "source": [
    "![Configuration C](./Figures/C_fig.png \"Configuration C\")"
   ]
  },
  {
   "cell_type": "markdown",
   "metadata": {},
   "source": [
    "Using small boxes $[x - 0.1, x + 0.1]$, modify the code given in section A1 to show that the probability to sample configurations A, B, and C are the same (within the numerical precision), with\n",
    "\n",
    "A = [(0.25, 0.25), (0.25, 0.75), (0.75, 0.25), (0.75,0.75)]\n",
    "\n",
    "B = [(0.20, 0.20), (0.20, 0.80), (0.75, 0.25), (0.75,0.75)]\n",
    "\n",
    "C = [(0.30, 0.20), (0.30, 0.80), (0.70, 0.20), (0.70,0.70)]"
   ]
  },
  {
   "cell_type": "code",
   "execution_count": null,
   "metadata": {
    "collapsed": true
   },
   "outputs": [],
   "source": []
  },
  {
   "cell_type": "code",
   "execution_count": 64,
   "metadata": {
    "collapsed": false
   },
   "outputs": [
    {
     "name": "stdout",
     "output_type": "stream",
     "text": [
      "Sigma = 0.0\n",
      "Configuration A frequency: 4.000000/1000000.000000\n",
      "Configuration B frequency: 2.000000/1000000.000000\n",
      "Configuration C frequency: 4.000000/1000000.000000\n",
      "Sigma = 0.1\n",
      "Configuration A frequency: 44.000000/1000000.000000\n",
      "Configuration B frequency: 33.000000/1000000.000000\n",
      "Configuration C frequency: 39.000000/1000000.000000\n"
     ]
    }
   ],
   "source": [
    "def direct_disks_box(N, sigma):\n",
    "    overlap = True\n",
    "    while overlap == True:\n",
    "        L = [(random.uniform(sigma, 1.0 - sigma), random.uniform(sigma, 1.0 - sigma))]\n",
    "        for k in range(1, N):\n",
    "            a = (random.uniform(sigma, 1.0 - sigma), random.uniform(sigma, 1.0 - sigma))\n",
    "            min_dist_sq = min(((a[0] - b[0]) ** 2 + (a[1] - b[1]) ** 2) for b in L) \n",
    "            if min_dist_sq < 4.0 * sigma ** 2: \n",
    "                overlap = True\n",
    "                break\n",
    "            else:\n",
    "                overlap = False\n",
    "                L.append(a)\n",
    "    return L\n",
    "\n",
    "def aC(A,B):\n",
    "    if (( B[0]+0.1 >= A[0] and B[0] <= A[0]+0.1 ) and ( B[1]+0.1 >= A[1] and B[1] <= A[1]+0.1 )):\n",
    "        return True\n",
    "    else:\n",
    "        return False\n",
    "\n",
    "\n",
    "N = 4\n",
    "sigma = 0.0\n",
    "n_runs = 1000000\n",
    "histo_data = []\n",
    "A = [(0.25, 0.25), (0.25, 0.75), (0.75, 0.25), (0.75,0.75)]\n",
    "\n",
    "B = [(0.20, 0.20), (0.20, 0.80), (0.75, 0.25), (0.75,0.75)]\n",
    "\n",
    "C = [(0.30, 0.20), (0.30, 0.80), (0.70, 0.20), (0.70,0.70)]\n",
    "\n",
    "hit_A=0.0\n",
    "hit_B=0.0\n",
    "hit_C=0.0\n",
    "\n",
    "for run in range(n_runs):\n",
    "    pos = direct_disks_box(N, sigma)\n",
    "    if   (aC(A[0],pos[0]) and aC(A[1],pos[1]) and aC(A[2],pos[2]) and aC(A[3],pos[3])):\n",
    "        hit_A+=1.0;\n",
    "    elif (aC(B[0],pos[0]) and aC(B[1],pos[1]) and aC(B[2],pos[2]) and aC(B[3],pos[3])):\n",
    "        hit_B+=1.0;\n",
    "    elif (aC(C[0],pos[0]) and aC(C[1],pos[1]) and aC(C[2],pos[2]) and aC(C[3],pos[3])):\n",
    "        hit_C+=1.0;        \n",
    "\n",
    "print \"Sigma = 0.0\"        \n",
    "print \"Configuration A frequency: %f/%f\"%(hit_A,n_runs)\n",
    "print \"Configuration B frequency: %f/%f\"%(hit_B,n_runs)\n",
    "print \"Configuration C frequency: %f/%f\"%(hit_C,n_runs)\n",
    "\n",
    "sigma = 0.1\n",
    "for run in range(n_runs):\n",
    "    pos = direct_disks_box(N, sigma)\n",
    "    if   (aC(A[0],pos[0]) and aC(A[1],pos[1]) and aC(A[2],pos[2]) and aC(A[3],pos[3])):\n",
    "        hit_A+=1.0;\n",
    "    elif (aC(B[0],pos[0]) and aC(B[1],pos[1]) and aC(B[2],pos[2]) and aC(B[3],pos[3])):\n",
    "        hit_B+=1.0;\n",
    "    elif (aC(C[0],pos[0]) and aC(C[1],pos[1]) and aC(C[2],pos[2]) and aC(C[3],pos[3])):\n",
    "        hit_C+=1.0;        \n",
    "\n",
    "print \"Sigma = 0.1\"        \n",
    "print \"Configuration A frequency: %f/%f\"%(hit_A,n_runs)\n",
    "print \"Configuration B frequency: %f/%f\"%(hit_B,n_runs)\n",
    "print \"Configuration C frequency: %f/%f\"%(hit_C,n_runs)"
   ]
  },
  {
   "cell_type": "markdown",
   "metadata": {},
   "source": [
    "Run your program for a disk radius $\\sigma=0$  and for $\\sigma=0.1$. In two sentences,\n",
    "explain what this program does and write down the obtained frequencies for configurations A, B, and C,\n",
    "with four digits (e.g. 0.003) and provide a short explanation."
   ]
  },
  {
   "cell_type": "markdown",
   "metadata": {},
   "source": [
    "Program is rather simple it use generator of random acceptable configuration and then compare one of three sampled configurations to obtained random configuration. If random configuration agree with any of sampled configuration count one hit for that configuration (I assume circles being distinguishible).\n",
    "\n",
    "Considering size of all possible configurations and size of subset of sampled confugurations number of hits are small especialy for $\\sigma=0.0$ since whole configuration space is larger then in case of $\\sigma=0.1$ where number of all possible configuration decrease since part of space is excluded due to size of circles."
   ]
  },
  {
   "cell_type": "code",
   "execution_count": null,
   "metadata": {
    "collapsed": true
   },
   "outputs": [],
   "source": []
  },
  {
   "cell_type": "markdown",
   "metadata": {},
   "source": [
    "## B2\n",
    "Provide an analytical expression for these probabilities, for both cases $\\sigma=0$ and for $\\sigma=0.1$, and check it\n",
    "against the results of section (B1). Note that for $\\sigma=0.1$, you need to know the acceptance ratio of the algorithm, and you need to modify your program to obtain it. Explain your analytical formula both for $\\sigma=0$ and for $\\sigma=0.1$ and compare it to your results from part (B1)."
   ]
  },
  {
   "cell_type": "markdown",
   "metadata": {},
   "source": [
    "For $\\sigma=0$ probability of obtaining particular configuration is given by product of areas in which each point could be inserted to satisfy particular configuration, since these areas are not dependent on particular position in box each sampled configuration are same probbable and probability is given as $P_{A}=P_{B}=P_{C}=\\frac{(0.1\\cdot 0.1)^4}{1^8}=0.00000256$, where denominator is size (volume) of whole configuration space."
   ]
  }
 ],
 "metadata": {
  "kernelspec": {
   "display_name": "Python [Root]",
   "language": "python",
   "name": "Python [Root]"
  },
  "language_info": {
   "codemirror_mode": {
    "name": "ipython",
    "version": 2
   },
   "file_extension": ".py",
   "mimetype": "text/x-python",
   "name": "python",
   "nbconvert_exporter": "python",
   "pygments_lexer": "ipython2",
   "version": "2.7.12"
  }
 },
 "nbformat": 4,
 "nbformat_minor": 0
}
