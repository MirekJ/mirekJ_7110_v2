{
 "cells": [
  {
   "cell_type": "code",
   "execution_count": null,
   "metadata": {
    "collapsed": true
   },
   "outputs": [],
   "source": [
    "%matplotlib inline\n",
    "import random, pylab, math, numpy"
   ]
  },
  {
   "cell_type": "markdown",
   "metadata": {},
   "source": [
    "In this homework, we study path-sampling methods for the harmonic oscillator. The point is to improve on the naive path-sampling methods. We start with a preparation program that reminds us of the convenient way lists can manipulated in Python. Then, in the harmonic oscillator, we will use the harmonic Levy construction in two ways in the trap, then the free Levy construction. Finally, we apply the free and the harmonic Levy construction in an anharmonic potential down to quite low temperatures."
   ]
  },
  {
   "cell_type": "markdown",
   "metadata": {},
   "source": [
    "# A\n",
    "\n",
    "In this section we provide a simple preparation program, shown here, and then analyze it."
   ]
  },
  {
   "cell_type": "code",
   "execution_count": null,
   "metadata": {
    "collapsed": false
   },
   "outputs": [],
   "source": [
    "#\n",
    "# Part one\n",
    "#\n",
    "L = range(10)\n",
    "for k in range(10):\n",
    "    print L\n",
    "    L = L[3:] + L[:3]\n",
    "print\n",
    "\n",
    "#\n",
    "# Part two\n",
    "#\n",
    "\n",
    "K = range(10)\n",
    "for i in range(10):\n",
    "    print K\n",
    "    dummy = K.pop()\n",
    "    K = [dummy] + K\n",
    "print\n",
    "\n",
    "#\n",
    "# Part three\n",
    "#\n",
    "\n",
    "J = range(10)\n",
    "for i in range(10):\n",
    "    print K\n",
    "    dummy = K.pop(0)\n",
    "    K = K + [dummy]\n",
    "print\n",
    "\n",
    "#\n",
    "# Part four\n",
    "#\n",
    "\n",
    "I = range(10)\n",
    "weight = sum(a ** 2 for a in I)"
   ]
  },
  {
   "cell_type": "markdown",
   "metadata": {},
   "source": [
    "## A1 \n",
    "\n",
    "Run the Preparation program 1 and analyze its output.\\:\n",
    "\n",
    "## Questions\n",
    "\n",
    "1. Explain what the \"Part one\" of the Preparation program 1 is good for. Attention, there are two aspects to this subquestion, they are related to list slicing and to list merging (concatenation)\n",
    "2. Explain what the \"Part two\"of the Preparation program 1 does.\n",
    "3. Explain what the \"Part three\"of the Preparation program 1 does.\n",
    "4. Explain the concept of list comprehension underlying \"Part four\" of the Preparation program 1"
   ]
  },
  {
   "cell_type": "markdown",
   "metadata": {},
   "source": [
    "# B\n",
    "\n",
    "In this part, you explore sampling methods starting from naive_harmonic_path.py.\n",
    "\n",
    "## B1 \n",
    "\n",
    "Run the below program, a variant of the naive path sampling in the presence of a harmonic potential. Modify the sampling rate (at \" if step%100 == 0: \"), and the stepsize (at \"delta = ...\") but **not** the initial condition, and **not** the number of iterations.\n",
    "\n",
    "1. Display a figure showing the best approximation you obtained for $\\pi(x)$.\n",
    "2. Discuss in a few words what you observe. \n",
    "3. Explain the three lines of this code containing the word \"ProgType\"."
   ]
  },
  {
   "cell_type": "code",
   "execution_count": null,
   "metadata": {
    "collapsed": false
   },
   "outputs": [],
   "source": [
    "def rho_free(x, y, beta):\n",
    "    return math.exp(-(x - y) ** 2 / (2.0 * beta))\n",
    "\n",
    "acc = 0\n",
    "beta = 20.0\n",
    "N = 80\n",
    "dtau = beta / N\n",
    "delta = 10.0\n",
    "n_steps = 100000\n",
    "x = [2.0] * N\n",
    "data = []\n",
    "\n",
    "for step in range(n_steps):\n",
    "    k = random.randint(0, N - 1)\n",
    "    knext, kprev = (k + 1) % N, (k - 1) % N\n",
    "    x_new = x[k] + random.uniform(-delta, delta)\n",
    "    old_weight = (rho_free(x[knext], x[k], dtau) * rho_free(x[k], x[kprev], dtau) *\n",
    "                  math.exp(-0.5 * dtau * x[k] ** 2))\n",
    "    new_weight = (rho_free(x[knext], x_new, dtau) * rho_free(x_new, x[kprev], dtau) *\n",
    "                  math.exp(-0.5 * dtau * x_new ** 2))\n",
    "    if random.uniform(0.0, 1.0) < new_weight / old_weight:\n",
    "        x[k] = x_new\n",
    "        acc += 1\n",
    "    if step % 100 == 0:\n",
    "        k = random.randint(0, N - 1)\n",
    "        data.append(x[k])\n",
    "        "
   ]
  },
  {
   "cell_type": "code",
   "execution_count": null,
   "metadata": {
    "collapsed": false
   },
   "outputs": [],
   "source": [
    "pylab.hist(data, bins=50, normed=True, label='QMC')\n",
    "x_values = [0.1 * a for a in range (-30, 30)]\n",
    "y_values = [math.sqrt(math.tanh(beta / 2.0)) / math.sqrt(math.pi) * \n",
    "            math.exp( - xx **2 * math.tanh( beta / 2.0)) for xx in x_values]\n",
    "pylab.plot(x_values, y_values, label='exact')\n",
    "pylab.xlabel('$x$')\n",
    "pylab.ylabel('$\\\\pi(x)$ (normalized)')\n",
    "pylab.axis([-3.0, 3.0, 0.0, 0.6])\n",
    "pylab.legend()\n",
    "ProgType = 'naive_harm_path'\n",
    "pylab.title(ProgType + ' beta = ' + str(beta) + ', dtau = ' + str(dtau) + ', Nsteps = '+ str\n",
    "(n_steps))\n",
    "pylab.savefig(ProgType + str(beta) + '.png')\n",
    "pylab.show()"
   ]
  },
  {
   "cell_type": "markdown",
   "metadata": {},
   "source": [
    "## B2\n",
    "\n",
    "Now modify your program by introducing using the Levy construction. For simplicity, the function levy_harmonic_path that you should use is provided below."
   ]
  },
  {
   "cell_type": "code",
   "execution_count": null,
   "metadata": {
    "collapsed": true
   },
   "outputs": [],
   "source": [
    "def levy_harmonic_path(xstart, xend, dtau, N):\n",
    "    x = [xstart]\n",
    "    for k in range(1, N):\n",
    "        dtau_prime = (N - k) * dtau\n",
    "        Ups1 = (1.0 / math.tanh(dtau) + 1.0 / math.tanh(dtau_prime))\n",
    "        Ups2 = (x[k - 1] / math.sinh(dtau) + xend / math.sinh(dtau_prime))\n",
    "        x.append(random.gauss(Ups2 / Ups1, 1.0 / math.sqrt(Ups1)))\n",
    "    return x"
   ]
  },
  {
   "cell_type": "markdown",
   "metadata": {},
   "source": [
    "This function (which returns a list of N elements) should replace the naive construction for the N elements of the path (both xstart and xend should be the bead \"0\" of the path). Make sure that your path always has N elements: The final point x[N] is **not** used, as it is equal to x[0].\n",
    "\n",
    "Run your program first for very small N. Notice that the position x[0] never changes. To fix this problem, use \"Part 1\" of the Preparation program 1 to wrap the path around the tau-axis after each Levy construction (replace \"3\" in the Preparation program 1 for example by \"N / 2\"). \n",
    "\n",
    "## Questions\n",
    "\n",
    "1. Give a short explanation of what your program does.\n",
    "2. Display a figure which shows that this program recovers the exact result for $\\pi(x)$ for $\\beta = 20$ (Don't forget to update ProgType.)\n",
    "3. Explain whether this is a Markov-chain algorithm or not. "
   ]
  },
  {
   "cell_type": "markdown",
   "metadata": {},
   "source": [
    "## B3 \n",
    "\n",
    "Now modify the program of section B2: since we know the distribution of x[0], we may sample from this distribution directly. Therefore, determine the standard deviation of the exact distribution $\\pi(x) \\propto \\exp( - x^2 * \\tanh(\\beta / 2.0))$ (pay attention to the difference between standard deviation and variance).\n",
    "\n",
    "Your new program should thus contain a line"
   ]
  },
  {
   "cell_type": "code",
   "execution_count": null,
   "metadata": {
    "collapsed": true
   },
   "outputs": [],
   "source": [
    "x[0] = random.gauss(0.0, sigma)"
   ]
  },
  {
   "cell_type": "markdown",
   "metadata": {},
   "source": [
    "(or equivalent), where sigma is the standard deviation of $\\pi(x)$, and this line should be followed by the harmonic Levy construction. No \"wrapping\" is needed now. Don't forget to update ProgType.\n",
    "\n",
    "## Questions\n",
    "\n",
    "1. Give a short explanation of what this program does\n",
    "2. check that this program recovers the exact result for $\\pi(x)$: display a figure showing the output for $\\beta = 10$. 3. Explain whether this is a Markov-chain algorithm or not."
   ]
  },
  {
   "cell_type": "markdown",
   "metadata": {},
   "source": [
    "# C\n",
    "\n",
    "In this section we go back to the wrapping algorithm of section B2 (**NOT B3**). We now use the free Levyconstruction in the harmonic potential. \n",
    "\n",
    "## C1\n",
    "\n",
    "Add the function levy_free_path to the wrapping algorithm of section B2. For your convenience, it is given here (Note that it outputs a path of length N):"
   ]
  },
  {
   "cell_type": "code",
   "execution_count": null,
   "metadata": {
    "collapsed": true
   },
   "outputs": [],
   "source": [
    "def levy_free_path(xstart, xend, dtau, N):\n",
    "    x = [xstart]\n",
    "    for k in range(1, N):\n",
    "        dtau_prime = (N - k) * dtau\n",
    "        x_mean = (dtau_prime * x[k - 1] + dtau * xend) / (dtau + dtau_prime)\n",
    "        sigma = math.sqrt(1.0 / (1.0 / dtau + 1.0 / dtau_prime))\n",
    "        x.append(random.gauss(x_mean, sigma))\n",
    "    return x"
   ]
  },
  {
   "cell_type": "markdown",
   "metadata": {},
   "source": [
    "Check that for a path obtained from the Free levy construction, the statistical weight is given by the well-known exponential of the \"Feynman action\" $$\\exp(- \\sum \\delta_\\tau \\sum_i V(i))$$ \n",
    "which translates in python into the following (see Preparation program, Part 4):"
   ]
  },
  {
   "cell_type": "code",
   "execution_count": null,
   "metadata": {
    "collapsed": true
   },
   "outputs": [],
   "source": [
    "Weight_trott = math.exp(sum(-a **2/ 2.0 * dtau for a in x))"
   ]
  },
  {
   "cell_type": "markdown",
   "metadata": {},
   "source": [
    "Therefore, replace the harmonic Levy construction of section B2 by the free Levy construction, but new paths should be accepted with the Metropolis algorithm.\n",
    "The program of this section should\n",
    "\n",
    "1. Propose a new path between x[0] and x[0], from Leey_free_path.\n",
    "2. Compute its Weight (modify the above line... x[..] will have to be replaced).\n",
    "3. Accept the new path with probability min(1, Weight_new/ Weight_old).\n",
    "4.. Update the Weight (if move accepted).\n",
    "5. Update the path (if move accepted). (**Attention**: here, the syntax \"x = x_new\" leads to a disaster. Using the python construct \"x = x_new[:]\" is much better...).\n",
    "6. Wrap the path, as in section B2.\n",
    "\n",
    "Check your program for small values of $\\beta$. At large $\\beta$ (around $\\beta = 20$), the acceptance probability falls to zero, but this can be cured in a single line:"
   ]
  },
  {
   "cell_type": "code",
   "execution_count": null,
   "metadata": {
    "collapsed": true
   },
   "outputs": [],
   "source": [
    "x_new = levy_free_path(x[0], x[Ncut], dtau, Ncut) + x[Ncut:]"
   ]
  },
  {
   "cell_type": "markdown",
   "metadata": {},
   "source": [
    "...where Ncut is chosen suitably. We thus construct a new path between 0 and Ncut-1, and the old path from Ncut through N - 1. \n",
    "\n",
    "## Question\n",
    "\n",
    "1. Display the result of your program for $\\beta = 20$ (do not forget to update ProgType)"
   ]
  },
  {
   "cell_type": "markdown",
   "metadata": {},
   "source": [
    "## C2\n",
    "\n",
    "Adapt the program of section C1 for the anharmonic potential implemented by the function \n",
    "$$V(x) = x^2 / 2 + cubic * x^3 + quartic * x^4$$\n",
    "with\n",
    "\n",
    "cubic = -1, quartic = 1.\n",
    "\n",
    "Modify your program so that it samples the anharmonic path integral at $\\beta = 20$, starting from \n",
    "\n",
    "1. the free Levy construction.\n",
    "1. the harmonic Levy construction.\n",
    "\n",
    "Naturally, the Feynman action (the Weight) is different in both cases, because a term counted in the \"measure\" of the probability distribution should not be counted in the \"statistical weight\" of the paths. If possible, introduce a variable \"LevyType\" to choose the potential and to modify ProgType\n",
    "\n",
    "## Question\n",
    "\n",
    "1. Display the obtained distributions $\\pi(x)$. (They should be very similar, at sufficiently small dtau.)"
   ]
  },
  {
   "cell_type": "code",
   "execution_count": null,
   "metadata": {
    "collapsed": true
   },
   "outputs": [],
   "source": []
  }
 ],
 "metadata": {
  "kernelspec": {
   "display_name": "Python 2",
   "language": "python",
   "name": "python2"
  },
  "language_info": {
   "codemirror_mode": {
    "name": "ipython",
    "version": 2
   },
   "file_extension": ".py",
   "mimetype": "text/x-python",
   "name": "python",
   "nbconvert_exporter": "python",
   "pygments_lexer": "ipython2",
   "version": "2.7.10"
  }
 },
 "nbformat": 4,
 "nbformat_minor": 0
}
