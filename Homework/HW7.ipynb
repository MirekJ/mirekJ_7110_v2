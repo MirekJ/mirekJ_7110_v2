{
 "cells": [
  {
   "cell_type": "code",
   "execution_count": null,
   "metadata": {
    "collapsed": false
   },
   "outputs": [],
   "source": [
    "%matplotlib inline\n",
    "import random, pylab, math, numpy, os\n",
    "import mpl_toolkits.mplot3d"
   ]
  },
  {
   "cell_type": "markdown",
   "metadata": {},
   "source": [
    "In this homework set, we study Bose-Einstein condensation in a three-dimensional harmonic trap. After a start with two preparation programs, you then consider the implementation of a Markov chain Monte Carlo approach where you will obtain the distribution of x-positions. You then consider the anharmonic trap."
   ]
  },
  {
   "cell_type": "markdown",
   "metadata": {},
   "source": [
    "# A\n",
    "\n",
    "In this section we provide two easy Preparation programs about histograms."
   ]
  },
  {
   "cell_type": "markdown",
   "metadata": {},
   "source": [
    "### Preparation program 1"
   ]
  },
  {
   "cell_type": "code",
   "execution_count": null,
   "metadata": {
    "collapsed": false
   },
   "outputs": [],
   "source": [
    "import random, pylab\n",
    "data = []\n",
    "for run in range(100000):\n",
    "    data.append(random.uniform(0.0, 1.0))\n",
    "pylab.title('Preparation program 1, HW7')\n",
    "pylab.hist(data, bins=200, normed=True)\n",
    "pylab.xlim(0.5,0.6)\n",
    "pylab.xlabel('$x$')\n",
    "pylab.ylabel('$\\\\pi(x)$')\n",
    "pylab.show()"
   ]
  },
  {
   "cell_type": "markdown",
   "metadata": {},
   "source": [
    "### Preparation program 2"
   ]
  },
  {
   "cell_type": "code",
   "execution_count": null,
   "metadata": {
    "collapsed": false
   },
   "outputs": [],
   "source": [
    "import random, pylab\n",
    "data = []\n",
    "for run in range(100000):\n",
    "    data.append(random.uniform(0.0, 1.0))\n",
    "pylab.title('Preparation program 2, HW7')\n",
    "pylab.hist(data, bins=200, range=[0.5, 0.6], normed=True)\n",
    "pylab.xlabel('$x$')\n",
    "pylab.ylabel('$\\\\pi(x)$')\n",
    "pylab.show()"
   ]
  },
  {
   "cell_type": "markdown",
   "metadata": {},
   "source": [
    "## A1 \n",
    "\n",
    "## QUESTIONS\n",
    "\n",
    "1. What is the distribution of \"data\" in Preparation program 1? What is put into the histogram? What is the distribution shown?\n",
    "2. What is the distribution of \"data\" in Preparation program 2? What is put into the histogram? What is the distribution shown?"
   ]
  },
  {
   "cell_type": "markdown",
   "metadata": {},
   "source": [
    "# B\n",
    "\n",
    "In this section, you will set up a Monte Carlo programs for bosons in a three-dimensional harmonic trap."
   ]
  },
  {
   "cell_type": "code",
   "execution_count": null,
   "metadata": {
    "collapsed": true
   },
   "outputs": [],
   "source": [
    "import random, math, pylab\n",
    "def levy_harmonic_path(k, beta):\n",
    "    xk = tuple([random.gauss(0.0, 1.0 / math.sqrt(2.0 * math.tanh(k * beta / 2.0))) for d in range(3)])\n",
    "    x = [xk]\n",
    "    for j in range(1, k):\n",
    "        Upsilon_1 = 1.0 / math.tanh(beta) + 1.0 / math.tanh((k - j) * beta)\n",
    "        Upsilon_2 = [x[j - 1][d] / math.sinh(beta) + xk[d] / math.sinh((k - j) * beta) for d in range(3)]\n",
    "        x_mean = [Upsilon_2[d] / Upsilon_1 for d in range(3)]\n",
    "        sigma = 1.0 / math.sqrt(Upsilon_1)\n",
    "        dummy = [random.gauss(x_mean[d], sigma) for d in range(3)]\n",
    "        x.append(tuple(dummy))\n",
    "    return x\n",
    "\n",
    "def rho_harm(x, xp, beta):\n",
    "    Upsilon_1 = sum((x[d] + xp[d]) ** 2 / 4.0 * math.tanh(beta / 2.0) for d in range(3))\n",
    "    Upsilon_2 = sum((x[d] - xp[d]) ** 2 / 4.0 / math.tanh(beta / 2.0) for d in range(3))\n",
    "    return math.exp(- Upsilon_1 - Upsilon_2)\n",
    "\n",
    "N = 512\n",
    "T_star = 0.8\n",
    "beta = 1.0 / (T_star * N ** (1.0 / 3.0))\n",
    "nsteps = 100000\n",
    "positions = {}\n",
    "for k in range(N):\n",
    "    a = levy_harmonic_path(1, beta)\n",
    "    positions[a[0]] = a[0]\n",
    "for step in range(nsteps):\n",
    "    boson_a = random.choice(positions.keys())\n",
    "    perm_cycle = []\n",
    "    while True:\n",
    "        perm_cycle.append(boson_a)\n",
    "        boson_b = positions.pop(boson_a)\n",
    "        if boson_b == perm_cycle[0]:\n",
    "            break\n",
    "        else:\n",
    "            boson_a = boson_b\n",
    "    k = len(perm_cycle)\n",
    "    perm_cycle = levy_harmonic_path(k, beta)\n",
    "    positions[perm_cycle[-1]] = perm_cycle[0]\n",
    "    for k in range(len(perm_cycle) - 1):\n",
    "        positions[perm_cycle[k]] = perm_cycle[k + 1]\n",
    "    a_1 = random.choice(positions.keys())\n",
    "    b_1 = positions.pop(a_1)\n",
    "    a_2 = random.choice(positions.keys())\n",
    "    b_2 = positions.pop(a_2)\n",
    "    weight_new = rho_harm(a_1, b_2, beta) * rho_harm(a_2, b_1, beta)\n",
    "    weight_old = rho_harm(a_1, b_1, beta) * rho_harm(a_2, b_2, beta)\n",
    "    if random.uniform(0.0, 1.0) < weight_new / weight_old:\n",
    "        positions[a_1] = b_2\n",
    "        positions[a_2] = b_1\n",
    "    else:\n",
    "        positions[a_1] = b_1\n",
    "        positions[a_2] = b_2"
   ]
  },
  {
   "cell_type": "markdown",
   "metadata": {},
   "source": [
    "## B1 \n",
    "\n",
    "Now modify the above program so that it reads from and writes to file the keys and values of the dictionary positions. This is analogous to what was done in HW3. Here is the snippet that reads the dictionary \"positions\"...."
   ]
  },
  {
   "cell_type": "code",
   "execution_count": null,
   "metadata": {
    "collapsed": false
   },
   "outputs": [],
   "source": [
    "positions = {}\n",
    "filename = 'boson_configuration.txt'\n",
    "positions = {}\n",
    "if os.path.isfile(filename):\n",
    "    f = open(filename, 'r')\n",
    "    for line in f:\n",
    "        a = line.split()\n",
    "        positions[tuple([float(a[0]), float(a[1]), float(a[2])])] = tuple([float(a[3]), float(a[4]), float(a[5])])\n",
    "    f.close()\n",
    "    if len(positions) != N: \n",
    "        exit('error input file')\n",
    "    print 'starting from file', filename\n",
    "else:\n",
    "    for k in range(N):\n",
    "        a = levy_harmonic_path(1, beta)\n",
    "        positions[a[0]] = a[0]\n",
    "    print 'starting from scratch (' + filename + ' not found)'"
   ]
  },
  {
   "cell_type": "markdown",
   "metadata": {},
   "source": [
    "## QUESTIONS\n",
    "1. On line 8 of this snippet, you find the line \"positions[tuple... \". Explain exactly what this line does: what \"a\" is exactly, what \"positions\" is, why there is a \"tuple\"\n",
    "2. Explain the line immediately following \"tuple([float(a[3]), ...\". "
   ]
  },
  {
   "cell_type": "markdown",
   "metadata": {},
   "source": [
    "Here is the snippet for writing to file, at the end of the simulation run, so that it can be read into the\n",
    "next iteration:"
   ]
  },
  {
   "cell_type": "code",
   "execution_count": null,
   "metadata": {
    "collapsed": false
   },
   "outputs": [],
   "source": [
    "f = open(filename, 'w')\n",
    "for a in positions:\n",
    "    b = positions[a]\n",
    "    f.write(str(a[0]) + ' ' + str(a[1]) + ' ' + str(a[2]) + ' ' + \n",
    "            str(b[0]) + ' ' + str(b[1]) + ' ' + str(b[2]) + '\\n')\n",
    "f.close()"
   ]
  },
  {
   "cell_type": "markdown",
   "metadata": {},
   "source": [
    "## B2\n",
    "\n",
    "## QUESTIONS\n",
    "\n",
    "Using the program introduced above, produce two histograms and one plot, for N=512, and T_star = 0.8, all on the same figure, as follows:\n",
    "1. The first histogram should give the normed distribution of the x-position of particles (normed over all x), and show it between x = -3 and x = 3 (Remember the Preparation programs).\n",
    "2. The second histogram should produce the normed distribution of the x-position of the particles which are on\n",
    "cycles of length larger than cycle_min. ATTENTION: Note that you need two lists of data, one for each histogram. For the second histogram, so **not** add all the elements of the cycle perm_cycle to the data list, add only the x coordinate of the **first element**!\n",
    "3. Finally, compare the first and the second histogram to the squared ground-state wave function of the harmonic oscillator, psi^2 (x) = exp(-x^2)/sqrt(pi). Display your results for cycle_min = 10 in one figure.\n",
    "4. Explain why the two histograms give different results\n",
    "5. Explain why one of the histograms can be compared to the squared ground state wave function, but only if cycle_min is sufficiently large.\n",
    "\n",
    "HINT: For question 2, two lines, such as:\n",
    "\n",
    "if k > cycle_min:\n",
    "    data_long.append(perm_cycle[0][0])\n",
    "    \n",
    "is all that it takes - this corresponds to 1/ pick a particle 2/ check its cycle length 3/ if k > cycle_min: add to data_long).\n",
    "\n",
    "NB: Make sure you use what you learned in Preparation programs 1 and 2 to restrict the range of x values displayed in your histogram to the range -3 < x < 3.\n",
    "\n",
    "NB: Use labels and legends to distinguish the three data sets, use the \"alpha\" keyword in pylab.hist to make the histograms semi-transparent (alpha = 0.5)."
   ]
  },
  {
   "cell_type": "markdown",
   "metadata": {},
   "source": [
    "## B3 \n",
    "\n",
    "## QUESTIONS\n",
    "\n",
    "Using the program from section B2,\n",
    "1. Generate the probability for a particle to be in a cycle of length k. This is simply the histogram of 'perm_cycle'. 2. Plot this distribution at temperature T* = 0.6, N= 512 (Use pylab.ylim(...) to zoom in on the distribution for$ 0< y < 0.01$.)\n",
    "3. Can you confirm that the probability distribution for a particle to be on a cycle of length $k$ is independent of $k$, in a wide range of k values?\n",
    "4. Explain what you did to obtain that histogram.. \n",
    "\n",
    "NB: Notice that, after debugging the program, you should run it several times to get a good initial start. Then let it run for 15 minutes (if you can) to produce final output."
   ]
  },
  {
   "cell_type": "markdown",
   "metadata": {},
   "source": [
    "# C\n",
    "\n",
    "Each year, numerous research papers are published on \"cigar-shaped\" and on \"pancake-shaped\" Bose-Einstein condensates (just google to convince yourself!). The first ones, in a limit, reduce to one-dimensional condensates, and the second ones are close to two-dimensional condensates. To study them, use the below program, which gives the functions levy_harmonic_path for spring constants (omega_x, omega_y, omega_z)."
   ]
  },
  {
   "cell_type": "code",
   "execution_count": null,
   "metadata": {
    "collapsed": false
   },
   "outputs": [],
   "source": [
    "omega = [4.0, 4.0, 1.0] # example, please adapt\n",
    "omega = [1.0, 5.0, 1.0] # example, please adapt\n",
    "\n",
    "def levy_harmonic_path(k, beta):\n",
    "    sigma = [1.0 / math.sqrt(2.0 * omega[d] * math.tanh(0.5 * k * beta * omega[d])) for d in xrange(3)]\n",
    "    xk = tuple([random.gauss(0.0, sigma[d]) for d in xrange(3)])\n",
    "    x = [xk]\n",
    "    for j in range(1, k):\n",
    "        Upsilon_1 = [1.0 / math.tanh(beta * omega[d]) + \n",
    "                     1.0 / math.tanh((k - j) * beta * omega[d]) for d in range(3)]\n",
    "        Upsilon_2 = [x[j - 1][d] / math.sinh(beta * omega[d]) + \\\n",
    "                     xk[d] / math.sinh((k - j) * beta * omega[d]) for d in range(3)]\n",
    "        x_mean = [Upsilon_2[d] / Upsilon_1[d] for d in range(3)]\n",
    "        sigma = [1.0 / math.sqrt(Upsilon_1[d] * omega[d]) for d in range(3)]\n",
    "        dummy = [random.gauss(x_mean[d], sigma[d]) for d in range(3)]\n",
    "        x.append(tuple(dummy))\n",
    "    return x\n",
    "\n",
    "def rho_harm(x, xp, beta):\n",
    "    Upsilon_1 = sum(omega[d] * (x[d] + xp[d]) ** 2 / 4.0 * math.tanh(beta * omega[d] / 2.0) for d in range(3))\n",
    "    Upsilon_2 = sum(omega[d] * (x[d] - xp[d]) ** 2 / 4.0 / math.tanh(beta * omega[d] / 2.0) for d in range(3))\n",
    "    return math.exp(- Upsilon_1 - Upsilon_2)\n",
    "\n",
    "N = 1024\n",
    "nsteps = 50000\n",
    "omega_harm = 1.0\n",
    "for d in range(3):\n",
    "    omega_harm *= omega[d] ** (1.0 / 3.0)\n",
    "\n",
    "T_star = 0.6\n",
    "T = T_star * omega_harm * N ** (1.0 / 3.0)\n",
    "beta = 1.0 / T\n",
    "positions = {}\n",
    "\n",
    "print 'omega: ', omega\n",
    "\n",
    "for k in range(N):\n",
    "    a = levy_harmonic_path(1, beta)\n",
    "    positions[a[0]] = a[0]\n",
    "for step in range(nsteps):\n",
    "    boson_a = random.choice(positions.keys())\n",
    "    perm_cycle = []\n",
    "    while True:\n",
    "        perm_cycle.append(boson_a)\n",
    "        boson_b = positions.pop(boson_a)\n",
    "        if boson_b == perm_cycle[0]:\n",
    "            break\n",
    "        else:\n",
    "            boson_a = boson_b\n",
    "    k = len(perm_cycle)\n",
    "    perm_cycle = levy_harmonic_path(k, beta)\n",
    "    positions[perm_cycle[-1]] = perm_cycle[0]\n",
    "    for j in range(len(perm_cycle) - 1):\n",
    "        positions[perm_cycle[j]] = perm_cycle[j + 1]\n",
    "    a_1 = random.choice(positions.keys())\n",
    "    b_1 = positions.pop(a_1)\n",
    "    a_2 = random.choice(positions.keys())\n",
    "    b_2 = positions.pop(a_2)\n",
    "    weight_new = rho_harm(a_1, b_2, beta) * rho_harm(a_2, b_1, beta)\n",
    "    weight_old = rho_harm(a_1, b_1, beta) * rho_harm(a_2, b_2, beta)\n",
    "    if random.uniform(0.0, 1.0) < weight_new / weight_old:\n",
    "        positions[a_1], positions[a_2] = b_2, b_1\n",
    "    else:\n",
    "        positions[a_1], positions[a_2] = b_1, b_2\n",
    "    \n",
    "    \n",
    "    \n",
    "fig = pylab.figure()\n",
    "ax = mpl_toolkits.mplot3d.axes3d.Axes3D(fig)\n",
    "ax.set_aspect('equal')\n",
    "n_colors = 8\n",
    "list_colors = pylab.cm.rainbow(numpy.linspace(0, 1, n_colors))[::-1]\n",
    "dict_colors = {}\n",
    "i_color = 0\n",
    "positions_copy = positions.copy()\n",
    "while positions_copy:\n",
    "    x, y, z = [], [], []\n",
    "    starting_boson = positions_copy.keys()[0]\n",
    "    boson_old = starting_boson\n",
    "    while True:\n",
    "        x.append(boson_old[0])\n",
    "        y.append(boson_old[1])\n",
    "        z.append(boson_old[2])\n",
    "        boson_new = positions_copy.pop(boson_old)\n",
    "        if boson_new == starting_boson:\n",
    "            break\n",
    "        else:\n",
    "            boson_old = boson_new\n",
    "    len_cycle = len(x)\n",
    "    if len_cycle > 2:\n",
    "        x.append(x[0])\n",
    "        y.append(y[0])\n",
    "        z.append(z[0])\n",
    "    if len_cycle in dict_colors:\n",
    "        color = dict_colors[len_cycle]\n",
    "        ax.plot(x, y, z, '+-', c=color, lw=0.75)\n",
    "    else:\n",
    "        color = list_colors[i_color]\n",
    "        i_color = (i_color + 1) % n_colors\n",
    "        dict_colors[len_cycle] = color\n",
    "        ax.plot(x, y, z, '+-', c=color, label='k=%i' % len_cycle, lw=0.75)\n",
    "\n",
    "pylab.title(str(N) + ' Bosons at T* = ' + str(T_star))\n",
    "pylab.legend()\n",
    "ax.set_xlabel('$x$', fontsize=16)\n",
    "ax.set_ylabel('$y$', fontsize=16)\n",
    "ax.set_zlabel('$z$', fontsize=16)\n",
    "xmax = 10.0\n",
    "ax.set_xlim3d([-xmax, xmax])\n",
    "ax.set_ylim3d([-xmax, xmax])\n",
    "ax.set_zlim3d([-xmax, xmax])\n",
    "pylab.savefig('Boson_configuration')\n",
    "pylab.show()"
   ]
  },
  {
   "cell_type": "markdown",
   "metadata": {},
   "source": [
    "## C1\n",
    "\n",
    "Modify this program so that it allows you to do input and output, as in section B1. Run the program several times at temperature $T^* = 0.6$ for 1024 particles. Use two sets of parameters:"
   ]
  },
  {
   "cell_type": "code",
   "execution_count": null,
   "metadata": {
    "collapsed": true
   },
   "outputs": [],
   "source": [
    "omega = [1.0, 5.0, 1.0]\n",
    "omega = [4.0, 4.0, 1.0]"
   ]
  },
  {
   "cell_type": "markdown",
   "metadata": {},
   "source": [
    "## QUESTIONS\n",
    "\n",
    "1. which of the two choices corresponds to the \"cigar-shaped\" trap? (Run the simulation for 5 or 10 minutes, and display the corresponding output under different angles, so that you clearly show that we are looking at a cigar.) \n",
    "2. which of the two choices corresponds to the \"pancake-shaped\" trap? (Run the simulation for 5 or 10 minutes, and display the corresponding output under different angles, so that you clearly show that we are looking at a cigar.)\n",
    "3. Can you confirm that Bose-Einstein condensation sets in at $T \\sim 0.9 * (\\omega_x * \\omega_y * \\omega_z)^{1/3} * N^{1/3}$ for both choices of $\\omega_x$, $\\omega_y$, $\\omega_z$? Run your codes for different temperatures, and relate your findings, briefly. (Don't write a master's thesis on the subject, just do two brief calculations for example at T* = 1.2, to check that the formula seems OK. Notice the relation between permutation cycles (shown in the legend) and the Bose-Einstein condensation).\n",
    "\n",
    "NB: if you are unable to get mpl_toolkits.mplot3d.axes3d.Axes3D to run, simply produce histograms in\n",
    "two-dimensional cuts in xy, xz, and yz."
   ]
  }
 ],
 "metadata": {
  "kernelspec": {
   "display_name": "Python 2",
   "language": "python",
   "name": "python2"
  },
  "language_info": {
   "codemirror_mode": {
    "name": "ipython",
    "version": 2
   },
   "file_extension": ".py",
   "mimetype": "text/x-python",
   "name": "python",
   "nbconvert_exporter": "python",
   "pygments_lexer": "ipython2",
   "version": "2.7.10"
  }
 },
 "nbformat": 4,
 "nbformat_minor": 0
}
