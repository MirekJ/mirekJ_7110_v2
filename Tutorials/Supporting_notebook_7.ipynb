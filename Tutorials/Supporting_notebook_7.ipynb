{
 "cells": [
  {
   "cell_type": "code",
   "execution_count": null,
   "metadata": {
    "collapsed": true
   },
   "outputs": [],
   "source": [
    "%matplotlib inline\n",
    "import scipy.special, cmath\n",
    "import random, math, pylab, os\n",
    "import numpy as np\n",
    "import matplotlib.pyplot as plt\n",
    "import matplotlib\n",
    "import pylab\n",
    "import mpl_toolkits.mplot3d"
   ]
  },
  {
   "cell_type": "markdown",
   "metadata": {},
   "source": [
    "# Levy sampling for a single particle in a harmonic potential"
   ]
  },
  {
   "cell_type": "markdown",
   "metadata": {},
   "source": [
    "## Generation of a single path"
   ]
  },
  {
   "cell_type": "code",
   "execution_count": null,
   "metadata": {
    "collapsed": false
   },
   "outputs": [],
   "source": [
    "beta = 1.0\n",
    "N = 5000\n",
    "dtau = beta / N\n",
    "xstart, xend = 0.0, 1.0\n",
    "x = [xstart]\n",
    "\n",
    "for k in range(1, N):\n",
    "    dtau_prime = (N - k) * dtau\n",
    "    Ups1 = 1.0 / math.tanh(dtau) + 1.0 / math.tanh(dtau_prime)\n",
    "    Ups2 = x[k - 1] / math.sinh(dtau) + xend / math.sinh(dtau_prime)\n",
    "    x.append(random.gauss(Ups2 / Ups1, 1.0 / math.sqrt(Ups1)))\n",
    "x.append(xend)\n",
    "\n",
    "pylab.plot(x, [j * dtau for j in range(N + 1)], 'b-')\n",
    "pylab.xlabel('$x$', fontsize=18)\n",
    "pylab.ylabel('$\\\\tau$', fontsize=18)\n",
    "pylab.title('Harmonic path')\n",
    "pylab.xlim(-3.0, 3.0)\n",
    "pylab.show()\n",
    "pylab.close()"
   ]
  },
  {
   "cell_type": "markdown",
   "metadata": {},
   "source": [
    "## Generation of a single 3D path"
   ]
  },
  {
   "cell_type": "code",
   "execution_count": null,
   "metadata": {
    "collapsed": false
   },
   "outputs": [],
   "source": [
    "def levy_harmonic_1d(start, end, dtau):\n",
    "    x = [start]\n",
    "    for k in range(1, N):\n",
    "        dtau_prime = (N - k) * dtau\n",
    "        Ups1 = 1.0 / math.tanh(dtau) + \\\n",
    "               1.0 / math.tanh(dtau_prime)\n",
    "        Ups2 = x[k - 1] / math.sinh(dtau) + \\\n",
    "               end / math.sinh(dtau_prime)\n",
    "        x.append(random.gauss(Ups2 / Ups1, \\\n",
    "                 1.0 / math.sqrt(Ups1)))\n",
    "    x.append(end)\n",
    "    return x\n",
    "\n",
    "beta = 1.0\n",
    "N = 500\n",
    "dtau = beta / float(N)\n",
    "[xstart, ystart, zstart] = [1.0, -2.0, 1.5]\n",
    "[xend, yend, zend] = [-2.5, 0.0, -0.5]\n",
    "\n",
    "x = levy_harmonic_1d(xstart, xend, dtau)\n",
    "y = levy_harmonic_1d(ystart, yend, dtau)\n",
    "z = levy_harmonic_1d(zstart, zend, dtau)\n",
    "#for i in range(N + 1):\n",
    "#    print 'slice %2i:  ' % i, x[i], y[i], z[i]\n",
    "    \n",
    "    \n",
    "pylab.plot(x, [j * dtau for j in range(N + 1)], 'b-')\n",
    "pylab.plot(y, [j * dtau for j in range(N + 1)], 'r-')\n",
    "pylab.plot(z, [j * dtau for j in range(N + 1)], 'g-')\n",
    "pylab.xlabel('$x-y-z$', fontsize=18)\n",
    "pylab.ylabel('$\\\\tau$', fontsize=18)\n",
    "pylab.title('3D Harmonic path')\n",
    "pylab.xlim(-3.0, 3.0)\n",
    "pylab.show()\n",
    "pylab.close()"
   ]
  },
  {
   "cell_type": "markdown",
   "metadata": {},
   "source": [
    "# Bosonic statistics: Energy-level treatment"
   ]
  },
  {
   "cell_type": "markdown",
   "metadata": {},
   "source": [
    "## Bosons: enumeration of the multi-particle states and their energies"
   ]
  },
  {
   "cell_type": "markdown",
   "metadata": {},
   "source": [
    "# Exercise\n",
    "\n",
    "Calculate the degeneracy of the energy levels for $E_{tot} \\leq 50$, for a 3d harmonic trap.\n",
    "Print out each energy level with its index, its energy, and the associated $E_x$, $E_y$, $E_z$ values."
   ]
  },
  {
   "cell_type": "markdown",
   "metadata": {},
   "source": [
    "## Thermodynamics of the five-boson bounded trap model"
   ]
  },
  {
   "cell_type": "markdown",
   "metadata": {},
   "source": [
    "## EXERCISE\n",
    "Based on the result above, compute the number of distinct bosonic states, the partition function Z, the expectation value of energy $<E>$, and the expectation value of the number of particles in the ground state $<N_0>$.\n",
    "\n",
    "Print out the total number of distinct states.\n",
    "Display the figure showing $<N_0>$ as a function of T, for the temperatures defined below."
   ]
  },
  {
   "cell_type": "code",
   "execution_count": null,
   "metadata": {
    "collapsed": true
   },
   "outputs": [],
   "source": [
    "temps = np.linspace(0.1, 1.0, num=10, endpoint=True)"
   ]
  }
 ],
 "metadata": {
  "kernelspec": {
   "display_name": "Python 2",
   "language": "python",
   "name": "python2"
  },
  "language_info": {
   "codemirror_mode": {
    "name": "ipython",
    "version": 2
   },
   "file_extension": ".py",
   "mimetype": "text/x-python",
   "name": "python",
   "nbconvert_exporter": "python",
   "pygments_lexer": "ipython2",
   "version": "2.7.10"
  }
 },
 "nbformat": 4,
 "nbformat_minor": 0
}
