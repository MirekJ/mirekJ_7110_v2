{
 "cells": [
  {
   "cell_type": "code",
   "execution_count": null,
   "metadata": {
    "collapsed": true
   },
   "outputs": [],
   "source": [
    "%matplotlib inline\n",
    "import scipy.special, cmath\n",
    "import random, math, pylab, os\n",
    "import numpy as np\n",
    "import matplotlib.pyplot as plt\n",
    "import matplotlib\n",
    "import pylab\n",
    "import mpl_toolkits.mplot3d\n",
    "from matplotlib.patches import FancyArrowPatch, Circle, Rectangle"
   ]
  },
  {
   "cell_type": "code",
   "execution_count": null,
   "metadata": {
    "collapsed": true
   },
   "outputs": [],
   "source": [
    "#padding on the y axis between label and axis\n",
    "plt.rcParams['ytick.major.pad']='10'\n",
    "\n",
    "dpi_out = 400\n",
    "fig_width = 3.39\n",
    "golden_mean = (np.sqrt(5)-1.0)/2.0    # Aesthetic ratio\n",
    "fig_height = fig_width*golden_mean # height in inches\n",
    "MAX_HEIGHT_INCHES = 8.0\n",
    "if fig_height > MAX_HEIGHT_INCHES:\n",
    "    print(\"WARNING: fig_height too large:\" + fig_height + \n",
    "          \"so will reduce to\" + MAX_HEIGHT_INCHES + \"inches.\")\n",
    "    fig_height = MAX_HEIGHT_INCHES\n",
    "#fig, ax = plt.subplots(figsize = (fig_width, fig_height), dpi=400, frameon=True)\n",
    "small_tick_size = 8\n",
    "small_label_size = 8"
   ]
  },
  {
   "cell_type": "markdown",
   "metadata": {},
   "source": [
    "## Naive calculation of the the energy in the $2 \\times 2$ Ising model "
   ]
  },
  {
   "cell_type": "code",
   "execution_count": null,
   "metadata": {
    "collapsed": false
   },
   "outputs": [],
   "source": [
    "def energy(S, N, nbr):\n",
    "    E = 0.0\n",
    "    for k in range(N):\n",
    "        E -=  S[k] * sum(S[nn] for nn in nbr[k])\n",
    "    return 0.5 * E\n",
    "\n",
    "L = 2\n",
    "nbr = [[1, 2], [3, 0], [3, 0], [2, 1]]\n",
    "S = [1, 1, -1, 1]\n",
    "print S, energy(S, L * L, nbr)"
   ]
  },
  {
   "cell_type": "markdown",
   "metadata": {},
   "source": [
    "## Gray code for Ising model"
   ]
  },
  {
   "cell_type": "code",
   "execution_count": null,
   "metadata": {
    "collapsed": true
   },
   "outputs": [],
   "source": [
    "def gray_flip(t):\n",
    "    N = len(t) - 1\n",
    "    k = t[0]\n",
    "    if k > N: \n",
    "        return t, k\n",
    "    t[k - 1] = t[k]\n",
    "    t[k] = k + 1\n",
    "    if k != 1: \n",
    "        t[0] = 1\n",
    "    return k, t"
   ]
  },
  {
   "cell_type": "markdown",
   "metadata": {},
   "source": [
    "### Enumeration of configurations"
   ]
  },
  {
   "cell_type": "code",
   "execution_count": null,
   "metadata": {
    "collapsed": true
   },
   "outputs": [],
   "source": [
    "def plot_spin(c, filename, L):\n",
    "    s = 1.0 / L\n",
    "    for i in range(L):\n",
    "        for j in range(L):\n",
    "            x, y, dy = (i + 0.5) * s, (j + 0.5) * s, 0.85 * s * c[i][j]\n",
    "            arrow = FancyArrowPatch((x, y - 0.5 * dy), (x, y + 0.5 * dy),\n",
    "                    color='.2', lw=0, alpha=.8, arrowstyle=\"Simple\" +\n",
    "                    \", head_length=\" + str(1.3 * 150 * s) +\n",
    "                    \", head_width=\" + str(1.3 * 150 * s) +\n",
    "                    \", tail_width=\" + str(1.3 * 40 * s))\n",
    "            pylab.gca().add_patch(arrow)\n",
    "    pylab.axis('scaled')\n",
    "    pylab.axis([0, 1, 0, 1])\n",
    "    pylab.gca().set_xticks([])\n",
    "    pylab.gca().set_yticks([])\n",
    "    [pylab.axhline(y=(i * s), ls='--', c='.2') for i in range(L)]\n",
    "    [pylab.axvline(x=(j * s), ls='--', c='.2') for j in range(L)]\n",
    "    pylab.savefig(filename)\n",
    "    pylab.show()\n",
    "    pylab.clf()"
   ]
  },
  {
   "cell_type": "code",
   "execution_count": null,
   "metadata": {
    "collapsed": false
   },
   "outputs": [],
   "source": [
    "L = 2\n",
    "N = L * L\n",
    "site_dic = {(j // L, j - (j // L) * L) : j for j in range(N)}\n",
    "print site_dic\n",
    "S = [-1] * N\n",
    "plot_spin([[S[site_dic[(a, b)]] for a in range(L)] for b in range(L)], 'spin_config_%04i.png' % 0, L)\n",
    "tau = range(1, N + 2)\n",
    "for i in range(1, 2 ** N):\n",
    "    k, tau = gray_flip(tau)\n",
    "    S[k - 1] *= -1\n",
    "    plot_spin([[S[site_dic[(a, b)]] for a in range(L)] for b in range(L)], 'spin_config_%04i.png' % i, L)"
   ]
  },
  {
   "cell_type": "markdown",
   "metadata": {},
   "source": [
    "### density of states for lattice with periodic boundary conditions"
   ]
  },
  {
   "cell_type": "code",
   "execution_count": null,
   "metadata": {
    "collapsed": false
   },
   "outputs": [],
   "source": [
    "L = 4\n",
    "N = L * L\n",
    "nbr = {i : ((i // L) * L + (i + 1) % L, (i + L) % N,\n",
    "            (i // L) * L + (i - 1) % L, (i - L) % N)\n",
    "                                    for i in range(N)}\n",
    "\n",
    "S = [-1] * N\n",
    "E = -2 * N\n",
    "dos = {}\n",
    "dos[E] = 1\n",
    "tau = range(1, N + 2)\n",
    "for i in xrange(1, 2 ** N):\n",
    "    k, tau = gray_flip(tau)\n",
    "    h = sum(S[n] for n in nbr[k - 1])\n",
    "    E += 2 * h * S[k - 1] \n",
    "    S[k - 1] *= -1\n",
    "    if E in dos: \n",
    "        dos[E] += 1\n",
    "    else:        \n",
    "        dos[E] = 1\n",
    "for E in sorted(dos.keys()):\n",
    "    print E, dos[E]"
   ]
  },
  {
   "cell_type": "code",
   "execution_count": null,
   "metadata": {
    "collapsed": false
   },
   "outputs": [],
   "source": [
    "fig, ax = plt.subplots(figsize = (3*fig_width, 3*fig_height), dpi=400, frameon=True)\n",
    "ax.plot([E for E in sorted(dos.keys())], [dos[E] for E in sorted(dos.keys())])"
   ]
  },
  {
   "cell_type": "markdown",
   "metadata": {},
   "source": [
    "## Thermodynamics: specific heat capacity"
   ]
  },
  {
   "cell_type": "code",
   "execution_count": null,
   "metadata": {
    "collapsed": true
   },
   "outputs": [],
   "source": [
    "L = 6\n",
    "N = L * L\n",
    "filename = 'data_dos_L%i.txt' % L\n",
    "\n",
    "if os.path.isfile(filename):\n",
    "    dos = {}\n",
    "    f = open(filename, 'r')\n",
    "    for line in f:\n",
    "        E, N_E = line.split()\n",
    "        dos[int(E)] = int(N_E)\n",
    "    f.close()\n",
    "else:\n",
    "    print('input file missing')"
   ]
  },
  {
   "cell_type": "code",
   "execution_count": null,
   "metadata": {
    "collapsed": true
   },
   "outputs": [],
   "source": [
    "list_T = [0.5 + 0.01 * i for i in range(500)]\n",
    "list_cv = []\n",
    "for T in list_T:\n",
    "    Z = 0.0\n",
    "    E_av = 0.0\n",
    "    M_av = 0.0\n",
    "    E2_av = 0.0\n",
    "    for E in dos.keys():\n",
    "        weight = math.exp(- E / T) * dos[E]\n",
    "        Z += weight\n",
    "        E_av += weight * E\n",
    "        E2_av += weight * E ** 2\n",
    "    E2_av /= Z\n",
    "    E_av /= Z\n",
    "    cv = (E2_av - E_av ** 2) / N / T ** 2\n",
    "    list_cv.append(cv)"
   ]
  },
  {
   "cell_type": "code",
   "execution_count": null,
   "metadata": {
    "collapsed": false,
    "scrolled": true
   },
   "outputs": [],
   "source": [
    "pylab.title('Specific heat capacity ($%i\\\\times%i$ lattice, PBC\\'s)' % (L, L))\n",
    "pylab.xlabel('$T$', fontsize=20)\n",
    "pylab.ylabel('$c_V$', fontsize=20)\n",
    "pylab.plot(list_T, list_cv, 'k-', lw=3)\n",
    "pylab.show()"
   ]
  },
  {
   "cell_type": "markdown",
   "metadata": {},
   "source": [
    "# Monte Carlo algorithms for the Ising model"
   ]
  },
  {
   "cell_type": "markdown",
   "metadata": {},
   "source": [
    "## MCMC approach"
   ]
  },
  {
   "cell_type": "markdown",
   "metadata": {},
   "source": [
    "# EXERCISE\n",
    "\n",
    "Simulate the magnetisation curve as a function of the temperature for the Ising model on an $8 \\times 8$ lattice.\n",
    "Use a MCMC Metropolis algorithm using single spin flips: for each temperature in list_T = [1.0 + 0.2 * i for i in range(15)]:\n",
    "1. Use nsteps = 10000 * N, with N = number of lattice sites.\n",
    "2. let the system thermalize for nsteps / 2 steps.\n",
    "3. take a snapshot of the magnetization every N steps after that.\n",
    "\n",
    "The plotting facility is provided in the next cell"
   ]
  },
  {
   "cell_type": "code",
   "execution_count": null,
   "metadata": {
    "collapsed": false
   },
   "outputs": [],
   "source": [
    "## Implementation goes here"
   ]
  },
  {
   "cell_type": "code",
   "execution_count": null,
   "metadata": {
    "collapsed": false
   },
   "outputs": [],
   "source": [
    "pylab.title('$%i\\\\times%i$ lattice' % (L, L))\n",
    "pylab.xlabel('$T$', fontsize=16)\n",
    "pylab.ylabel('$<|M|>/N$', fontsize=16)\n",
    "pylab.plot(list_T, list_av_m, 'bo-', clip_on=False)\n",
    "pylab.ylim(0.0, 1.0)\n",
    "pylab.show()\n",
    "pylab.savefig('plot_local_av_magnetization_L%i.png' % L)"
   ]
  },
  {
   "cell_type": "markdown",
   "metadata": {},
   "source": [
    "## Heatbath algorithm"
   ]
  },
  {
   "cell_type": "code",
   "execution_count": null,
   "metadata": {
    "collapsed": true
   },
   "outputs": [],
   "source": [
    "L = 6\n",
    "N = L * L\n",
    "nbr = {i : ((i // L) * L + (i + 1) % L, (i + L) % N,\n",
    "            (i // L) * L + (i - 1) % L, (i - L) % N) for i in range(N)}\n",
    "nsteps = 10000000\n",
    "beta = 1.0\n",
    "S = [random.choice([-1, 1]) for site in range(N)]\n",
    "E = -0.5 * sum(S[k] * sum(S[nn] for nn in nbr[k]) for k in range(N))\n",
    "E_tot, E2_tot = 0.0, 0.0\n",
    "random.seed('123456')\n",
    "\n",
    "for step in range(nsteps):\n",
    "    k = random.randint(0, N - 1)\n",
    "    Upsilon = random.uniform(0.0, 1.0)\n",
    "    h = sum(S[nn] for nn in nbr[k])\n",
    "    Sk_old = S[k]\n",
    "    S[k] = -1\n",
    "    if Upsilon < 1.0 / (1.0 + math.exp(-2.0 * beta * h)):\n",
    "        S[k] = 1\n",
    "    if S[k] != Sk_old:\n",
    "        E -= 2.0 * h * S[k]\n",
    "    E_tot += E\n",
    "    E2_tot += E ** 2\n",
    "E_av  = E_tot / float(nsteps)\n",
    "E2_av = E2_tot / float(nsteps)\n",
    "c_V = beta ** 2 * (E2_av - E_av ** 2) / float(N)"
   ]
  },
  {
   "cell_type": "markdown",
   "metadata": {},
   "source": [
    "## Ising model: half order and perfect sampling"
   ]
  },
  {
   "cell_type": "code",
   "execution_count": null,
   "metadata": {
    "collapsed": true
   },
   "outputs": [],
   "source": [
    "output_dir = 'snapshots'\n",
    "if not os.path.exists(output_dir): \n",
    "    os.makedirs(output_dir)\n",
    "    \n",
    "def plot_many_configurations(conf, filename, L, colors={}):\n",
    "    pylab.figure(figsize=(6 * len(conf), 6))\n",
    "    s = 1.0 / L\n",
    "    for i_c in range(len(conf)):\n",
    "        c = conf[i_c]\n",
    "        pylab.subplot(1, len(conf), i_c + 1)\n",
    "        for l in range(L ** 2):\n",
    "            x, y = ((l // L) + 0.5) * s, ((l - (l // L) * L) + 0.5) * s\n",
    "            dy = c[l] * 0.85 / float(L)\n",
    "            arrow = FancyArrowPatch((x, y - 0.5 * dy), (x, y + 0.5 * dy), \\\n",
    "                    fc=colors[l], color='.2', lw=0, alpha=.8, \\\n",
    "                    arrowstyle=\"Simple, head_length=\" + str(0.9 * 150 * s) \\\n",
    "                    + \", head_width=\" + str(0.9 * 150 * s) + \", tail_width=\" \\\n",
    "                    + str(0.9 * 40 * s))\n",
    "            pylab.gca().add_patch(arrow)\n",
    "        pylab.axis('scaled')\n",
    "        pylab.axis([0, 1, 0, 1])\n",
    "        pylab.gca().set_xticks([])\n",
    "        pylab.gca().set_yticks([])\n",
    "        [pylab.axhline(y=(i * s), ls='--', c='.2', lw=0.5) for i in range(L)]\n",
    "        [pylab.axvline(x=(j * s), ls='--', c='.2', lw=0.5) for j in range(L)]\n",
    "    pylab.tight_layout()\n",
    "    pylab.savefig(output_dir + '/' + filename)\n",
    "    pylab.show()\n",
    "    pylab.clf()"
   ]
  },
  {
   "cell_type": "code",
   "execution_count": null,
   "metadata": {
    "collapsed": false
   },
   "outputs": [],
   "source": [
    "L = 6\n",
    "N = L * L\n",
    "nbr = {i : ((i // L) * L + (i + 1) % L, (i + L) % N,\n",
    "            (i // L) * L + (i - 1) % L, (i - L) % N) \\\n",
    "                                    for i in range(N)}\n",
    "\n",
    "filename = 'data_L%i.txt' % L\n",
    "if os.path.isfile(filename):\n",
    "    f = open(filename, 'r')\n",
    "    S1 = [int(i) for i in f.read().split()]\n",
    "    f.close()\n",
    "    if len(S1) != N: exit('wrong input')\n",
    "    print 'initial config read from', filename\n",
    "else:\n",
    "    S1 = [random.choice([-1, 1]) for i in range(N)]\n",
    "    print 'random initial config'\n",
    "    \n",
    "S2 = [1] * N\n",
    "nsteps = 10000\n",
    "nskip  = 10     # plot a snapshot every nskip steps\n",
    "beta = 0.4\n",
    "random.seed('abcde')\n",
    "\n",
    "for step in range(nsteps):\n",
    "    k = random.randint(0, N - 1)\n",
    "    Upsilon = random.uniform(0.0, 1.0)\n",
    "    h1 = sum(S1[nn] for nn in nbr[k])\n",
    "    S1[k] = -1\n",
    "    if Upsilon < 1.0 / (1.0 + math.exp(-2.0 * beta * h1)): \n",
    "        S1[k] = 1\n",
    "    h2 = sum(S2[nn] for nn in nbr[k])\n",
    "    S2[k] = -1\n",
    "    if Upsilon < 1.0 / (1.0 + math.exp(-2.0 * beta * h2)):\n",
    "        S2[k] = 1\n",
    "    if S1 == S2:\n",
    "        print 'step %i: coupling' % step\n",
    "        plot_many_configurations([S1, S2], 'snap_%06i.png' % step, L, {j : 'g' for j in range(N)})\n",
    "        break\n",
    "    else:\n",
    "        print 'step %i: no coupling yet, %i different spins' % (step, sum(S1[ii] != S2[ii] for ii in range(N)))\n",
    "    # begin graphic output\n",
    "    # colormap: green for equal spins, red for different spins, blue for site k\n",
    "    if step % nskip == 0:\n",
    "        colors = {j : (S1[j] == S2[j]) * 'g' + (S1[j] != S2[j]) * 'r' for j in range(N)}\n",
    "        colors[k] = 'b'\n",
    "        plot_many_configurations([S1, S2], 'snap_%06i.png' % step, L, colors)"
   ]
  },
  {
   "cell_type": "markdown",
   "metadata": {},
   "source": [
    "## Cluster Ising"
   ]
  },
  {
   "cell_type": "markdown",
   "metadata": {},
   "source": [
    "Implement Wolff's algorithm for a $100 \\times 100$ lattice\n",
    "start for T = 2.5 (close to the phase transition)\n",
    "execute nsteps = 10000 runs.\n",
    "plot the configuration every delta_plot = 1000 runs (plot 10 different configs), starting from a random configuration - the plotting snippet below will do this efficiently."
   ]
  },
  {
   "cell_type": "code",
   "execution_count": null,
   "metadata": {
    "collapsed": false
   },
   "outputs": [],
   "source": [
    "\n",
    "\n",
    "    if ((step % delta_plot) == 0):\n",
    "        fig, ax = plt.subplots(figsize = (fig_width, fig_width), dpi=400, frameon=True)\n",
    "        to_plot = np.resize(np.array(S), (L,L))\n",
    "        plt.imshow(to_plot)\n",
    "        ax.set_aspect('equal')"
   ]
  }
 ],
 "metadata": {
  "kernelspec": {
   "display_name": "Python 2",
   "language": "python",
   "name": "python2"
  },
  "language_info": {
   "codemirror_mode": {
    "name": "ipython",
    "version": 2
   },
   "file_extension": ".py",
   "mimetype": "text/x-python",
   "name": "python",
   "nbconvert_exporter": "python",
   "pygments_lexer": "ipython2",
   "version": "2.7.10"
  }
 },
 "nbformat": 4,
 "nbformat_minor": 0
}
