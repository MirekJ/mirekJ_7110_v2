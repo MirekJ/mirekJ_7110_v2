{
 "cells": [
  {
   "cell_type": "code",
   "execution_count": null,
   "metadata": {
    "collapsed": true
   },
   "outputs": [],
   "source": [
    "%matplotlib inline\n",
    "import scipy.special, cmath\n",
    "import random, math, pylab, os\n",
    "import numpy as np\n",
    "import matplotlib.pyplot as plt\n",
    "import matplotlib\n",
    "import pylab\n",
    "import mpl_toolkits.mplot3d"
   ]
  },
  {
   "cell_type": "markdown",
   "metadata": {},
   "source": [
    "# Levy sampling for a single particle in a harmonic potential"
   ]
  },
  {
   "cell_type": "markdown",
   "metadata": {},
   "source": [
    "## Generation of a single path"
   ]
  },
  {
   "cell_type": "code",
   "execution_count": null,
   "metadata": {
    "collapsed": false
   },
   "outputs": [],
   "source": [
    "beta = 1.0\n",
    "N = 5000\n",
    "dtau = beta / N\n",
    "xstart, xend = 0.0, 1.0\n",
    "x = [xstart]\n",
    "\n",
    "for k in range(1, N):\n",
    "    dtau_prime = (N - k) * dtau\n",
    "    Ups1 = 1.0 / math.tanh(dtau) + 1.0 / math.tanh(dtau_prime)\n",
    "    Ups2 = x[k - 1] / math.sinh(dtau) + xend / math.sinh(dtau_prime)\n",
    "    x.append(random.gauss(Ups2 / Ups1, 1.0 / math.sqrt(Ups1)))\n",
    "x.append(xend)\n",
    "\n",
    "pylab.plot(x, [j * dtau for j in range(N + 1)], 'b-')\n",
    "pylab.xlabel('$x$', fontsize=18)\n",
    "pylab.ylabel('$\\\\tau$', fontsize=18)\n",
    "pylab.title('Harmonic path')\n",
    "pylab.xlim(-3.0, 3.0)\n",
    "pylab.show()\n",
    "pylab.close()"
   ]
  },
  {
   "cell_type": "markdown",
   "metadata": {},
   "source": [
    "## Generation of a single 3D path"
   ]
  },
  {
   "cell_type": "code",
   "execution_count": null,
   "metadata": {
    "collapsed": false
   },
   "outputs": [],
   "source": [
    "def levy_harmonic_1d(start, end, dtau):\n",
    "    x = [start]\n",
    "    for k in range(1, N):\n",
    "        dtau_prime = (N - k) * dtau\n",
    "        Ups1 = 1.0 / math.tanh(dtau) + \\\n",
    "               1.0 / math.tanh(dtau_prime)\n",
    "        Ups2 = x[k - 1] / math.sinh(dtau) + \\\n",
    "               end / math.sinh(dtau_prime)\n",
    "        x.append(random.gauss(Ups2 / Ups1, \\\n",
    "                 1.0 / math.sqrt(Ups1)))\n",
    "    x.append(end)\n",
    "    return x\n",
    "\n",
    "beta = 1.0\n",
    "N = 500\n",
    "dtau = beta / float(N)\n",
    "[xstart, ystart, zstart] = [1.0, -2.0, 1.5]\n",
    "[xend, yend, zend] = [-2.5, 0.0, -0.5]\n",
    "\n",
    "x = levy_harmonic_1d(xstart, xend, dtau)\n",
    "y = levy_harmonic_1d(ystart, yend, dtau)\n",
    "z = levy_harmonic_1d(zstart, zend, dtau)\n",
    "#for i in range(N + 1):\n",
    "#    print 'slice %2i:  ' % i, x[i], y[i], z[i]\n",
    "    \n",
    "    \n",
    "pylab.plot(x, [j * dtau for j in range(N + 1)], 'b-')\n",
    "pylab.plot(y, [j * dtau for j in range(N + 1)], 'r-')\n",
    "pylab.plot(z, [j * dtau for j in range(N + 1)], 'g-')\n",
    "pylab.xlabel('$x-y-z$', fontsize=18)\n",
    "pylab.ylabel('$\\\\tau$', fontsize=18)\n",
    "pylab.title('3D Harmonic path')\n",
    "pylab.xlim(-3.0, 3.0)\n",
    "pylab.show()\n",
    "pylab.close()"
   ]
  },
  {
   "cell_type": "markdown",
   "metadata": {},
   "source": [
    "# Bosonic statistics: Energy-level treatment"
   ]
  },
  {
   "cell_type": "markdown",
   "metadata": {},
   "source": [
    "## Bosons: enumeration of the multi-particle states and their energies"
   ]
  },
  {
   "cell_type": "markdown",
   "metadata": {},
   "source": [
    "# Exercise\n",
    "\n",
    "Calculate the degeneracy of the energy levels for $E_{tot} \\leq 50$, for a 3d harmonic trap.\n",
    "Print out each energy level with its index, its energy, and the associated $E_x$, $E_y$, $E_z$ values."
   ]
  },
  {
   "cell_type": "code",
   "execution_count": null,
   "metadata": {
    "collapsed": false
   },
   "outputs": [],
   "source": [
    "Emax = 50\n",
    "States = []\n",
    "for E_x in range(Emax):\n",
    "    for E_y in range(Emax):\n",
    "        for E_z in range(Emax):\n",
    "            States.append(((E_x + E_y + E_z), (E_x, E_y, E_z)))\n",
    "States.sort()\n",
    "for k in range(50):\n",
    "    print '%3d' % k, States[k][0], States[k][1]"
   ]
  },
  {
   "cell_type": "markdown",
   "metadata": {},
   "source": [
    "## Thermodynamics of the five-boson bounded trap model"
   ]
  },
  {
   "cell_type": "markdown",
   "metadata": {},
   "source": [
    "## EXERCISE\n",
    "Based on the result above, compute the number of distinct bosonic states, the partition function Z, the expectation value of energy $<E>$, and the expectation value of the number of particles in the ground state $<N_0>$.\n",
    "\n",
    "Print out the total number of distinct states.\n",
    "Display the figure showing $<N_0>$ as a function of T, for the temperatures defined below."
   ]
  },
  {
   "cell_type": "code",
   "execution_count": null,
   "metadata": {
    "collapsed": true
   },
   "outputs": [],
   "source": [
    "temps = np.linspace(0.1, 1.0, num=10, endpoint=True)"
   ]
  },
  {
   "cell_type": "code",
   "execution_count": null,
   "metadata": {
    "collapsed": false
   },
   "outputs": [],
   "source": [
    "# Use previous results in order to fill in the energy levels\n",
    "Energy = [0.0] + [1.0] * 3 + [2.0] * 6 + [3.0] * 10 + [4.0] * 15\n",
    "\n",
    "def get_statistics(beta):\n",
    "    #beta = 1.0\n",
    "    n_states = 0\n",
    "    Z = 0.0\n",
    "    N0_mean = 0.0\n",
    "    E_mean = 0.0\n",
    "\n",
    "    for s_0 in range(35):\n",
    "        for s_1 in range(s_0, 35):\n",
    "            for s_2 in range(s_1, 35):\n",
    "                for s_3 in range(s_2, 35):\n",
    "                    for s_4 in range(s_3, 35):\n",
    "                        n_states += 1\n",
    "                        state = [s_0, s_1, s_2, s_3, s_4]\n",
    "                        E = sum(Energy[s] for s in state)\n",
    "                        Z += math.exp(-beta * E)\n",
    "                        E_mean += E * math.exp(-beta * E)\n",
    "                        N0_mean += state.count(0) * math.exp(-beta * E)\n",
    "    return (n_states, Z, E_mean / Z / 5.0, N0_mean / Z / 5.0)\n",
    "\n",
    "temps = np.linspace(0.1, 1.0, num=10, endpoint=True)\n",
    "betas = 1.0 / temps\n",
    "\n",
    "condensate_fractions = []\n",
    "for beta in betas:\n",
    "    n_states, Z, E_mean, N0_mean = get_statistics(beta)\n",
    "    condensate_fractions.append(N0_mean)\n",
    "print \"Total number of different states: \", n_states"
   ]
  },
  {
   "cell_type": "code",
   "execution_count": null,
   "metadata": {
    "collapsed": false
   },
   "outputs": [],
   "source": [
    "pylab.plot(temps, condensate_fractions, 'b-')\n",
    "pylab.xlabel('$T$', fontsize=18)\n",
    "pylab.ylabel('$<N_0>$', fontsize=18)\n",
    "pylab.title('3D Harmonic path')\n",
    "pylab.ylim(0.0, 1.1)\n",
    "pylab.show()\n",
    "pylab.close()"
   ]
  }
 ],
 "metadata": {
  "kernelspec": {
   "display_name": "Python 2",
   "language": "python",
   "name": "python2"
  },
  "language_info": {
   "codemirror_mode": {
    "name": "ipython",
    "version": 2
   },
   "file_extension": ".py",
   "mimetype": "text/x-python",
   "name": "python",
   "nbconvert_exporter": "python",
   "pygments_lexer": "ipython2",
   "version": "2.7.10"
  }
 },
 "nbformat": 4,
 "nbformat_minor": 0
}
