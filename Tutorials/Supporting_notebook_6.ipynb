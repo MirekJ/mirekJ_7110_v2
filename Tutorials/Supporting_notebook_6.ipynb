{
 "cells": [
  {
   "cell_type": "code",
   "execution_count": null,
   "metadata": {
    "collapsed": true
   },
   "outputs": [],
   "source": [
    "%matplotlib inline\n",
    "import scipy.special, cmath\n",
    "import random, math, pylab, os\n",
    "import numpy as np\n",
    "import matplotlib.pyplot as plt\n",
    "import matplotlib\n",
    "import pylab\n",
    "import mpl_toolkits.mplot3d"
   ]
  },
  {
   "cell_type": "markdown",
   "metadata": {},
   "source": [
    "# Trotter approximation: application to the real time evolution of the system"
   ]
  },
  {
   "cell_type": "markdown",
   "metadata": {},
   "source": [
    "In order to study the real time evolution of a quantum system, we need to revert to the description using wave functions, and the Schrodinger equation $i \\dfrac{\\partial}{\\partial t} \\psi(t) = H  \\psi(t)$, where $H$ is the Hamiltonian of the system. This equation can be formally solved as $\\psi(t) = \\exp(-i t H) \\psi_0$. In this form, $exp(-i t H)$ appears as a time-evolution operator. Moreover, the substitution $it \\to \\beta$, i.e., the use of \"imaginary time\", transforms this time-evolution operator into the density matrix operator. This formal similarity allows us to draw a parallel between the results established in equilibrium as a function of inverse temperature, and the time evolution of the system. In particular, the results related to the Trotter expansion can be expanded\n",
    "\n",
    "This time, we can decompose the full time interval $[0, \\ldots, t]$ into steps of size $\\Delta t = t / N$, to obtain $$ \\exp(-itH) = \\prod\\limits_{k=1}^{N}\\exp(-i \\Delta t H) = \\prod\\limits_{k=1}^{N}\\exp(-i \\Delta t (H^{\\text{free}} + V(x))$$\n",
    "\n",
    "Now, application of the Trotter decomposition, with $\\beta \\to i\\Delta t$, leads to $$\\exp(-i \\Delta t (H^{\\text{free}} + V(x)) = \\exp(-i \\frac{\\Delta t}{2} V)  \\exp(-i \\Delta t H^{\\text{free}}) \\exp(-i \\frac{\\Delta t}{2} V) + \\mathcal{O}(\\Delta t^3)$$\n",
    "\n",
    "After handling the middle term in momentum space, we find that $\\exp(-i \\Delta t H^{\\text{free}}) \\hat{\\psi}(p, t) = \\exp(-i \\Delta t \\frac{p^2}{2}) \\hat{\\psi}(p, t)$. With this, we are able to devise an algorithm for the determination of the time-evolution of the system."
   ]
  },
  {
   "cell_type": "markdown",
   "metadata": {},
   "source": [
    "Provided: The grids in real and momentum space."
   ]
  },
  {
   "cell_type": "code",
   "execution_count": null,
   "metadata": {
    "collapsed": false
   },
   "outputs": [],
   "source": [
    "# Total number of grid points in real space and in momentum space.\n",
    "x_steps = 800\n",
    "# max and min values of x\n",
    "x_min = -12.0\n",
    "x_max = 40.0\n",
    "# definition of the grid for discretization of the wave function in x coordinates\n",
    "grid_x = np.linspace(x_min, x_max, x_steps)\n",
    "dx  = grid_x[1] - grid_x[0]\n",
    "# definition of the grid for discretization of the wave function in momentum space\n",
    "grid_p = np.linspace(x_min, x_max, x_steps)\n",
    "dp  = grid_p[1] - grid_p[0]"
   ]
  },
  {
   "cell_type": "markdown",
   "metadata": {},
   "source": [
    "Provided: Fourier transforms, backwards and forwards."
   ]
  },
  {
   "cell_type": "code",
   "execution_count": null,
   "metadata": {
    "collapsed": true
   },
   "outputs": [],
   "source": [
    "def fourier_x_to_p(phi_x, dx):\n",
    "    phi_p = [(phi_x * np.exp(-1j * p * grid_x)).sum() * dx for p in grid_p]\n",
    "    return np.array(phi_p)\n",
    "\n",
    "def fourier_p_to_x(phi_p, dp):\n",
    "    phi_x = [(phi_p * np.exp(1j * x * grid_p)).sum() * dp for x in grid_x]\n",
    "    return np.array(phi_x) /  (2.0 * np.pi)"
   ]
  },
  {
   "cell_type": "markdown",
   "metadata": {},
   "source": [
    "Provided: Specific shape of the potential: Two barriers\n",
    "* One \"inifinite\" barrier at $x = -8$, \n",
    "* One small barrier at $x = 0$"
   ]
  },
  {
   "cell_type": "code",
   "execution_count": null,
   "metadata": {
    "collapsed": true
   },
   "outputs": [],
   "source": [
    "def funct_potential(x):\n",
    "    if x < -8.0:    return (x + 8.0) ** 2\n",
    "    elif x <= -1.0: return 0.0\n",
    "    elif x < 1.0:   return np.exp(-1.0 / (1.0 - x ** 2)) / np.exp(-1.0)\n",
    "    else:           return 0.0"
   ]
  },
  {
   "cell_type": "markdown",
   "metadata": {},
   "source": [
    "Provided: graphical representation of the solution.\n",
    "* x is the grid provided in the skeleton\n",
    "* proba is the presence probability of the particle at $x$, i.e. the square of the modulus of the normalized wave function, in the form of numpy array.\n",
    "* pot is the potential, static, in the same form as given in the skeleton below (numpy array)\n",
    "* time is the current time value, a real number.\n",
    "* time_step is the number of time steps we have executed to reach the current time, an integer."
   ]
  },
  {
   "cell_type": "code",
   "execution_count": null,
   "metadata": {
    "collapsed": false
   },
   "outputs": [],
   "source": [
    "output_dir = 'snapshots_time_evolution'\n",
    "if not os.path.exists(output_dir): os.makedirs(output_dir)\n",
    "def show(x, proba, pot, time, timestep):\n",
    "    # Plot the probability of presence at x\n",
    "    pylab.plot(x, proba, 'g', linewidth = 2.0, label = '$|\\psi(x)|^2$')\n",
    "    pylab.xlim(-10, 15)\n",
    "    pylab.ylim(-0.1, 1.15)\n",
    "    # plot the potential\n",
    "    pylab.plot(x, pot, 'k', linewidth = 2.0, label = '$V(x)$')\n",
    "    pylab.xlabel('$x$', fontsize = 20)\n",
    "    # show the current time in the title\n",
    "    pylab.title('time = %s' % time)\n",
    "    pylab.legend(loc=1)\n",
    "    # Use the time step index to create the snapshot filename\n",
    "    pylab.savefig(output_dir + '/snapshot_%05i.png' % timestep)\n",
    "    timestep += 1\n",
    "    pylab.show()\n",
    "    pylab.clf()"
   ]
  },
  {
   "cell_type": "markdown",
   "metadata": {},
   "source": [
    "# EXERCISE: \n",
    "\n",
    "## Implement the evolution of the wave function psi0 over the elementary time interval $\\Delta_t$"
   ]
  },
  {
   "cell_type": "code",
   "execution_count": null,
   "metadata": {
    "collapsed": true
   },
   "outputs": [],
   "source": [
    "def time_step_evolution(psi0, potential, grid_x, grid_p, dx, dp, delta_t):\n",
    "    # Here, implement the steps described in class\n",
    "    return psi0"
   ]
  },
  {
   "cell_type": "markdown",
   "metadata": {},
   "source": [
    "Provided: skeleton for the main loop."
   ]
  },
  {
   "cell_type": "code",
   "execution_count": null,
   "metadata": {
    "collapsed": false
   },
   "outputs": [],
   "source": [
    "# definition of the time step\n",
    "delta_t = 0.05\n",
    "t_max = 16.0\n",
    "\n",
    "# initialization of the potential barriers\n",
    "potential = np.array([funct_potential(x) for x in grid_x])\n",
    "\n",
    "# initial state of the wave function: some random Gaussian packet\n",
    "x0 = - 8.0\n",
    "sigma = .5\n",
    "psi = np.exp(-(grid_x - x0) ** 2 / (2.0 * sigma ** 2) )\n",
    "psi /= np.sqrt( sigma * np.sqrt( np.pi ) )\n",
    "\n",
    "# time evolution\n",
    "time = 0.0\n",
    "timestep = 0\n",
    "while time < t_max:\n",
    "    if timestep % 5 == 0:\n",
    "        show(grid_x, np.absolute(psi) ** 2.0, potential, time, timestep)\n",
    "    time += delta_t\n",
    "    timestep += 1\n",
    "    psi = time_step_evolution(psi, potential, grid_x, grid_p, dx, dp, delta_t)\n",
    "print time"
   ]
  },
  {
   "cell_type": "markdown",
   "metadata": {},
   "source": [
    "# LEVY Construction"
   ]
  },
  {
   "cell_type": "markdown",
   "metadata": {},
   "source": [
    "## Zoom on $x_k$: study of the distribution $\\pi(x_k | x', x'')$"
   ]
  },
  {
   "cell_type": "code",
   "execution_count": null,
   "metadata": {
    "collapsed": false
   },
   "outputs": [],
   "source": [
    "def rho_free(x, y, beta):\n",
    "    return math.exp(-(x - y) ** 2 / (2.0 * beta))\n",
    "\n",
    "dtau_prime  = 0.1\n",
    "dtau_dprime = 0.2\n",
    "x_prime  = 0.0\n",
    "x_dprime = 1.0\n",
    "delta = 1.0                 # maximum displacement of xk\n",
    "n_steps = 1000000            # number of Monte Carlo steps\n",
    "data_hist = []\n",
    "xk = 0.0                    # initial value of xk\n",
    "\n",
    "# Metropolis algorithm\n",
    "for step in xrange(n_steps):\n",
    "    xk_new = xk + random.uniform(-delta, delta)\n",
    "    old_weight  = (rho_free(x_dprime, xk, dtau_dprime) *\n",
    "                   rho_free(xk, x_prime, dtau_prime))\n",
    "    new_weight  = (rho_free(x_dprime, xk_new, dtau_dprime) * \n",
    "                   rho_free(xk_new, x_prime, dtau_prime))\n",
    "    if random.random() < new_weight / old_weight:\n",
    "        xk = xk_new\n",
    "    data_hist.append(xk)\n",
    "\n",
    "# Known analytic form\n",
    "def pi_analytic(xk, x_prime, x_dprime, dtau_prime, dtau_dprime):\n",
    "    mean = (dtau_dprime * x_prime + dtau_prime * x_dprime) / (dtau_prime + dtau_dprime)\n",
    "    sigma = 1.0 / math.sqrt(1.0 / dtau_prime + 1.0 / dtau_dprime)\n",
    "    return math.exp(-(xk - mean) ** 2 / (2.0 * sigma ** 2)) / math.sqrt(2.0 * math.pi) / sigma\n",
    "\n",
    "pylab.title('Distribution on slice k', fontsize=18)\n",
    "histo, bin_edges, dummy = pylab.hist(data_hist, bins=100, normed=True)\n",
    "bin_centers = 0.5 * (bin_edges[1:] + bin_edges[:-1])\n",
    "pylab.plot(bin_centers, [pi_analytic(x, x_prime, x_dprime, dtau_prime, dtau_dprime) for x in bin_centers], 'r-', lw=3)\n",
    "pylab.xlabel('$x_k$', fontsize=18)\n",
    "pylab.ylabel('$\\pi(x_k)$', fontsize=18)\n",
    "pylab.savefig('plot-path_slice.pdf')"
   ]
  },
  {
   "cell_type": "markdown",
   "metadata": {},
   "source": [
    "## Levy sampling for free particle"
   ]
  },
  {
   "cell_type": "code",
   "execution_count": null,
   "metadata": {
    "collapsed": true
   },
   "outputs": [],
   "source": [
    "#padding on the y axis between label and axis\n",
    "plt.rcParams['ytick.major.pad']='10'\n",
    "\n",
    "dpi_out = 400\n",
    "fig_width = 3.39\n",
    "golden_mean = (np.sqrt(5)-1.0)/2.0    # Aesthetic ratio\n",
    "fig_height = fig_width*golden_mean # height in inches\n",
    "MAX_HEIGHT_INCHES = 8.0\n",
    "if fig_height > MAX_HEIGHT_INCHES:\n",
    "    print(\"WARNING: fig_height too large:\" + fig_height + \n",
    "          \"so will reduce to\" + MAX_HEIGHT_INCHES + \"inches.\")\n",
    "    fig_height = MAX_HEIGHT_INCHES\n",
    "#fig, ax = plt.subplots(figsize = (fig_width, fig_height), dpi=400, frameon=True)\n",
    "small_tick_size = 8\n",
    "small_label_size = 8"
   ]
  },
  {
   "cell_type": "markdown",
   "metadata": {},
   "source": [
    "## EXERCISE: Implement the Levy construction for a free particle"
   ]
  },
  {
   "cell_type": "code",
   "execution_count": null,
   "metadata": {
    "collapsed": false
   },
   "outputs": [],
   "source": [
    "beta = 1.0\n",
    "N = 50000                       # number of steps in imaginary time\n",
    "dtau = beta / N                 # elementary time step in imaginary time\n",
    "nsteps = 10                     # number of paths to be generated\n",
    "xstart, xend = 0.0, 1.0         # initial and final points\n",
    "\n",
    "for step in range(nsteps):\n",
    "    # Sample a path\n",
    "\n",
    "    fig, ax = plt.subplots(figsize = (fig_width, fig_height), dpi=400, frameon=True)\n",
    "    ax.plot(x, np.linspace(0, 1, num=N + 1, endpoint=True))"
   ]
  },
  {
   "cell_type": "markdown",
   "metadata": {},
   "source": [
    "## Continuous random walk"
   ]
  },
  {
   "cell_type": "code",
   "execution_count": null,
   "metadata": {
    "collapsed": false
   },
   "outputs": [],
   "source": [
    "beta = 4.0\n",
    "N = 50000\n",
    "sigma = math.sqrt(beta / N)\n",
    "x = [0.0]\n",
    "for k in range(N - 1):\n",
    "    x.append(random.gauss(x[-1], sigma))\n",
    "\n",
    "fig, ax = plt.subplots(figsize = (fig_width, fig_height), dpi=400, frameon=True)\n",
    "ax.plot(x, np.linspace(0, 1, num=N, endpoint=True))"
   ]
  },
  {
   "cell_type": "markdown",
   "metadata": {},
   "source": [
    "## Path sampling for a free particle from a continuous random walk"
   ]
  },
  {
   "cell_type": "code",
   "execution_count": null,
   "metadata": {
    "collapsed": false
   },
   "outputs": [],
   "source": [
    "beta = 1.0\n",
    "N = 50000\n",
    "sigma = math.sqrt(beta / N)\n",
    "xend = 1.0\n",
    "Upsilon = [0.0]\n",
    "for k in range(N):\n",
    "    Upsilon.append(random.gauss(Upsilon[-1], sigma))\n",
    "x = [0.0] + [Upsilon[k] + (xend - Upsilon[-1]) * k / float(N) for k in range(1, N + 1)]\n",
    "\n",
    "fig, ax = plt.subplots(figsize = (fig_width, fig_height), dpi=400, frameon=True)\n",
    "ax.plot(x, np.linspace(0, 1, num=N+1, endpoint=True))"
   ]
  }
 ],
 "metadata": {
  "kernelspec": {
   "display_name": "Python 2",
   "language": "python",
   "name": "python2"
  },
  "language_info": {
   "codemirror_mode": {
    "name": "ipython",
    "version": 2
   },
   "file_extension": ".py",
   "mimetype": "text/x-python",
   "name": "python",
   "nbconvert_exporter": "python",
   "pygments_lexer": "ipython2",
   "version": "2.7.10"
  }
 },
 "nbformat": 4,
 "nbformat_minor": 0
}
