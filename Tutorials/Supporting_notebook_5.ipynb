{
 "cells": [
  {
   "cell_type": "code",
   "execution_count": null,
   "metadata": {
    "collapsed": true
   },
   "outputs": [],
   "source": [
    "%matplotlib inline\n",
    "import scipy.special, cmath\n",
    "import random, math, pylab, os\n",
    "import numpy as np\n",
    "import matplotlib.pyplot as plt\n",
    "import matplotlib\n",
    "import pylab\n",
    "import mpl_toolkits.mplot3d"
   ]
  },
  {
   "cell_type": "code",
   "execution_count": null,
   "metadata": {
    "collapsed": true
   },
   "outputs": [],
   "source": [
    "#padding on the y axis between label and axis\n",
    "plt.rcParams['ytick.major.pad']='10'\n",
    "\n",
    "dpi_out = 400\n",
    "fig_width = 3.39\n",
    "golden_mean = (np.sqrt(5)-1.0)/2.0    # Aesthetic ratio\n",
    "fig_height = fig_width*golden_mean # height in inches\n",
    "MAX_HEIGHT_INCHES = 8.0\n",
    "if fig_height > MAX_HEIGHT_INCHES:\n",
    "    print(\"WARNING: fig_height too large:\" + fig_height + \n",
    "          \"so will reduce to\" + MAX_HEIGHT_INCHES + \"inches.\")\n",
    "    fig_height = MAX_HEIGHT_INCHES\n",
    "#fig, ax = plt.subplots(figsize = (fig_width, fig_height), dpi=400, frameon=True)\n",
    "small_tick_size = 8\n",
    "small_label_size = 8"
   ]
  },
  {
   "cell_type": "markdown",
   "metadata": {},
   "source": [
    "## Recursive calculation of eigen wave functions for the harmonic oscillator"
   ]
  },
  {
   "cell_type": "code",
   "execution_count": null,
   "metadata": {
    "collapsed": false
   },
   "outputs": [],
   "source": [
    "n_states = 50\n",
    "grid_x = [i * 0.1 for i in range(-50, 51)]\n",
    "psi = {}\n",
    "for x in grid_x:\n",
    "    psi[x] = [math.exp(-x ** 2 / 2.0) / math.pi ** 0.25]  # ground state\n",
    "    psi[x].append(math.sqrt(2.0) * x * psi[x][0])         # first excited state\n",
    "    # other excited states (through recursion):\n",
    "    for n in range(2, n_states):\n",
    "        psi[x].append(math.sqrt(2.0 / n) * x * psi[x][n - 1] -\n",
    "                      math.sqrt((n - 1.0) / n) * psi[x][n - 2])\n",
    "\n",
    "# graphics output\n",
    "for n in range(n_states):\n",
    "    shifted_psi = [psi[x][n] + n  for x in grid_x]  # vertical shift\n",
    "    pylab.plot(grid_x, shifted_psi)\n",
    "pylab.title('Harmonic oscillator wavefunctions')\n",
    "pylab.xlabel('$x$', fontsize=16)\n",
    "pylab.ylabel('$\\psi_n(x)$ (shifted)', fontsize=16)\n",
    "pylab.xlim(-5.0, 5.0)\n",
    "pylab.savefig('plot-harmonic_wavefunction.png')\n",
    "pylab.show()"
   ]
  },
  {
   "cell_type": "markdown",
   "metadata": {},
   "source": [
    "## Check that the above functions verify the Schrodinger equation"
   ]
  },
  {
   "cell_type": "code",
   "execution_count": null,
   "metadata": {
    "collapsed": false
   },
   "outputs": [],
   "source": [
    "nx = 300  # nx is even, to avoid division by zero\n",
    "L = 10.0\n",
    "dx = L / (nx - 1)\n",
    "x = [- L / 2.0 + i * dx for i in range(nx)]\n",
    "# construct wavefunctions:\n",
    "n_states = 4\n",
    "psi = [[math.exp(-x[i] ** 2 / 2.0) / math.pi ** 0.25 for i in range(nx)]]  # ground state\n",
    "psi.append([math.sqrt(2.0) * x[i] * psi[0][i] for i in range(nx)])         # first excited state\n",
    "for n in range(2, n_states):\n",
    "    psi.append([math.sqrt(2.0 / n) * x[i] * psi[n - 1][i] - \\\n",
    "                math.sqrt((n - 1.0) / n) * psi[n - 2][i] for i in range(nx)])\n",
    "# local energy check:\n",
    "H_psi_over_psi = []\n",
    "for n in range(n_states):\n",
    "    H_psi = [(- 0.5 * (psi[n][i + 1] - 2.0 * psi[n][i] + psi[n][i - 1])\n",
    "             / dx ** 2 + 0.5 * x[i] ** 2 * psi[n][i]) for i in range(1, nx - 1)]\n",
    "    H_psi_over_psi.append([H_psi[i] / psi[n][i+1] for i in range(nx - 2)])\n",
    "\n",
    "# graphics output:\n",
    "for n in range(n_states):\n",
    "    pylab.plot(x[1:-1], [n + 0.5 for i in x[1:-1]], 'k--', lw=1.5)\n",
    "    pylab.plot(x[1:-1], H_psi_over_psi[n], '-', lw=1.5)\n",
    "    pylab.xlabel('$x$', fontsize=18)\n",
    "    pylab.ylabel('$H \\psi_%i(x)/\\psi_%i(x)$' % (n, n), fontsize=18)\n",
    "    pylab.xlim(x[0], x[-1])\n",
    "    pylab.ylim(n, n + 1)\n",
    "    pylab.title('Schroedinger equation check (local energy)')\n",
    "    pylab.savefig('plot-check_schroedinger_energy-%i.png' % n)\n",
    "    pylab.show()"
   ]
  },
  {
   "cell_type": "markdown",
   "metadata": {},
   "source": [
    "# Free density matrix computation"
   ]
  },
  {
   "cell_type": "markdown",
   "metadata": {},
   "source": [
    "## Calculation using plane waves"
   ]
  },
  {
   "cell_type": "code",
   "execution_count": null,
   "metadata": {
    "collapsed": false
   },
   "outputs": [],
   "source": [
    "ntot = 21   # odd number\n",
    "beta = 1.0\n",
    "nx = 100\n",
    "L = 10.0\n",
    "x = [i * L / float(nx - 1) for i in range(nx)]\n",
    "rho_complex = []\n",
    "for i in range(nx):\n",
    "    rho_complex.append([sum(\n",
    "              math.exp(- 2.0 * beta * (math.pi * n / L) ** 2) *\n",
    "              cmath.exp(1j * 2.0 * n * math.pi * (x[i] - x[j]) / L) / L\n",
    "              for n in range(-(ntot - 1) / 2, (ntot + 1) / 2))\n",
    "              for j in range(nx)])\n",
    "rho_real = [[rho_complex[i][j].real for i in range(nx)] for j in range(nx)]\n",
    "\n",
    "# graphics output\n",
    "pylab.imshow(rho_real, extent=[0.0, L, 0.0, L], origin='lower')\n",
    "pylab.colorbar()\n",
    "pylab.title(r'$\\rho^{free}(x, y, \\beta)$, $\\beta$=%s ' % beta + '\\n' + r'obtained from wave functions',\n",
    "           fontsize = 18)\n",
    "pylab.xlabel('$x$', fontsize=16)\n",
    "pylab.ylabel('$x\\'$', fontsize=16)\n",
    "pylab.savefig('plot-periodic-complex.png')"
   ]
  },
  {
   "cell_type": "markdown",
   "metadata": {},
   "source": [
    "## Calculation using the formula for particle in a box, length $L \\to \\infty$"
   ]
  },
  {
   "cell_type": "code",
   "execution_count": null,
   "metadata": {
    "collapsed": true
   },
   "outputs": [],
   "source": [
    "# density matrix for a free particle (exact)\n",
    "def funct_rho_free(x, xp, beta):\n",
    "    return (math.exp(-(x - xp) ** 2 / (2.0 * beta)) /\n",
    "            math.sqrt(2.0 * math.pi * beta))\n",
    "\n",
    "beta = 0.1\n",
    "nx = 300\n",
    "L = 10.0\n",
    "x = [-L / 2.0 + i * L / float(nx - 1) for i in range(nx)]\n",
    "rho_free = []\n",
    "for i in range(nx):\n",
    "    rho_free.append([funct_rho_free(x[i], x[j], beta) for j in range(nx)])"
   ]
  },
  {
   "cell_type": "code",
   "execution_count": null,
   "metadata": {
    "collapsed": false
   },
   "outputs": [],
   "source": [
    "# graphics output (free particle)\n",
    "pylab.imshow(rho_free, extent=[0.0, L, 0.0, L], origin='lower')\n",
    "pylab.xlabel('$x$', fontsize=16)\n",
    "pylab.ylabel('$x\\'$', fontsize=16)\n",
    "pylab.colorbar()\n",
    "pylab.title(r'$\\beta$=%s (free)' % beta)\n",
    "pylab.savefig('plot-trotter-free.png')"
   ]
  },
  {
   "cell_type": "markdown",
   "metadata": {},
   "source": [
    "## Trotter decomposition: Application to the harmonic potential, at high temperature"
   ]
  },
  {
   "cell_type": "code",
   "execution_count": null,
   "metadata": {
    "collapsed": true
   },
   "outputs": [],
   "source": [
    "rho_free, rho_harm = [], []\n",
    "beta = 0.1\n",
    "for i in range(nx):\n",
    "    rho_free.append([funct_rho_free(x[i], x[j], beta) for j in range(nx)])\n",
    "    rho_harm.append([rho_free[i][j] * math.exp(- beta * x[i] ** 2 / 4.0 -\n",
    "                     beta * x[j] ** 2 / 4.0) for j in range(nx)])"
   ]
  },
  {
   "cell_type": "code",
   "execution_count": null,
   "metadata": {
    "collapsed": false
   },
   "outputs": [],
   "source": [
    "pylab.clf()\n",
    "# graphics output (harmonic potential)\n",
    "pylab.imshow(rho_harm, extent=[0.0, L, 0.0, L], origin='lower')\n",
    "pylab.xlabel('$x$', fontsize=16)\n",
    "pylab.ylabel('$x\\'$', fontsize=16)\n",
    "pylab.colorbar()\n",
    "pylab.title('$\\\\beta$=%s (harmonic)' % beta)\n",
    "pylab.savefig('plot-trotter-harmonic.png')"
   ]
  },
  {
   "cell_type": "markdown",
   "metadata": {},
   "source": [
    "## EXERCISE: Harmonic oscillator problem at low temperature using the Matrix-squaring algorithm"
   ]
  },
  {
   "cell_type": "code",
   "execution_count": null,
   "metadata": {
    "collapsed": true
   },
   "outputs": [],
   "source": [
    "x_max = 5.0\n",
    "nx = 100\n",
    "dx = 2.0 * x_max / (nx - 1)\n",
    "x = [i * dx for i in range(-(nx - 1) / 2, nx / 2 + 1)] \n",
    "beta_tmp = 2.0 ** (-8)                   # initial value of beta (power of 2)\n",
    "beta     = 2.0**(-1)                      # actual value of beta (power of 2)"
   ]
  },
  {
   "cell_type": "markdown",
   "metadata": {},
   "source": [
    "Calculate the 2-dimensional array rho representing the density matrix at low temperature, via the matrix-squaring algorithm. The next cell allows an easy visualization of the result."
   ]
  },
  {
   "cell_type": "code",
   "execution_count": null,
   "metadata": {
    "collapsed": false
   },
   "outputs": [],
   "source": [
    "# graphics output\n",
    "pylab.imshow(rho, extent=[-x_max, x_max, -x_max, x_max], origin='lower')\n",
    "pylab.colorbar()\n",
    "pylab.title(r'$\\beta = 2^{%i}$' % math.log(beta, 2))\n",
    "pylab.xlabel('$x$', fontsize=18)\n",
    "pylab.ylabel('$x\\'$', fontsize=18)\n",
    "pylab.savefig('plot-harmonic-rho.png')"
   ]
  },
  {
   "cell_type": "markdown",
   "metadata": {},
   "source": [
    "# Feynman path integral"
   ]
  },
  {
   "cell_type": "markdown",
   "metadata": {},
   "source": [
    "## EXERCISE: Naive sampling"
   ]
  },
  {
   "cell_type": "markdown",
   "metadata": {},
   "source": [
    "Provided: free density matrix in scalar format"
   ]
  },
  {
   "cell_type": "code",
   "execution_count": null,
   "metadata": {
    "collapsed": true
   },
   "outputs": [],
   "source": [
    "def rho_free(x, y, beta):        # free off-diagonal density matrix\n",
    "    return math.exp(-(x - y) ** 2 / (2.0 * beta))"
   ]
  },
  {
   "cell_type": "markdown",
   "metadata": {},
   "source": [
    "Provided: plotting facilities."
   ]
  },
  {
   "cell_type": "code",
   "execution_count": null,
   "metadata": {
    "collapsed": true
   },
   "outputs": [],
   "source": [
    "output_dir = 'snapshots_naive_harmonic_path'\n",
    "if not os.path.exists(output_dir): os.makedirs(output_dir)\n",
    "def show_path(x, k, x_old, Accepted, step):\n",
    "    path = x + [x[0]]\n",
    "    y_axis = range(len(x) + 1)\n",
    "    if Accepted:\n",
    "        old_path = x[:]\n",
    "        old_path[k] = x_old\n",
    "        old_path = old_path + [old_path[0]]\n",
    "        pylab.plot(old_path, y_axis, 'ro--', label='old path')\n",
    "    pylab.plot(path, y_axis, 'bo-', label='new path')\n",
    "    pylab.legend()\n",
    "    pylab.xlim(-5.0, 5.0)\n",
    "    pylab.xlabel('$x$', fontsize=14)\n",
    "    pylab.ylabel('$\\\\tau$', fontsize=14)\n",
    "    pylab.title('Naive path integral Monte Carlo, step %i' % step)\n",
    "    pylab.show()\n",
    "    pylab.savefig(output_dir + '/snapshot_%05i.png' % step)\n",
    "    pylab.clf()"
   ]
  },
  {
   "cell_type": "code",
   "execution_count": null,
   "metadata": {
    "collapsed": false
   },
   "outputs": [],
   "source": [
    "beta = 4.0\n",
    "N = 8                                                # number of slices\n",
    "dtau = beta / N\n",
    "delta = 1.0                                          # maximum displacement on one slice\n",
    "n_steps = 30                                         # number of Monte Carlo steps\n",
    "x = [random.uniform(-1.0, 1.0) for k in range(N)]   # initial path\n",
    "show_path(x, 0, 0.0, False, 0)"
   ]
  },
  {
   "cell_type": "markdown",
   "metadata": {},
   "source": [
    "Implement the local MCMC algorithm presented in class, using n_steps steps. Use the plotting facility provided to plot the evolution of the path as the algorithm sample the space of paths."
   ]
  }
 ],
 "metadata": {
  "kernelspec": {
   "display_name": "Python 2",
   "language": "python",
   "name": "python2"
  },
  "language_info": {
   "codemirror_mode": {
    "name": "ipython",
    "version": 2
   },
   "file_extension": ".py",
   "mimetype": "text/x-python",
   "name": "python",
   "nbconvert_exporter": "python",
   "pygments_lexer": "ipython2",
   "version": "2.7.10"
  }
 },
 "nbformat": 4,
 "nbformat_minor": 0
}
