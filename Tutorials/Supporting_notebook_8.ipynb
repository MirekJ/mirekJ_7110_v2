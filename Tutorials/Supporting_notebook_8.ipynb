{
 "cells": [
  {
   "cell_type": "code",
   "execution_count": null,
   "metadata": {
    "collapsed": true
   },
   "outputs": [],
   "source": [
    "%matplotlib inline\n",
    "import scipy.special, cmath\n",
    "import random, math, pylab, os\n",
    "import numpy as np\n",
    "import matplotlib.pyplot as plt\n",
    "import matplotlib\n",
    "import pylab\n",
    "import mpl_toolkits.mplot3d"
   ]
  },
  {
   "cell_type": "markdown",
   "metadata": {},
   "source": [
    "# Bosonic statistics: path integral treatement"
   ]
  },
  {
   "cell_type": "markdown",
   "metadata": {},
   "source": [
    "## MCMC sampling of permutations"
   ]
  },
  {
   "cell_type": "code",
   "execution_count": null,
   "metadata": {
    "collapsed": false
   },
   "outputs": [],
   "source": [
    "N = 3\n",
    "statistics = {}\n",
    "L = range(N)\n",
    "nsteps = 10000\n",
    "for step in range(nsteps):\n",
    "    i = random.randint(0, N - 1)\n",
    "    j = random.randint(0, N - 1)\n",
    "    L[i], L[j] = L[j], L[i]\n",
    "    if tuple(L) in statistics: \n",
    "        statistics[tuple(L)] += 1\n",
    "    else:\n",
    "        statistics[tuple(L)] = 1\n",
    "    #print L\n",
    "    #print range(N)\n",
    "    #print\n",
    "\n",
    "for item in statistics:\n",
    "    print item, statistics[item]"
   ]
  },
  {
   "cell_type": "markdown",
   "metadata": {},
   "source": [
    "## MCMC sampling for 256 bosonic particles in a harmonic trap"
   ]
  },
  {
   "cell_type": "code",
   "execution_count": null,
   "metadata": {
    "collapsed": false
   },
   "outputs": [],
   "source": [
    "import random, math, pylab, mpl_toolkits.mplot3d\n",
    " \n",
    "def levy_harmonic_path(k, beta):\n",
    "    xk = tuple([random.gauss(0.0, 1.0 / math.sqrt(2.0 *\n",
    "                math.tanh(k * beta / 2.0))) for d in range(3)])\n",
    "    x = [xk]\n",
    "    for j in range(1, k):\n",
    "        Upsilon_1 = (1.0 / math.tanh(beta) +\n",
    "                     1.0 / math.tanh((k - j) * beta))\n",
    "        Upsilon_2 = [x[j - 1][d] / math.sinh(beta) + xk[d] /\n",
    "                     math.sinh((k - j) * beta) for d in range(3)]\n",
    "        x_mean = [Upsilon_2[d] / Upsilon_1 for d in range(3)]\n",
    "        sigma = 1.0 / math.sqrt(Upsilon_1)\n",
    "        dummy = [random.gauss(x_mean[d], sigma) for d in range(3)]\n",
    "        x.append(tuple(dummy))\n",
    "    return x\n",
    " \n",
    "def rho_harm(x, xp, beta):\n",
    "    Upsilon_1 = sum((x[d] + xp[d]) ** 2 / 4.0 *\n",
    "                    math.tanh(beta / 2.0) for d in range(3))\n",
    "    Upsilon_2 = sum((x[d] - xp[d]) ** 2 / 4.0 /\n",
    "                    math.tanh(beta / 2.0) for d in range(3))\n",
    "    return math.exp(- Upsilon_1 - Upsilon_2)\n",
    "\n",
    "N = 256\n",
    "T_star = 0.6\n",
    "beta = 1.0 / (T_star * N ** (1.0 / 3.0))\n",
    "nsteps = 40000\n",
    "positions = {}\n",
    "\n",
    "# initialize the positions of the particles with Levy paths of length 1\n",
    "for j in range(N):\n",
    "    a = levy_harmonic_path(1, beta)\n",
    "    positions[a[0]] = a[0]\n",
    "    \n",
    "for step in range(nsteps):\n",
    "    # select a random particle...\n",
    "    boson_a = random.choice(positions.keys())\n",
    "    perm_cycle = []\n",
    "    # ... and determine the cycle it belongs to\n",
    "    while True:\n",
    "        perm_cycle.append(boson_a)\n",
    "        boson_b = positions.pop(boson_a)\n",
    "        if boson_b == perm_cycle[0]:\n",
    "            break\n",
    "        else:\n",
    "            boson_a = boson_b\n",
    "    # measure the length of this cycle\n",
    "    k = len(perm_cycle)\n",
    "    # and resample this cycle, as a Levy path of length k at temperature beta\n",
    "    perm_cycle = levy_harmonic_path(k, beta)\n",
    "    # update the positions dictionary\n",
    "    positions[perm_cycle[-1]] = perm_cycle[0]\n",
    "    for j in range(len(perm_cycle) - 1):\n",
    "        positions[perm_cycle[j]] = perm_cycle[j + 1]\n",
    "        \n",
    "    # Now sample the permutations, by trying to insert a new transposition\n",
    "    # Define the candidate transposition\n",
    "    a_1 = random.choice(positions.keys())\n",
    "    b_1 = positions.pop(a_1)\n",
    "    a_2 = random.choice(positions.keys())\n",
    "    b_2 = positions.pop(a_2)\n",
    "    # Calculate old and new weights\n",
    "    weight_new = rho_harm(a_1, b_2, beta) * rho_harm(a_2, b_1, beta)\n",
    "    weight_old = rho_harm(a_1, b_1, beta) * rho_harm(a_2, b_2, beta)\n",
    "    # perform Metropololis\n",
    "    if random.uniform(0.0, 1.0) < weight_new / weight_old:\n",
    "        positions[a_1] = b_2\n",
    "        positions[a_2] = b_1\n",
    "    else:\n",
    "        positions[a_1] = b_1\n",
    "        positions[a_2] = b_2"
   ]
  },
  {
   "cell_type": "code",
   "execution_count": null,
   "metadata": {
    "collapsed": false
   },
   "outputs": [],
   "source": [
    "%matplotlib notebook\n",
    "\n",
    "fig = pylab.figure()\n",
    "ax = mpl_toolkits.mplot3d.axes3d.Axes3D(fig)\n",
    "ax.set_aspect('equal')\n",
    "list_colors = ['b', 'g', 'r', 'c', 'm', 'y', 'k']\n",
    "n_colors = len(list_colors)\n",
    "dict_colors = {}\n",
    "i_color = 0\n",
    "# find and plot permutation cycles:\n",
    "while positions:\n",
    "    x, y, z = [], [], []\n",
    "    starting_boson = positions.keys()[0]\n",
    "    boson_old = starting_boson\n",
    "    while True:\n",
    "        x.append(boson_old[0])\n",
    "        y.append(boson_old[1])\n",
    "        z.append(boson_old[2])\n",
    "        boson_new = positions.pop(boson_old)\n",
    "        if boson_new == starting_boson:\n",
    "            break\n",
    "        else:\n",
    "            boson_old = boson_new\n",
    "    len_cycle = len(x)\n",
    "    if len_cycle > 2:\n",
    "        x.append(x[0])\n",
    "        y.append(y[0])\n",
    "        z.append(z[0])\n",
    "    if len_cycle in dict_colors:\n",
    "        color = dict_colors[len_cycle]\n",
    "        ax.plot(x, y, z, color + '+-', lw=0.75)\n",
    "    else:\n",
    "        color = list_colors[i_color]\n",
    "        i_color = (i_color + 1) % n_colors\n",
    "        dict_colors[len_cycle] = color\n",
    "        ax.plot(x, y, z, color + '+-', label='k=%i' % len_cycle, lw=0.75)\n",
    "    \n",
    "# finalize plot\n",
    "pylab.title('$N=%i$, $T^*=%s$' % (N, T_star))\n",
    "pylab.legend()\n",
    "ax.set_xlabel('$x$', fontsize=16)\n",
    "ax.set_ylabel('$y$', fontsize=16)\n",
    "ax.set_zlabel('$z$', fontsize=16)\n",
    "ax.set_xlim3d([-8, 8])\n",
    "ax.set_ylim3d([-8, 8])\n",
    "ax.set_zlim3d([-8, 8])\n",
    "pylab.savefig('snapshot_bosons_3d_N%04i_Tstar%04.2f.png' % (N, T_star))\n",
    "pylab.show()"
   ]
  },
  {
   "cell_type": "markdown",
   "metadata": {},
   "source": [
    "# Analytic approach and direct sampling"
   ]
  },
  {
   "cell_type": "markdown",
   "metadata": {},
   "source": [
    "## Cycle length distribution for uniform permutations: MCMC calculation"
   ]
  },
  {
   "cell_type": "code",
   "execution_count": null,
   "metadata": {
    "collapsed": false
   },
   "outputs": [],
   "source": [
    "%matplotlib inline\n",
    "N = 20\n",
    "stats = [0] * (N + 1)\n",
    "L = range(N)\n",
    "nsteps = 1000000\n",
    "for step in range(nsteps):\n",
    "    # sample the permutations\n",
    "    i = random.randint(0, N - 1)\n",
    "    j = random.randint(0, N - 1)\n",
    "    L[i], L[j] = L[j], L[i]\n",
    "    # once we have done enough steps, do a measurement\n",
    "    # of cycle length statistics\n",
    "    if step % 100 == 0: \n",
    "        cycle_dict = {}\n",
    "        for k in range(N):\n",
    "            cycle_dict[k] = L[k]\n",
    "        while cycle_dict != {}:\n",
    "            starting_element = cycle_dict.keys()[0]\n",
    "            cycle_length = 0\n",
    "            old_element = starting_element\n",
    "            while True:\n",
    "                cycle_length += 1\n",
    "                new_element = cycle_dict.pop(old_element)\n",
    "                if new_element == starting_element:\n",
    "                    break\n",
    "                else:\n",
    "                    old_element = new_element\n",
    "            stats[cycle_length] += 1"
   ]
  },
  {
   "cell_type": "code",
   "execution_count": null,
   "metadata": {
    "collapsed": false
   },
   "outputs": [],
   "source": [
    "pylab.plot(range(1, N + 1), stats[1:], 'b-')\n",
    "pylab.plot(np.arange(1, N + 1), stats[1] / np.arange(1, N+1), 'rv--')\n",
    "pylab.xlabel(r'cycle length $k$', fontsize=16)\n",
    "pylab.ylabel('cycle probability $\\pi_k$', fontsize=16)\n",
    "pylab.title('Equiprobable permutations: \\n Cycle length distribution')\n",
    "pylab.xlim(0, 20)\n",
    "pylab.show()\n",
    "pylab.close()"
   ]
  },
  {
   "cell_type": "markdown",
   "metadata": {},
   "source": [
    "# Canonic recursion for bosonic partition function"
   ]
  },
  {
   "cell_type": "code",
   "execution_count": null,
   "metadata": {
    "collapsed": true
   },
   "outputs": [],
   "source": [
    "def z(k, beta):\n",
    "    return 1.0 / (1.0 - math.exp(- k * beta)) ** 3\n",
    "\n",
    "def canonic_recursion(N, beta):\n",
    "    Z = [1.0]\n",
    "    for M in range(1, N + 1):\n",
    "        Z.append(sum(Z[k] * z(M - k, beta) for k in range(M)) / M)\n",
    "    return Z"
   ]
  },
  {
   "cell_type": "markdown",
   "metadata": {},
   "source": [
    "## From last week: numerical estimate of $Z$ in the bounded trap model"
   ]
  },
  {
   "cell_type": "code",
   "execution_count": null,
   "metadata": {
    "collapsed": true
   },
   "outputs": [],
   "source": [
    "Energy = [0.0] + [1.0] * 3 + [2.0] * 6 + [3.0] * 10 + [4.0] * 15\n",
    "\n",
    "def get_statistics(beta):\n",
    "    #beta = 1.0\n",
    "    n_states = 0\n",
    "    Z = 0.0\n",
    "    N0_mean = 0.0\n",
    "    E_mean = 0.0\n",
    "\n",
    "    for s_0 in range(35):\n",
    "        for s_1 in range(s_0, 35):\n",
    "            for s_2 in range(s_1, 35):\n",
    "                for s_3 in range(s_2, 35):\n",
    "                    for s_4 in range(s_3, 35):\n",
    "                        n_states += 1\n",
    "                        state = [s_0, s_1, s_2, s_3, s_4]\n",
    "                        E = sum(Energy[s] for s in state)\n",
    "                        Z += math.exp(-beta * E)\n",
    "                        E_mean += E * math.exp(-beta * E)\n",
    "                        N0_mean += state.count(0) * math.exp(-beta * E)\n",
    "    return (n_states, Z, E_mean / Z / 5.0, N0_mean / Z / 5.0)"
   ]
  },
  {
   "cell_type": "markdown",
   "metadata": {},
   "source": [
    "## Comparison of analytic vs numeric result for the partition function"
   ]
  },
  {
   "cell_type": "code",
   "execution_count": null,
   "metadata": {
    "collapsed": false
   },
   "outputs": [],
   "source": [
    "print canonic_recursion(5, 2.0)\n",
    "print get_statistics(2.0)"
   ]
  },
  {
   "cell_type": "markdown",
   "metadata": {},
   "source": [
    "## Cycle length distribution for weights of permutation given by single-particle partition function at $k \\beta$"
   ]
  },
  {
   "cell_type": "code",
   "execution_count": null,
   "metadata": {
    "collapsed": true
   },
   "outputs": [],
   "source": [
    "N = 256\n",
    "T_star = 0.6\n",
    "T =  N ** (1.0 / 3.0) * T_star\n",
    "beta = 1.0 / T\n",
    "Z = canonic_recursion(N, beta)\n",
    "pi_k = [(z(k, beta) * Z[N - k] / Z[-1]) / float(N) for k in range(1, N + 1)]"
   ]
  },
  {
   "cell_type": "code",
   "execution_count": null,
   "metadata": {
    "collapsed": false
   },
   "outputs": [],
   "source": [
    "# graphics output\n",
    "pylab.plot(range(1, N + 1), pi_k, 'b-', lw=2.5)\n",
    "pylab.ylim(0.0, 0.01)\n",
    "pylab.xlabel('cycle length $k$', fontsize=16)\n",
    "pylab.ylabel('cycle probability $\\pi_k$', fontsize=16)\n",
    "pylab.title('Ideal bosons: \\n Cycle length distribution ($N=%i$, $T^*=%s$)' % (N, T_star), fontsize=16)\n",
    "pylab.savefig('plot-prob_cycle_length.png')"
   ]
  },
  {
   "cell_type": "markdown",
   "metadata": {},
   "source": [
    "# EXERCISE : implement the calculation of the condensate fraction"
   ]
  },
  {
   "cell_type": "markdown",
   "metadata": {},
   "source": [
    "## Condensate fraction"
   ]
  },
  {
   "cell_type": "code",
   "execution_count": null,
   "metadata": {
    "collapsed": true
   },
   "outputs": [],
   "source": [
    "def z(k, beta):\n",
    "    return 1.0 / (1.0 - math.exp(- k * beta)) ** 3\n",
    "\n",
    "def get_condensate_fraction(N, beta):\n",
    "    # TO IMPLEMENT"
   ]
  },
  {
   "cell_type": "markdown",
   "metadata": {},
   "source": [
    "## Test: plot the results for different temperatures"
   ]
  },
  {
   "cell_type": "code",
   "execution_count": null,
   "metadata": {
    "collapsed": false
   },
   "outputs": [],
   "source": [
    "N = 256\n",
    "finesse = 50\n",
    "fracs = []\n",
    "for T_star in np.linspace(0.1, 1.0, num=finesse):\n",
    "    T =  N ** (1.0 / 3.0) * T_star\n",
    "    beta = 1.0 / T\n",
    "    fracs.append(get_condensate_fraction(N, beta)) "
   ]
  },
  {
   "cell_type": "code",
   "execution_count": null,
   "metadata": {
    "collapsed": false
   },
   "outputs": [],
   "source": [
    "# graphics output\n",
    "pylab.plot(np.linspace(0.1, 1.0, num=finesse), fracs, 'b-', lw=2.5)\n",
    "#pylab.ylim(0.0, 0.01)\n",
    "pylab.xlabel('$T^*$', fontsize=16)\n",
    "pylab.ylabel('$<N_0>$', fontsize=16)\n",
    "pylab.title('Ideal bosons: \\n Condensate fraction ($N=%i$)' % (N), fontsize=16)\n",
    "pylab.savefig('plot-prob_cycle_length.png')"
   ]
  },
  {
   "cell_type": "markdown",
   "metadata": {},
   "source": [
    "# Direct sampling"
   ]
  },
  {
   "cell_type": "code",
   "execution_count": null,
   "metadata": {
    "collapsed": true
   },
   "outputs": [],
   "source": [
    "def z(k, beta):\n",
    "    return (1.0 - math.exp(- k * beta)) ** (-3)\n",
    "\n",
    "def canonic_recursion(N, beta):\n",
    "    Z = [1.0]\n",
    "    for M in range(1, N + 1):\n",
    "        Z.append(sum(Z[k] * z(M - k, beta) for k in range(M)) / M)\n",
    "    return Z\n",
    "\n",
    "def make_pi_list(Z, M):\n",
    "    pi_list = [0.0] + [z(k, beta) * Z[M - k] / Z[M] / M for k  in range(1, M + 1)]\n",
    "    pi_cumulative = [0.0]\n",
    "    for k in range(1, M + 1):\n",
    "        pi_cumulative.append(pi_cumulative[k - 1] + pi_list[k])\n",
    "    return pi_cumulative\n",
    "\n",
    "def naive_tower_sample(pi_cumulative):\n",
    "    eta = random.uniform(0.0, 1.0)\n",
    "    for k in range(len(pi_cumulative)):\n",
    "        if eta < pi_cumulative[k]:\n",
    "            break\n",
    "    return k\n",
    "\n",
    "def levy_harmonic_path(dtau, N): \n",
    "    beta = N * dtau\n",
    "    x_N = random.gauss(0.0, 1.0 / math.sqrt(2.0 * math.tanh(beta / 2.0)))\n",
    "    x = [x_N]\n",
    "    for k in range(1, N):\n",
    "        dtau_prime = (N - k) * dtau\n",
    "        Upsilon_1 = 1.0 / math.tanh(dtau) + 1.0 / math.tanh(dtau_prime)\n",
    "        Upsilon_2 = x[k - 1] / math.sinh(dtau) + x_N / math.sinh(dtau_prime)\n",
    "        x_mean = Upsilon_2 / Upsilon_1\n",
    "        sigma = 1.0 / math.sqrt(Upsilon_1)\n",
    "        x.append(random.gauss(x_mean, sigma))\n",
    "    return x"
   ]
  },
  {
   "cell_type": "markdown",
   "metadata": {},
   "source": [
    "# EXERCISE : implement get_direct_bec_config"
   ]
  },
  {
   "cell_type": "code",
   "execution_count": null,
   "metadata": {
    "collapsed": false
   },
   "outputs": [],
   "source": [
    "def get_direct_bec_config(N, beta):\n",
    "    # TO IMPLEMENT"
   ]
  },
  {
   "cell_type": "markdown",
   "metadata": {},
   "source": [
    "## Test: plot the results for different temperatures"
   ]
  },
  {
   "cell_type": "code",
   "execution_count": null,
   "metadata": {
    "collapsed": false
   },
   "outputs": [],
   "source": [
    "#Number of particles\n",
    "N = 512\n",
    "# Relative temperature\n",
    "T_star = 0.2\n",
    "T =  N ** (1.0 / 3.0) * T_star\n",
    "beta = 1.0 / T\n",
    "\n",
    "x_config, y_config, z_config = get_direct_bec_config(N, beta)"
   ]
  },
  {
   "cell_type": "code",
   "execution_count": null,
   "metadata": {
    "collapsed": false
   },
   "outputs": [],
   "source": [
    "%matplotlib notebook\n",
    "\n",
    "fig = pylab.figure()\n",
    "ax = mpl_toolkits.mplot3d.axes3d.Axes3D(fig)\n",
    "ax.set_aspect('equal')\n",
    "# finalize plot\n",
    "pylab.title('$N=%i$, $T^*=%s$' % (N, T_star))\n",
    "ax.plot(x_config, y_config, z_config, 'bo', lw=0.75)\n",
    "ax.set_xlabel('$x$', fontsize=16)\n",
    "ax.set_ylabel('$y$', fontsize=16)\n",
    "ax.set_zlabel('$z$', fontsize=16)\n",
    "ax.set_xlim3d([-8, 8])\n",
    "ax.set_ylim3d([-8, 8])\n",
    "ax.set_zlim3d([-8, 8])\n",
    "pylab.legend()\n",
    "pylab.savefig('snapshot_bosons_3d_N%04i_Tstar%04.2f.png' % (N, T_star))\n",
    "pylab.show()"
   ]
  }
 ],
 "metadata": {
  "kernelspec": {
   "display_name": "Python 2",
   "language": "python",
   "name": "python2"
  },
  "language_info": {
   "codemirror_mode": {
    "name": "ipython",
    "version": 2
   },
   "file_extension": ".py",
   "mimetype": "text/x-python",
   "name": "python",
   "nbconvert_exporter": "python",
   "pygments_lexer": "ipython2",
   "version": "2.7.10"
  }
 },
 "nbformat": 4,
 "nbformat_minor": 0
}
