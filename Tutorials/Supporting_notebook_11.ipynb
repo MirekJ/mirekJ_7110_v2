{
 "cells": [
  {
   "cell_type": "code",
   "execution_count": null,
   "metadata": {
    "collapsed": true
   },
   "outputs": [],
   "source": [
    "%matplotlib inline\n",
    "import scipy.special, cmath, scipy.stats\n",
    "import random, math, pylab, os\n",
    "import numpy as np\n",
    "import matplotlib.pyplot as plt\n",
    "import matplotlib\n",
    "import pylab\n",
    "import mpl_toolkits.mplot3d\n",
    "from random import gauss\n",
    "from math import exp, log, sqrt"
   ]
  },
  {
   "cell_type": "code",
   "execution_count": null,
   "metadata": {
    "collapsed": true
   },
   "outputs": [],
   "source": [
    "import matplotlib.pyplot as plt\n",
    "%matplotlib inline"
   ]
  },
  {
   "cell_type": "code",
   "execution_count": null,
   "metadata": {
    "collapsed": true
   },
   "outputs": [],
   "source": [
    "# Option Parameters\n",
    "# Initial price of the underlying\n",
    "S0 = 100.0\n",
    "# Constant annual risk-free rate\n",
    "r = 0.05\n",
    "# Constant annual volatility\n",
    "sigma = 0.2\n",
    "# Time to maturity\n",
    "T = 1.0\n",
    "# Strike price of the option\n",
    "K = 105.0"
   ]
  },
  {
   "cell_type": "markdown",
   "metadata": {},
   "source": [
    "# Black-Scholes formula"
   ]
  },
  {
   "cell_type": "code",
   "execution_count": null,
   "metadata": {
    "collapsed": true
   },
   "outputs": [],
   "source": [
    "def d_j(j, S, K, r, v, T):\n",
    "    return (log(S/K) + (r + ((-1)**(j-1))*0.5*v*v)*T)/(v*(T**0.5))\n",
    "\n",
    "def vanilla_call_price(S, K, r, v, T):\n",
    "    return S*scipy.stats.norm.cdf(d_j(1, S, K, r, v, T))-K*exp(-r*T) * scipy.stats.norm.cdf(d_j(2, S, K, r, v, T))\n",
    "\n",
    "def vanilla_put_price(S, K, r, v, T):\n",
    "    return -S*scipy.stats.norm.cdf(-d_j(1, S, K, r, v, T))+K*exp(-r*T) * scipy.stats.norm.cdf(-d_j(2, S, K, r, v, T))"
   ]
  },
  {
   "cell_type": "code",
   "execution_count": null,
   "metadata": {
    "collapsed": false
   },
   "outputs": [],
   "source": [
    "print vanilla_call_price(S0, K, r, sigma, T)"
   ]
  },
  {
   "cell_type": "markdown",
   "metadata": {},
   "source": [
    "# Binomial tree approach"
   ]
  },
  {
   "cell_type": "code",
   "execution_count": null,
   "metadata": {
    "collapsed": false
   },
   "outputs": [],
   "source": [
    "# Time Parameters\n",
    "# Number of time steps\n",
    "M_binomial = 1000\n",
    "# Discrete time interval\n",
    "dt_binomial = T / M_binomial\n",
    "# discount factor per time interval\n",
    "df = math.exp(-r * dt_binomial)"
   ]
  },
  {
   "cell_type": "code",
   "execution_count": null,
   "metadata": {
    "collapsed": true
   },
   "outputs": [],
   "source": [
    "# Binomial Parameters\n",
    "u = math.exp(sigma * math.sqrt(dt_binomial))  # up-movement\n",
    "d = 1 / u  # down-movement\n",
    "q = (math.exp(r * dt_binomial) - d) / (u - d)  # risk-adjusted synthetic up probability"
   ]
  },
  {
   "cell_type": "markdown",
   "metadata": {},
   "source": [
    "## Efficient implementation: numpy"
   ]
  },
  {
   "cell_type": "code",
   "execution_count": null,
   "metadata": {
    "collapsed": true
   },
   "outputs": [],
   "source": [
    "def binom_np(initial_value, nb_steps, strike):\n",
    "    # Index Levels with NumPy\n",
    "    mu = np.arange(nb_steps + 1)\n",
    "    mu = np.resize(mu, (nb_steps + 1, nb_steps + 1))\n",
    "    md = np.transpose(mu)\n",
    "    mu = u ** (mu - md)\n",
    "    md = d ** md\n",
    "    S = initial_value * mu * md\n",
    "    # Valuation Loop\n",
    "    V = np.maximum(S - strike, 0)\n",
    "    Qu = np.zeros((nb_steps + 1, nb_steps + 1), dtype=np.float64)\n",
    "    Qu[:, :] = q  \n",
    "    Qd = 1 - Qu \n",
    "    z = 0\n",
    "    for t in range(nb_steps - 1, -1, -1):  # backwards iteration\n",
    "        V[0:nb_steps - z, t] = (Qu[0:nb_steps - z, t] * V[0:nb_steps - z, t + 1]\n",
    "                                + Qd[0:nb_steps - z, t] * V[1:nb_steps - z + 1, t + 1]) * df\n",
    "        z += 1\n",
    "    return V[0, 0]"
   ]
  },
  {
   "cell_type": "code",
   "execution_count": null,
   "metadata": {
    "collapsed": false
   },
   "outputs": [],
   "source": [
    "%time C = binom_np(S0, M_binomial, K)\n",
    "round(C, 3)"
   ]
  },
  {
   "cell_type": "markdown",
   "metadata": {},
   "source": [
    "## More elementary approach: EXERCISE!"
   ]
  },
  {
   "cell_type": "code",
   "execution_count": null,
   "metadata": {
    "collapsed": true
   },
   "outputs": [],
   "source": [
    "def binom_py(initial_value, nb_steps, strike):\n",
    "    # LOOP 1 - Index Levels\n",
    "    S = np.zeros((nb_steps + 1, nb_steps + 1), dtype=np.float64)  # index level array\n",
    "    S[0, 0] = initial_value\n",
    "    z1 = 0\n",
    "    for j in xrange(1, nb_steps + 1, 1):\n",
    "        z1 += 1\n",
    "        for i in xrange(z1 + 1):\n",
    "            S[i, j] = S[0, 0] * (u ** j) * (d ** (i * 2)) \n",
    "            \n",
    "    # LOOP 2 - Inner Values\n",
    "    iv = np.zeros((nb_steps + 1, nb_steps + 1), dtype=np.float64)  # inner value array\n",
    "    # TODO Fill in the iv array\n",
    "    \n",
    "    # LOOP 3 - Valuation\n",
    "    pv = np.zeros((nb_steps + 1, nb_steps + 1), dtype=np.float64)  # present value array\n",
    "    # TODO Fill in the pv array\n",
    "    \n",
    "    return pv[0, 0]"
   ]
  },
  {
   "cell_type": "markdown",
   "metadata": {},
   "source": [
    "## Check your result"
   ]
  },
  {
   "cell_type": "code",
   "execution_count": null,
   "metadata": {
    "collapsed": false
   },
   "outputs": [],
   "source": [
    "%time C = binom_py(S0, M_binomial, K)\n",
    "round(C, 3)"
   ]
  },
  {
   "cell_type": "markdown",
   "metadata": {},
   "source": [
    "# Monte Carlo approach"
   ]
  },
  {
   "cell_type": "code",
   "execution_count": null,
   "metadata": {
    "collapsed": true
   },
   "outputs": [],
   "source": [
    "# Use smaller number of steps in Monte Carlo....otherwise booom\n",
    "M_MC = 100\n",
    "dt_MC = T / M_MC"
   ]
  },
  {
   "cell_type": "markdown",
   "metadata": {},
   "source": [
    "## Elementary implementation"
   ]
  },
  {
   "cell_type": "code",
   "execution_count": null,
   "metadata": {
    "collapsed": true
   },
   "outputs": [],
   "source": [
    "# Elementary simulation of I paths with M time steps\n",
    "def genS_py(I, S0, nb_steps):\n",
    "    ''' I : number of world lines '''\n",
    "    S = []\n",
    "    # S is to be an array of arrays\n",
    "    # each array in S is a path for the security in a given world line\n",
    "    # we need to append I such paths into S and return it\n",
    "    # use z = gauss(0.0, 1.0) to generate the Wiener process\n",
    "    \n",
    "    for i in range(I):\n",
    "        # GENERATE A PATH path\n",
    "        S.append(path)\n",
    "    return S"
   ]
  },
  {
   "cell_type": "code",
   "execution_count": null,
   "metadata": {
    "collapsed": false
   },
   "outputs": [],
   "source": [
    "I = 100000\n",
    "%time S = genS_py(I, S0, M_MC)"
   ]
  },
  {
   "cell_type": "code",
   "execution_count": null,
   "metadata": {
    "collapsed": false
   },
   "outputs": [],
   "source": [
    "for i in range(20):\n",
    "    plt.plot(S[i])\n",
    "plt.xlabel('Time Steps')\n",
    "plt.ylabel('Index Level')\n",
    "plt.grid(True)"
   ]
  },
  {
   "cell_type": "markdown",
   "metadata": {},
   "source": [
    "## Note: the paths can be used for **any** payoff!"
   ]
  },
  {
   "cell_type": "code",
   "execution_count": null,
   "metadata": {
    "collapsed": false
   },
   "outputs": [],
   "source": [
    "C0 = math.exp(-r * T) * sum([max(path[-1] - K, 0) for path in S]) / I\n",
    "round(C0, 3)"
   ]
  },
  {
   "cell_type": "markdown",
   "metadata": {},
   "source": [
    "## Vectorized implementation with numpy"
   ]
  },
  {
   "cell_type": "code",
   "execution_count": null,
   "metadata": {
    "collapsed": false
   },
   "outputs": [],
   "source": [
    "# Simulation of I paths with M time steps using advanced numpy functionality\n",
    "def genS_np(I, S0, nb_steps):\n",
    "    print S0\n",
    "    ''' I : number of index level paths '''\n",
    "    S = S0 * np.exp(np.cumsum((r - 0.5 * sigma ** 2) * dt_MC\n",
    "                + sigma * np.sqrt(dt_MC) * np.random.standard_normal((I, nb_steps + 1)), axis=1))\n",
    "    return S"
   ]
  },
  {
   "cell_type": "code",
   "execution_count": null,
   "metadata": {
    "collapsed": false
   },
   "outputs": [],
   "source": [
    "%time S2 = genS_np(I, S0, M_MC)"
   ]
  },
  {
   "cell_type": "code",
   "execution_count": null,
   "metadata": {
    "collapsed": false
   },
   "outputs": [],
   "source": [
    "for i in range(20):\n",
    "    plt.plot(S2[i])\n",
    "plt.xlabel('Time Steps')\n",
    "plt.ylabel('Index Level')\n",
    "plt.grid(True)"
   ]
  },
  {
   "cell_type": "code",
   "execution_count": null,
   "metadata": {
    "collapsed": false
   },
   "outputs": [],
   "source": [
    "C0 = math.exp(-r * T) * sum([max(path[-1] - K, 0) for path in S2]) / I\n",
    "round(C0, 3)"
   ]
  }
 ],
 "metadata": {
  "kernelspec": {
   "display_name": "Python 2",
   "language": "python",
   "name": "python2"
  },
  "language_info": {
   "codemirror_mode": {
    "name": "ipython",
    "version": 2
   },
   "file_extension": ".py",
   "mimetype": "text/x-python",
   "name": "python",
   "nbconvert_exporter": "python",
   "pygments_lexer": "ipython2",
   "version": "2.7.10"
  }
 },
 "nbformat": 4,
 "nbformat_minor": 0
}
